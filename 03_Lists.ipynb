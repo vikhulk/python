{
  "nbformat": 4,
  "nbformat_minor": 0,
  "metadata": {
    "kernelspec": {
      "display_name": "Python 3",
      "language": "python",
      "name": "python3"
    },
    "language_info": {
      "codemirror_mode": {
        "name": "ipython",
        "version": 3
      },
      "file_extension": ".py",
      "mimetype": "text/x-python",
      "name": "python",
      "nbconvert_exporter": "python",
      "pygments_lexer": "ipython3",
      "version": "3.8.3"
    },
    "colab": {
      "name": "03 - Lists.ipynb",
      "provenance": []
    }
  },
  "cells": [
    {
      "cell_type": "markdown",
      "metadata": {
        "id": "tscTnbXuPcNQ"
      },
      "source": [
        "## Lists\n",
        "In Python lists are written with square brackets.\n",
        "#### Important properties of lists\n",
        "\n",
        "* Can store different data types\n",
        "* Duplicate values are allowed\n",
        "* Order is retained\n",
        "* Indexing and slicing is possible\n",
        "* Mutable"
      ]
    },
    {
      "cell_type": "code",
      "metadata": {
        "id": "ggsdQCQdPcNY"
      },
      "source": [
        "list1 = [1,2,3,4.5,5.5,\"maths\",\"python\",True,False]"
      ],
      "execution_count": 1,
      "outputs": []
    },
    {
      "cell_type": "code",
      "metadata": {
        "id": "oDHA7_7mPcNa",
        "outputId": "3ce0a01a-0e28-49dc-f083-fd978fe5e2b4"
      },
      "source": [
        "list1"
      ],
      "execution_count": null,
      "outputs": [
        {
          "data": {
            "text/plain": [
              "[1, 2, 3, 4.5, 5.5, 'maths', 'python', True, False]"
            ]
          },
          "execution_count": 2,
          "metadata": {},
          "output_type": "execute_result"
        }
      ]
    },
    {
      "cell_type": "code",
      "metadata": {
        "id": "DTCqdQbVPcNc"
      },
      "source": [
        "list2 = [1,2,3,4,5,1,1]"
      ],
      "execution_count": null,
      "outputs": []
    },
    {
      "cell_type": "code",
      "metadata": {
        "id": "Yc8JU_kTPcNd",
        "outputId": "be73a949-d8e7-470e-e3f8-3cfe51abcf45"
      },
      "source": [
        "list2"
      ],
      "execution_count": null,
      "outputs": [
        {
          "data": {
            "text/plain": [
              "[1, 2, 3, 4, 5, 1, 1]"
            ]
          },
          "execution_count": 4,
          "metadata": {},
          "output_type": "execute_result"
        }
      ]
    },
    {
      "cell_type": "code",
      "metadata": {
        "colab": {
          "base_uri": "https://localhost:8080/"
        },
        "id": "kz4z9a5NPcNe",
        "outputId": "8b7a1c9b-c216-4647-9e03-27cc2cec01c7"
      },
      "source": [
        "# check the type using type()\n",
        "list2=[2,3,4,6,7,8,9]\n",
        "\n",
        "type(list2)\n",
        "\n",
        "\n",
        "\n"
      ],
      "execution_count": 26,
      "outputs": [
        {
          "output_type": "execute_result",
          "data": {
            "text/plain": [
              "list"
            ]
          },
          "metadata": {},
          "execution_count": 26
        }
      ]
    },
    {
      "cell_type": "code",
      "metadata": {
        "colab": {
          "base_uri": "https://localhost:8080/",
          "height": 178
        },
        "id": "qmWK98SZQjU3",
        "outputId": "563e3daf-301c-4f8a-f571-bc9993174d68"
      },
      "source": [
        "(list[2]\n",
        "type(list)"
      ],
      "execution_count": 4,
      "outputs": [
        {
          "output_type": "error",
          "ename": "TypeError",
          "evalue": "ignored",
          "traceback": [
            "\u001b[0;31m---------------------------------------------------------------------------\u001b[0m",
            "\u001b[0;31mTypeError\u001b[0m                                 Traceback (most recent call last)",
            "\u001b[0;32m<ipython-input-4-4153d4548aa8>\u001b[0m in \u001b[0;36m<module>\u001b[0;34m()\u001b[0m\n\u001b[0;32m----> 1\u001b[0;31m \u001b[0mlist\u001b[0m\u001b[0;34m[\u001b[0m\u001b[0;36m2\u001b[0m\u001b[0;34m]\u001b[0m\u001b[0;34m\u001b[0m\u001b[0;34m\u001b[0m\u001b[0m\n\u001b[0m\u001b[1;32m      2\u001b[0m \u001b[0mtype\u001b[0m\u001b[0;34m(\u001b[0m\u001b[0mlist\u001b[0m\u001b[0;34m)\u001b[0m\u001b[0;34m\u001b[0m\u001b[0;34m\u001b[0m\u001b[0m\n",
            "\u001b[0;31mTypeError\u001b[0m: 'type' object is not subscriptable"
          ]
        }
      ]
    },
    {
      "cell_type": "code",
      "metadata": {
        "id": "-fuSXOUlPcNf",
        "outputId": "b49f11b5-d8f0-4267-94fe-06eca37f3c57"
      },
      "source": [
        "# to check the length of the lists\n",
        "len(list1)"
      ],
      "execution_count": null,
      "outputs": [
        {
          "data": {
            "text/plain": [
              "9"
            ]
          },
          "execution_count": 6,
          "metadata": {},
          "output_type": "execute_result"
        }
      ]
    },
    {
      "cell_type": "markdown",
      "metadata": {
        "id": "eG0JNutIPcNg"
      },
      "source": [
        "#### Indexing\n",
        "Indexing starts from 0(zero). Very much similar to what we have learnt in our previous class"
      ]
    },
    {
      "cell_type": "code",
      "metadata": {
        "id": "d5THXqybPcNh",
        "outputId": "eae5cc44-d5b5-4c37-e9a2-d371be2f8cc7"
      },
      "source": [
        "# to get the first element\n",
        "list1 = [1,2,3,4,5,6,7,8,9]\n",
        "list1[0]"
      ],
      "execution_count": null,
      "outputs": [
        {
          "data": {
            "text/plain": [
              "1"
            ]
          },
          "execution_count": 7,
          "metadata": {},
          "output_type": "execute_result"
        }
      ]
    },
    {
      "cell_type": "code",
      "metadata": {
        "id": "A8zsD5A_PcNi",
        "outputId": "ebecbd4a-318d-4817-a0a0-11c7561c8806"
      },
      "source": [
        "# to get the third element\n",
        "list1[2]"
      ],
      "execution_count": null,
      "outputs": [
        {
          "data": {
            "text/plain": [
              "3"
            ]
          },
          "execution_count": 8,
          "metadata": {},
          "output_type": "execute_result"
        }
      ]
    },
    {
      "cell_type": "code",
      "metadata": {
        "id": "idKYl4DlPcNj",
        "outputId": "f016f30b-4309-4a56-c8c1-8dd5bc3f1026"
      },
      "source": [
        "# to get the last element\n",
        "list1[8]"
      ],
      "execution_count": null,
      "outputs": [
        {
          "data": {
            "text/plain": [
              "9"
            ]
          },
          "execution_count": 9,
          "metadata": {},
          "output_type": "execute_result"
        }
      ]
    },
    {
      "cell_type": "markdown",
      "metadata": {
        "id": "yoX2h7r8PcNk"
      },
      "source": [
        "#### Slicing"
      ]
    },
    {
      "cell_type": "code",
      "metadata": {
        "id": "3QUkLBg3PcNk"
      },
      "source": [
        "# [start:stop:step]\n",
        "\n",
        "# start = starting position (default value is 0)\n",
        "# stop = end position(exclusive) (default value is end position)\n",
        "# step = step size or increment size (default value is 1)"
      ],
      "execution_count": null,
      "outputs": []
    },
    {
      "cell_type": "code",
      "metadata": {
        "id": "GGCHZvYIPcNl",
        "outputId": "2fc37064-e25d-4880-e52d-6d9aff90efcf"
      },
      "source": [
        "# to get first 5 elements \n",
        "list1[:5]"
      ],
      "execution_count": null,
      "outputs": [
        {
          "data": {
            "text/plain": [
              "[1, 2, 3, 4, 5]"
            ]
          },
          "execution_count": 11,
          "metadata": {},
          "output_type": "execute_result"
        }
      ]
    },
    {
      "cell_type": "code",
      "metadata": {
        "id": "giVW8WzKPcNm",
        "outputId": "85382248-32c3-40d8-8f0c-c0a454f5df2f"
      },
      "source": [
        "# to get last 5 elements \n",
        "list1[-5:]"
      ],
      "execution_count": null,
      "outputs": [
        {
          "data": {
            "text/plain": [
              "[5, 6, 7, 8, 9]"
            ]
          },
          "execution_count": 12,
          "metadata": {},
          "output_type": "execute_result"
        }
      ]
    },
    {
      "cell_type": "code",
      "metadata": {
        "id": "vVL5v2ZfPcNm",
        "outputId": "9df3e55e-96fd-4101-9c33-64cdb5fec6f3"
      },
      "source": [
        "# to get alternate elements \n",
        "list1 = [1,2,3,4,5,6,7,8,9]\n",
        "list1[::2]"
      ],
      "execution_count": null,
      "outputs": [
        {
          "data": {
            "text/plain": [
              "[1, 3, 5, 7, 9]"
            ]
          },
          "execution_count": 13,
          "metadata": {},
          "output_type": "execute_result"
        }
      ]
    },
    {
      "cell_type": "code",
      "metadata": {
        "id": "IuLZPS9fPcNn",
        "outputId": "ff9eedb8-4283-4c25-d024-e1c5aa427eb7"
      },
      "source": [
        "# to get every 3rd element from the starting position\n",
        "list1"
      ],
      "execution_count": null,
      "outputs": [
        {
          "data": {
            "text/plain": [
              "[1, 2, 3, 4, 5, 6, 7, 8, 9]"
            ]
          },
          "execution_count": 14,
          "metadata": {},
          "output_type": "execute_result"
        }
      ]
    },
    {
      "cell_type": "code",
      "metadata": {
        "id": "02SDiA2mPcNo",
        "outputId": "62a32c9f-1c3b-44d6-91ac-b93ea054eb33"
      },
      "source": [
        "list1[::3]"
      ],
      "execution_count": null,
      "outputs": [
        {
          "data": {
            "text/plain": [
              "[1, 4, 7]"
            ]
          },
          "execution_count": 15,
          "metadata": {},
          "output_type": "execute_result"
        }
      ]
    },
    {
      "cell_type": "markdown",
      "metadata": {
        "id": "qXjvWFqlPcNo"
      },
      "source": [
        "#### mutable"
      ]
    },
    {
      "cell_type": "code",
      "metadata": {
        "id": "fENjZlNKPcNp",
        "outputId": "f874f489-4e01-4c5d-ea55-ab6e043f02b9"
      },
      "source": [
        "# to change the first value\n",
        "list1[0] = 100\n",
        "list1"
      ],
      "execution_count": null,
      "outputs": [
        {
          "data": {
            "text/plain": [
              "[100, 2, 3, 4, 5, 6, 7, 8, 9]"
            ]
          },
          "execution_count": 16,
          "metadata": {},
          "output_type": "execute_result"
        }
      ]
    },
    {
      "cell_type": "code",
      "metadata": {
        "id": "8FjYClnNPcNp",
        "outputId": "1adb765e-9314-47d9-b06b-0f8c9aa44297"
      },
      "source": [
        "# similarly you can change any values based on index position\n",
        "list1[2] = 300\n",
        "list1"
      ],
      "execution_count": null,
      "outputs": [
        {
          "data": {
            "text/plain": [
              "[100, 2, 300, 4, 5, 6, 7, 8, 9]"
            ]
          },
          "execution_count": 17,
          "metadata": {},
          "output_type": "execute_result"
        }
      ]
    },
    {
      "cell_type": "markdown",
      "metadata": {
        "id": "y2UKrt_nPcNq"
      },
      "source": [
        "#### some inbuilt methods"
      ]
    },
    {
      "cell_type": "code",
      "metadata": {
        "id": "8PLpwfgMPcNq",
        "outputId": "f69765da-dc5a-4e0b-e1b0-8d638cb8b035"
      },
      "source": [
        "# my_list\n",
        "my_list = [1,2,3,True]\n",
        "my_list"
      ],
      "execution_count": null,
      "outputs": [
        {
          "data": {
            "text/plain": [
              "[1, 2, 3, True]"
            ]
          },
          "execution_count": 18,
          "metadata": {},
          "output_type": "execute_result"
        }
      ]
    },
    {
      "cell_type": "markdown",
      "metadata": {
        "id": "41nEVpN0PcNr"
      },
      "source": [
        "##### 1) .append(val)\n",
        "appends the value at the end of the list"
      ]
    },
    {
      "cell_type": "code",
      "metadata": {
        "id": "i0clvFxtPcNr",
        "outputId": "ef2d3c93-41ad-43ef-c2e9-517b074384b9"
      },
      "source": [
        "my_list.append(\"Python\")\n",
        "print(my_list)"
      ],
      "execution_count": null,
      "outputs": [
        {
          "name": "stdout",
          "output_type": "stream",
          "text": [
            "[1, 2, 3, True, 'Python']\n"
          ]
        }
      ]
    },
    {
      "cell_type": "code",
      "metadata": {
        "id": "tOdwRaS_PcNr",
        "outputId": "2be3783f-78c8-4156-f728-4a8ba916b22b"
      },
      "source": [
        "my_list.append(\"ML\")\n",
        "print(my_list)"
      ],
      "execution_count": null,
      "outputs": [
        {
          "name": "stdout",
          "output_type": "stream",
          "text": [
            "[1, 2, 3, True, 'Python', 'ML']\n"
          ]
        }
      ]
    },
    {
      "cell_type": "code",
      "metadata": {
        "id": "ShzIJwC-PcNr",
        "outputId": "86a9ca72-4462-4437-d8b7-6c48de474ce5"
      },
      "source": [
        "my_list"
      ],
      "execution_count": null,
      "outputs": [
        {
          "data": {
            "text/plain": [
              "[1, 2, 3, True, 'Python', 'ML']"
            ]
          },
          "execution_count": 21,
          "metadata": {},
          "output_type": "execute_result"
        }
      ]
    },
    {
      "cell_type": "markdown",
      "metadata": {
        "id": "5yomeIzbPcNs"
      },
      "source": [
        "##### 2) insert(pos,element)\n",
        "inserts the element at the specified index"
      ]
    },
    {
      "cell_type": "code",
      "metadata": {
        "colab": {
          "base_uri": "https://localhost:8080/",
          "height": 178
        },
        "id": "9enZxMvcPcNs",
        "outputId": "42c72206-6bb3-4161-cc79-3931c4c7fbf4"
      },
      "source": [
        "# to insert value 4 after 3\n",
        "\n",
        "my_list.insert(3,4)\n"
      ],
      "execution_count": 27,
      "outputs": [
        {
          "output_type": "error",
          "ename": "NameError",
          "evalue": "ignored",
          "traceback": [
            "\u001b[0;31m---------------------------------------------------------------------------\u001b[0m",
            "\u001b[0;31mNameError\u001b[0m                                 Traceback (most recent call last)",
            "\u001b[0;32m<ipython-input-27-4ae91955f99c>\u001b[0m in \u001b[0;36m<module>\u001b[0;34m()\u001b[0m\n\u001b[1;32m      1\u001b[0m \u001b[0;31m# to insert value 4 after 3\u001b[0m\u001b[0;34m\u001b[0m\u001b[0;34m\u001b[0m\u001b[0;34m\u001b[0m\u001b[0m\n\u001b[0;32m----> 2\u001b[0;31m \u001b[0mmy_list\u001b[0m\u001b[0;34m.\u001b[0m\u001b[0minsert\u001b[0m\u001b[0;34m(\u001b[0m\u001b[0;36m3\u001b[0m\u001b[0;34m,\u001b[0m\u001b[0;36m4\u001b[0m\u001b[0;34m)\u001b[0m\u001b[0;34m\u001b[0m\u001b[0;34m\u001b[0m\u001b[0m\n\u001b[0m",
            "\u001b[0;31mNameError\u001b[0m: name 'my_list' is not defined"
          ]
        }
      ]
    },
    {
      "cell_type": "code",
      "metadata": {
        "colab": {
          "base_uri": "https://localhost:8080/",
          "height": 178
        },
        "id": "-cGlHWZvXGtl",
        "outputId": "3fcb9c78-15bf-4cb8-e518-37d57610d053"
      },
      "source": [
        "my_list.append(\"ML\")\n",
        "print(my_list)"
      ],
      "execution_count": 28,
      "outputs": [
        {
          "output_type": "error",
          "ename": "NameError",
          "evalue": "ignored",
          "traceback": [
            "\u001b[0;31m---------------------------------------------------------------------------\u001b[0m",
            "\u001b[0;31mNameError\u001b[0m                                 Traceback (most recent call last)",
            "\u001b[0;32m<ipython-input-28-a82dc554184c>\u001b[0m in \u001b[0;36m<module>\u001b[0;34m()\u001b[0m\n\u001b[0;32m----> 1\u001b[0;31m \u001b[0mmy_list\u001b[0m\u001b[0;34m.\u001b[0m\u001b[0mappend\u001b[0m\u001b[0;34m(\u001b[0m\u001b[0;34m\"ML\"\u001b[0m\u001b[0;34m)\u001b[0m\u001b[0;34m\u001b[0m\u001b[0;34m\u001b[0m\u001b[0m\n\u001b[0m\u001b[1;32m      2\u001b[0m \u001b[0mprint\u001b[0m\u001b[0;34m(\u001b[0m\u001b[0mmy_list\u001b[0m\u001b[0;34m)\u001b[0m\u001b[0;34m\u001b[0m\u001b[0;34m\u001b[0m\u001b[0m\n",
            "\u001b[0;31mNameError\u001b[0m: name 'my_list' is not defined"
          ]
        }
      ]
    },
    {
      "cell_type": "code",
      "metadata": {
        "id": "1eiTtuCVPcNs",
        "outputId": "d48970f7-c757-4b87-a804-134cf59ea212"
      },
      "source": [
        "my_list"
      ],
      "execution_count": null,
      "outputs": [
        {
          "data": {
            "text/plain": [
              "[1, 2, 3, 4, True, 'Python', 'ML']"
            ]
          },
          "execution_count": 23,
          "metadata": {},
          "output_type": "execute_result"
        }
      ]
    },
    {
      "cell_type": "code",
      "metadata": {
        "id": "HeVtH3hRPcNt"
      },
      "source": [
        "# to insert value False after True\n",
        "my_list.insert(0,False)"
      ],
      "execution_count": null,
      "outputs": []
    },
    {
      "cell_type": "code",
      "metadata": {
        "colab": {
          "base_uri": "https://localhost:8080/",
          "height": 162
        },
        "id": "_WZeeWYuPcNt",
        "outputId": "f9ceb9a2-00c5-4d31-e831-f42991c240da"
      },
      "source": [
        "my_list"
      ],
      "execution_count": 29,
      "outputs": [
        {
          "output_type": "error",
          "ename": "NameError",
          "evalue": "ignored",
          "traceback": [
            "\u001b[0;31m---------------------------------------------------------------------------\u001b[0m",
            "\u001b[0;31mNameError\u001b[0m                                 Traceback (most recent call last)",
            "\u001b[0;32m<ipython-input-29-9af163499740>\u001b[0m in \u001b[0;36m<module>\u001b[0;34m()\u001b[0m\n\u001b[0;32m----> 1\u001b[0;31m \u001b[0mmy_list\u001b[0m\u001b[0;34m\u001b[0m\u001b[0;34m\u001b[0m\u001b[0m\n\u001b[0m",
            "\u001b[0;31mNameError\u001b[0m: name 'my_list' is not defined"
          ]
        }
      ]
    },
    {
      "cell_type": "markdown",
      "metadata": {
        "id": "9TR2HMgNPcNt"
      },
      "source": [
        "##### copying the lists\n",
        "1) my_list_copy = my_list\n",
        "\n",
        "2) my_list_copy = my_list.copy()"
      ]
    },
    {
      "cell_type": "code",
      "metadata": {
        "id": "maFG3-00PcNt",
        "outputId": "d9c75dae-4a24-4271-9717-6a37d0c40894"
      },
      "source": [
        "my_list"
      ],
      "execution_count": null,
      "outputs": [
        {
          "data": {
            "text/plain": [
              "[False, 1, 2, 3, 4, True, 'Python', 'ML']"
            ]
          },
          "execution_count": 26,
          "metadata": {},
          "output_type": "execute_result"
        }
      ]
    },
    {
      "cell_type": "code",
      "metadata": {
        "id": "_H8nudd4PcNu"
      },
      "source": [
        "my_list_copy = my_list"
      ],
      "execution_count": null,
      "outputs": []
    },
    {
      "cell_type": "code",
      "metadata": {
        "id": "MUPTvZvgPcNu",
        "outputId": "8d7f3c39-898c-4b82-8068-512d374d226b"
      },
      "source": [
        "print(my_list)\n",
        "print(my_list_copy)"
      ],
      "execution_count": null,
      "outputs": [
        {
          "name": "stdout",
          "output_type": "stream",
          "text": [
            "[False, 1, 2, 3, 4, True, 'Python', 'ML']\n",
            "[False, 1, 2, 3, 4, True, 'Python', 'ML']\n"
          ]
        }
      ]
    },
    {
      "cell_type": "code",
      "metadata": {
        "id": "PjXSc6prPcNu",
        "outputId": "e2e4cac1-eb3b-4563-d491-36de930cfdf3"
      },
      "source": [
        "my_list_copy = my_list.copy()\n",
        "print(my_list)\n",
        "print(my_list_copy)"
      ],
      "execution_count": null,
      "outputs": [
        {
          "name": "stdout",
          "output_type": "stream",
          "text": [
            "[False, 1, 2, 3, 4, True, 'Python', 'ML']\n",
            "[False, 1, 2, 3, 4, True, 'Python', 'ML']\n"
          ]
        }
      ]
    },
    {
      "cell_type": "markdown",
      "metadata": {
        "id": "u_0VtihhPcNv"
      },
      "source": [
        "##### Problem with assignment (=)"
      ]
    },
    {
      "cell_type": "code",
      "metadata": {
        "id": "W6cnYnRvPcNv",
        "outputId": "57dbaa25-560e-49f7-86c8-fd209d3333ee"
      },
      "source": [
        "my_list_copy = my_list\n",
        "print(my_list)\n"
      ],
      "execution_count": null,
      "outputs": [
        {
          "name": "stdout",
          "output_type": "stream",
          "text": [
            "[False, 1, 2, 3, 4, True, 'Python', 'ML']\n"
          ]
        }
      ]
    },
    {
      "cell_type": "code",
      "metadata": {
        "id": "2u4VkGqhPcNw",
        "outputId": "5b5cf32c-d535-4ef4-b463-c6e123dcf3b6"
      },
      "source": [
        "print(my_list_copy)"
      ],
      "execution_count": null,
      "outputs": [
        {
          "name": "stdout",
          "output_type": "stream",
          "text": [
            "[False, 1, 2, 3, 4, True, 'Python', 'ML']\n"
          ]
        }
      ]
    },
    {
      "cell_type": "code",
      "metadata": {
        "id": "SPLCjFl5PcNw"
      },
      "source": [
        "my_list_copy[0] = 100"
      ],
      "execution_count": null,
      "outputs": []
    },
    {
      "cell_type": "code",
      "metadata": {
        "id": "Ql_3F7qgPcNw",
        "outputId": "08b15741-d05b-46d1-ff10-40d3072df9de"
      },
      "source": [
        "my_list_copy"
      ],
      "execution_count": null,
      "outputs": [
        {
          "data": {
            "text/plain": [
              "[100, 1, 2, 3, 4, True, 'Python', 'ML']"
            ]
          },
          "execution_count": 33,
          "metadata": {},
          "output_type": "execute_result"
        }
      ]
    },
    {
      "cell_type": "markdown",
      "metadata": {
        "id": "sbeDsHmrPcNw"
      },
      "source": [
        "###### Note: original list is also getting modified"
      ]
    },
    {
      "cell_type": "code",
      "metadata": {
        "id": "9AZkGg7wPcNx",
        "outputId": "69cda26f-2d0d-40ef-8068-5215dd0dab87"
      },
      "source": [
        "my_list"
      ],
      "execution_count": null,
      "outputs": [
        {
          "data": {
            "text/plain": [
              "[100, 1, 2, 3, 4, True, 'Python', 'ML']"
            ]
          },
          "execution_count": 34,
          "metadata": {},
          "output_type": "execute_result"
        }
      ]
    },
    {
      "cell_type": "markdown",
      "metadata": {
        "id": "4Bt1jXZiPcNx"
      },
      "source": [
        "##### 3) .copy()"
      ]
    },
    {
      "cell_type": "code",
      "metadata": {
        "id": "UUFHUNI6PcNx",
        "outputId": "a069ef14-323c-4d24-c686-c1f329544ed1"
      },
      "source": [
        "my_list_copy = my_list.copy()\n",
        "print(my_list)"
      ],
      "execution_count": null,
      "outputs": [
        {
          "name": "stdout",
          "output_type": "stream",
          "text": [
            "[100, 1, 2, 3, 4, True, 'Python', 'ML']\n"
          ]
        }
      ]
    },
    {
      "cell_type": "code",
      "metadata": {
        "id": "rDGIq5rDPcNx",
        "outputId": "7666740f-c396-4381-d558-e076cf0ff191"
      },
      "source": [
        "my_list_copy"
      ],
      "execution_count": null,
      "outputs": [
        {
          "data": {
            "text/plain": [
              "[100, 1, 2, 3, 4, True, 'Python', 'ML']"
            ]
          },
          "execution_count": 36,
          "metadata": {},
          "output_type": "execute_result"
        }
      ]
    },
    {
      "cell_type": "code",
      "metadata": {
        "id": "x2lXmguJPcNy"
      },
      "source": [
        "my_list_copy[0] = 0"
      ],
      "execution_count": null,
      "outputs": []
    },
    {
      "cell_type": "code",
      "metadata": {
        "id": "QqUcX44CPcNy",
        "outputId": "35f6ab16-8ac1-49de-b663-7d69718f44c7"
      },
      "source": [
        "my_list_copy"
      ],
      "execution_count": null,
      "outputs": [
        {
          "data": {
            "text/plain": [
              "[0, 1, 2, 3, 4, True, 'Python', 'ML']"
            ]
          },
          "execution_count": 38,
          "metadata": {},
          "output_type": "execute_result"
        }
      ]
    },
    {
      "cell_type": "markdown",
      "metadata": {
        "id": "Uqeh_9RRPcNy"
      },
      "source": [
        "##### Note: Original list is not getting modified"
      ]
    },
    {
      "cell_type": "code",
      "metadata": {
        "id": "wf7OaTxGPcNy",
        "outputId": "06449717-47a1-46b7-b63c-0465003acebf"
      },
      "source": [
        "my_list"
      ],
      "execution_count": null,
      "outputs": [
        {
          "data": {
            "text/plain": [
              "[100, 1, 2, 3, 4, True, 'Python', 'ML']"
            ]
          },
          "execution_count": 39,
          "metadata": {},
          "output_type": "execute_result"
        }
      ]
    },
    {
      "cell_type": "markdown",
      "metadata": {
        "id": "Xo3jQyZrPcNz"
      },
      "source": [
        "##### 4) .extend()\n",
        "syntax ----> list1.extend(list2)"
      ]
    },
    {
      "cell_type": "code",
      "metadata": {
        "id": "QFN9HvDjPcNz",
        "outputId": "3f210b4e-d875-416f-8baa-92e51bcbe86e"
      },
      "source": [
        "list1 = [1,2,3,4]\n",
        "list2 = ['a','b','c','d']\n",
        "list3 = [True,False]\n",
        "\n",
        "list1.extend(list2)\n",
        "list1.extend(list3)\n",
        "list1"
      ],
      "execution_count": null,
      "outputs": [
        {
          "data": {
            "text/plain": [
              "[1, 2, 3, 4, 'a', 'b', 'c', 'd', True, False]"
            ]
          },
          "execution_count": 40,
          "metadata": {},
          "output_type": "execute_result"
        }
      ]
    },
    {
      "cell_type": "code",
      "metadata": {
        "id": "6YrKI5X4PcNz",
        "outputId": "cdea7573-86ee-499c-a784-9a0f67c55c5b"
      },
      "source": [
        "# similar to addition of lists\n",
        "list1 = [1,2,3,4]\n",
        "list2 = ['a','b','c','d']\n",
        "list3 = [True,False]\n",
        "\n",
        "list1 = list1+list2+list3\n",
        "list1"
      ],
      "execution_count": null,
      "outputs": [
        {
          "data": {
            "text/plain": [
              "[1, 2, 3, 4, 'a', 'b', 'c', 'd', True, False]"
            ]
          },
          "execution_count": 41,
          "metadata": {},
          "output_type": "execute_result"
        }
      ]
    },
    {
      "cell_type": "markdown",
      "metadata": {
        "id": "IjGTs8iePcN0"
      },
      "source": [
        "##### 5) .pop(index)\n",
        "removes the element from specified index and returns the element."
      ]
    },
    {
      "cell_type": "code",
      "metadata": {
        "id": "NhOTJcMSPcN0"
      },
      "source": [
        "list1 = [1,2,3,4,5,6,7,8,9]"
      ],
      "execution_count": null,
      "outputs": []
    },
    {
      "cell_type": "code",
      "metadata": {
        "id": "NDh5-fAYPcN0"
      },
      "source": [
        "rem = list1.pop(2)"
      ],
      "execution_count": null,
      "outputs": []
    },
    {
      "cell_type": "code",
      "metadata": {
        "id": "vW8BVPpiPcN1",
        "outputId": "ebcafc11-4982-498a-80af-d2f83897d08d"
      },
      "source": [
        "print(rem)"
      ],
      "execution_count": null,
      "outputs": [
        {
          "name": "stdout",
          "output_type": "stream",
          "text": [
            "3\n"
          ]
        }
      ]
    },
    {
      "cell_type": "code",
      "metadata": {
        "id": "W5BuaQFRPcN1",
        "outputId": "3be157af-4174-463d-9fcc-49be6a62f6a7"
      },
      "source": [
        "list1"
      ],
      "execution_count": null,
      "outputs": [
        {
          "data": {
            "text/plain": [
              "[1, 2, 4, 5, 6, 7, 8, 9]"
            ]
          },
          "execution_count": 45,
          "metadata": {},
          "output_type": "execute_result"
        }
      ]
    },
    {
      "cell_type": "markdown",
      "metadata": {
        "id": "sdS063O2PcN1"
      },
      "source": [
        "#### Exercises on List"
      ]
    },
    {
      "cell_type": "code",
      "metadata": {
        "id": "bkhfixuhPcN2",
        "outputId": "c9c60d5b-8f12-4413-a570-1ba095a05a31"
      },
      "source": [
        "list1 = [[1,2,3],[4,5,6],[7,8,9]]\n",
        "list1"
      ],
      "execution_count": null,
      "outputs": [
        {
          "data": {
            "text/plain": [
              "[[1, 2, 3], [4, 5, 6], [7, 8, 9]]"
            ]
          },
          "execution_count": 46,
          "metadata": {},
          "output_type": "execute_result"
        }
      ]
    },
    {
      "cell_type": "code",
      "metadata": {
        "colab": {
          "base_uri": "https://localhost:8080/",
          "height": 178
        },
        "id": "T49M64AZPcN2",
        "outputId": "a7bcab93-33eb-4b5b-c34a-58833d2d20eb"
      },
      "source": [
        "#to access element 1\n",
        "list1[1][2]"
      ],
      "execution_count": 30,
      "outputs": [
        {
          "output_type": "error",
          "ename": "TypeError",
          "evalue": "ignored",
          "traceback": [
            "\u001b[0;31m---------------------------------------------------------------------------\u001b[0m",
            "\u001b[0;31mTypeError\u001b[0m                                 Traceback (most recent call last)",
            "\u001b[0;32m<ipython-input-30-5b3a911fb55f>\u001b[0m in \u001b[0;36m<module>\u001b[0;34m()\u001b[0m\n\u001b[1;32m      1\u001b[0m \u001b[0;31m#to access element 1\u001b[0m\u001b[0;34m\u001b[0m\u001b[0;34m\u001b[0m\u001b[0;34m\u001b[0m\u001b[0m\n\u001b[0;32m----> 2\u001b[0;31m \u001b[0mlist1\u001b[0m\u001b[0;34m[\u001b[0m\u001b[0;36m1\u001b[0m\u001b[0;34m]\u001b[0m\u001b[0;34m[\u001b[0m\u001b[0;36m2\u001b[0m\u001b[0;34m]\u001b[0m\u001b[0;34m\u001b[0m\u001b[0;34m\u001b[0m\u001b[0m\n\u001b[0m",
            "\u001b[0;31mTypeError\u001b[0m: 'int' object is not subscriptable"
          ]
        }
      ]
    },
    {
      "cell_type": "code",
      "metadata": {
        "id": "Sdx1xYuTPcN2",
        "outputId": "7e9b60f6-3896-4899-b2c7-ae0e2b0f42d9"
      },
      "source": [
        "#to access elemnt 5\n",
        "list1[1][1]"
      ],
      "execution_count": null,
      "outputs": [
        {
          "data": {
            "text/plain": [
              "5"
            ]
          },
          "execution_count": 48,
          "metadata": {},
          "output_type": "execute_result"
        }
      ]
    },
    {
      "cell_type": "code",
      "metadata": {
        "id": "i9HmyDg7PcN2",
        "outputId": "b7ee9607-a935-468b-fb2e-c31c106c1aa3"
      },
      "source": [
        "#to access 8\n",
        "list1[2][1]"
      ],
      "execution_count": null,
      "outputs": [
        {
          "data": {
            "text/plain": [
              "8"
            ]
          },
          "execution_count": 49,
          "metadata": {},
          "output_type": "execute_result"
        }
      ]
    },
    {
      "cell_type": "code",
      "metadata": {
        "id": "77BrMrVQPcN3"
      },
      "source": [
        ""
      ],
      "execution_count": null,
      "outputs": []
    },
    {
      "cell_type": "code",
      "metadata": {
        "id": "jIkfV2oYPcN3",
        "outputId": "fa9c1155-b63f-4ac7-c70c-2f4195359bc4"
      },
      "source": [
        "list2 = [1,2,[3,4,5,6,[7,8,9]]]\n",
        "list2"
      ],
      "execution_count": null,
      "outputs": [
        {
          "data": {
            "text/plain": [
              "[1, 2, [3, 4, 5, 6, [7, 8, 9]]]"
            ]
          },
          "execution_count": 50,
          "metadata": {},
          "output_type": "execute_result"
        }
      ]
    },
    {
      "cell_type": "code",
      "metadata": {
        "id": "HGwwMMHMPcN3",
        "outputId": "9d9b91eb-084c-44c4-a75d-4ee7793e5b83"
      },
      "source": [
        "#to access element 2\n",
        "list2[1]"
      ],
      "execution_count": null,
      "outputs": [
        {
          "data": {
            "text/plain": [
              "2"
            ]
          },
          "execution_count": 51,
          "metadata": {},
          "output_type": "execute_result"
        }
      ]
    },
    {
      "cell_type": "code",
      "metadata": {
        "id": "ob7gq2XUPcN3",
        "outputId": "a355fd74-b2f7-40f7-9e4a-4ae4fb58ab44"
      },
      "source": [
        "#to access element 4\n",
        "list2[2][1]"
      ],
      "execution_count": null,
      "outputs": [
        {
          "data": {
            "text/plain": [
              "4"
            ]
          },
          "execution_count": 52,
          "metadata": {},
          "output_type": "execute_result"
        }
      ]
    },
    {
      "cell_type": "code",
      "metadata": {
        "id": "id_QrVSDPcN4",
        "outputId": "eaf88902-af22-4750-8536-68ee10e41941"
      },
      "source": [
        "#to access elements 7,8,9\n",
        "list2[2][4]"
      ],
      "execution_count": null,
      "outputs": [
        {
          "data": {
            "text/plain": [
              "[7, 8, 9]"
            ]
          },
          "execution_count": 53,
          "metadata": {},
          "output_type": "execute_result"
        }
      ]
    },
    {
      "cell_type": "code",
      "metadata": {
        "id": "VZhtiFFePcN4",
        "outputId": "0edf311b-6dd8-4f65-ac1d-b008f64346f3"
      },
      "source": [
        "#to access element 9\n",
        "list2[2][4][2]"
      ],
      "execution_count": null,
      "outputs": [
        {
          "data": {
            "text/plain": [
              "9"
            ]
          },
          "execution_count": 54,
          "metadata": {},
          "output_type": "execute_result"
        }
      ]
    },
    {
      "cell_type": "code",
      "metadata": {
        "id": "BmgTfPSQPcN4",
        "outputId": "f367d3f7-bbf2-4793-ae22-cf8019b53aec"
      },
      "source": [
        "#to access 3,4,5,6\n",
        "list2[2][:4]"
      ],
      "execution_count": null,
      "outputs": [
        {
          "data": {
            "text/plain": [
              "[3, 4, 5, 6]"
            ]
          },
          "execution_count": 55,
          "metadata": {},
          "output_type": "execute_result"
        }
      ]
    },
    {
      "cell_type": "markdown",
      "metadata": {
        "id": "-8C__X6ZPcN5"
      },
      "source": [
        "#### Task-3.1 \n",
        "go through other inbuilt methods like remove(),count(),clear(),sort(),reverse()"
      ]
    },
    {
      "cell_type": "code",
      "metadata": {
        "colab": {
          "base_uri": "https://localhost:8080/"
        },
        "id": "3u-qlZVXcwDg",
        "outputId": "aaa5cc22-3cc7-4991-fb6a-b70d0d3de1b0"
      },
      "source": [
        "num = [1,3,4,5,6,78,7,8]\n",
        "num.remove(1)\n",
        "print(num)"
      ],
      "execution_count": 35,
      "outputs": [
        {
          "output_type": "stream",
          "name": "stdout",
          "text": [
            "[3, 4, 5, 6, 78, 7, 8]\n"
          ]
        }
      ]
    },
    {
      "cell_type": "code",
      "metadata": {
        "colab": {
          "base_uri": "https://localhost:8080/"
        },
        "id": "dfElrwdbejfx",
        "outputId": "3158bec6-c7ba-40c0-c221-b40a8c3320c5"
      },
      "source": [
        "num.sort()\n",
        "print(num)"
      ],
      "execution_count": 38,
      "outputs": [
        {
          "output_type": "stream",
          "name": "stdout",
          "text": [
            "[3, 4, 5, 6, 7, 8, 78]\n"
          ]
        }
      ]
    },
    {
      "cell_type": "code",
      "metadata": {
        "colab": {
          "base_uri": "https://localhost:8080/"
        },
        "id": "pwnSSbeke1ky",
        "outputId": "145c3758-fa27-49f4-e30e-8b8bb5c59b20"
      },
      "source": [
        "list1=[2,4,8,3,1,8,5,2]\n",
        "list1.reverse()\n",
        "print(list1)\n",
        "\n"
      ],
      "execution_count": 42,
      "outputs": [
        {
          "output_type": "stream",
          "name": "stdout",
          "text": [
            "[2, 5, 8, 1, 3, 8, 4, 2]\n"
          ]
        }
      ]
    },
    {
      "cell_type": "code",
      "metadata": {
        "colab": {
          "base_uri": "https://localhost:8080/"
        },
        "id": "D-9JRIY1gyxO",
        "outputId": "2c704666-1373-4e9e-d335-4d3f405a4141"
      },
      "source": [
        "mil=[3,4,5,6,7,88]\n",
        "mil.clear()\n",
        "print(mil)"
      ],
      "execution_count": 45,
      "outputs": [
        {
          "output_type": "stream",
          "name": "stdout",
          "text": [
            "[]\n"
          ]
        }
      ]
    },
    {
      "cell_type": "markdown",
      "metadata": {
        "id": "N08-v2mWPcN5"
      },
      "source": [
        "#### Task 3.2"
      ]
    },
    {
      "cell_type": "code",
      "metadata": {
        "id": "s0mn76Y-csqY"
      },
      "source": [
        ""
      ],
      "execution_count": null,
      "outputs": []
    },
    {
      "cell_type": "code",
      "metadata": {
        "id": "m-6RJY6EPcN5"
      },
      "source": [
        "# create a list of lenght = 10 and access 5th to 8th data."
      ],
      "execution_count": null,
      "outputs": []
    },
    {
      "cell_type": "code",
      "metadata": {
        "colab": {
          "base_uri": "https://localhost:8080/"
        },
        "id": "HiVMYtu7hMGT",
        "outputId": "58dd3cf3-5b12-4327-eb57-0a206387d358"
      },
      "source": [
        "list=[1,2,3,4,5,6,7,8,9,10,11]\n",
        "list[5:8:1]"
      ],
      "execution_count": 47,
      "outputs": [
        {
          "output_type": "execute_result",
          "data": {
            "text/plain": [
              "[6, 7, 8]"
            ]
          },
          "metadata": {},
          "execution_count": 47
        }
      ]
    },
    {
      "cell_type": "markdown",
      "metadata": {
        "id": "KKWMKB39PcN5"
      },
      "source": [
        "#### Task-4\n",
        "2 problems!"
      ]
    },
    {
      "cell_type": "code",
      "metadata": {
        "id": "QprEJMK0h0N5"
      },
      "source": [
        ""
      ],
      "execution_count": null,
      "outputs": []
    },
    {
      "cell_type": "code",
      "metadata": {
        "colab": {
          "base_uri": "https://localhost:8080/"
        },
        "id": "-piE2GoWPcN5",
        "outputId": "dd2b3109-11e8-4f6a-c66a-6c6a75bf5c75"
      },
      "source": [
        "#Add item 70 after 60 in the following Python List\n",
        "#input\n",
        "l1 = [10, 20, [30, 40, [50, 60], 80], 90, 100]\n",
        "l1[2]=60\n",
        "print(\"\\nNew string  :\",l1)\n",
        "#output\n",
        "[10, 20, [30, 40, [50, 60, 70], 80], 90, 100]"
      ],
      "execution_count": 49,
      "outputs": [
        {
          "output_type": "stream",
          "name": "stdout",
          "text": [
            "\n",
            "New string  : [10, 20, 60, 90, 100]\n"
          ]
        },
        {
          "output_type": "execute_result",
          "data": {
            "text/plain": [
              "[10, 20, [30, 40, [50, 60, 70], 80], 90, 100]"
            ]
          },
          "metadata": {},
          "execution_count": 49
        }
      ]
    },
    {
      "cell_type": "code",
      "metadata": {
        "colab": {
          "base_uri": "https://localhost:8080/"
        },
        "id": "o5sdaGC5PcN6",
        "outputId": "347357d8-34ac-4a21-fec5-f704739bcafa"
      },
      "source": [
        "#add sublist [7,8] after 6\n",
        "#input\n",
        "l2 = [1,2,[3,4,5,6],9]\n",
        "l2[2]=[[7,8]]\n",
        "#output\n",
        "[1,2,[3,4,5,6,[7,8]],9]"
      ],
      "execution_count": 52,
      "outputs": [
        {
          "output_type": "execute_result",
          "data": {
            "text/plain": [
              "[1, 2, [3, 4, 5, 6, [7, 8]], 9]"
            ]
          },
          "metadata": {},
          "execution_count": 52
        }
      ]
    }
  ]
}