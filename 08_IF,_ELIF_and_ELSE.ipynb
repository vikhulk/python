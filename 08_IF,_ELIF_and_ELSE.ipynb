{
  "nbformat": 4,
  "nbformat_minor": 0,
  "metadata": {
    "kernelspec": {
      "display_name": "Python 3",
      "language": "python",
      "name": "python3"
    },
    "language_info": {
      "codemirror_mode": {
        "name": "ipython",
        "version": 3
      },
      "file_extension": ".py",
      "mimetype": "text/x-python",
      "name": "python",
      "nbconvert_exporter": "python",
      "pygments_lexer": "ipython3",
      "version": "3.8.3"
    },
    "colab": {
      "name": "08- IF, ELIF and ELSE.ipynb",
      "provenance": [],
      "collapsed_sections": []
    }
  },
  "cells": [
    {
      "cell_type": "markdown",
      "metadata": {
        "id": "HMUii2bm-6Yv"
      },
      "source": [
        "## if condition"
      ]
    },
    {
      "cell_type": "code",
      "metadata": {
        "id": "vCGl_4O7-8ps"
      },
      "source": [
        ""
      ],
      "execution_count": null,
      "outputs": []
    },
    {
      "cell_type": "code",
      "metadata": {
        "id": "rImRznTH-6Y4"
      },
      "source": [
        "\"\"\"\n",
        "syntax of if\n",
        "\n",
        "if(condition/s):\n",
        "    statement1\n",
        "    statement2\n",
        "    ..........\n",
        "\"\"\""
      ],
      "execution_count": null,
      "outputs": []
    },
    {
      "cell_type": "code",
      "metadata": {
        "id": "M4dRh8jX-6Y6",
        "outputId": "7d6f75b9-90e0-4cca-bf72-c89550f61998"
      },
      "source": [
        "#Ex1)\n",
        "num1 = 10\n",
        "num2 = 10\n",
        "\n",
        "if(num1 == num2):\n",
        "    print(\"Both the numbers are same\")"
      ],
      "execution_count": null,
      "outputs": [
        {
          "name": "stdout",
          "output_type": "stream",
          "text": [
            "Both the numbers are same\n"
          ]
        }
      ]
    },
    {
      "cell_type": "code",
      "metadata": {
        "id": "kgU_VkHI-6Y8",
        "outputId": "4d548c40-eb30-4a0f-afd6-7f8f14dc8d3c"
      },
      "source": [
        "#Ex2)\n",
        "num1 = 11\n",
        "num2 = 10\n",
        "if(num1 != num2):\n",
        "    print(\"Numbers are diff\")"
      ],
      "execution_count": null,
      "outputs": [
        {
          "name": "stdout",
          "output_type": "stream",
          "text": [
            "Numbers are diff\n"
          ]
        }
      ]
    },
    {
      "cell_type": "markdown",
      "metadata": {
        "id": "n4QM_exH-6Y9"
      },
      "source": [
        "## Indentation\n",
        "whitespace at the beginning of a line"
      ]
    },
    {
      "cell_type": "code",
      "metadata": {
        "id": "V0jt_w-D-6Y-",
        "outputId": "e03a9c45-671a-4c63-d254-ec1474605c46"
      },
      "source": [
        "#Ex1)\n",
        "if(4>2):\n",
        "print(\"A\") #ERROR"
      ],
      "execution_count": null,
      "outputs": [
        {
          "ename": "IndentationError",
          "evalue": "expected an indented block (<ipython-input-3-acbc0b46bff6>, line 3)",
          "output_type": "error",
          "traceback": [
            "\u001b[1;36m  File \u001b[1;32m\"<ipython-input-3-acbc0b46bff6>\"\u001b[1;36m, line \u001b[1;32m3\u001b[0m\n\u001b[1;33m    print(\"A\") #ERROR\u001b[0m\n\u001b[1;37m        ^\u001b[0m\n\u001b[1;31mIndentationError\u001b[0m\u001b[1;31m:\u001b[0m expected an indented block\n"
          ]
        }
      ]
    },
    {
      "cell_type": "code",
      "metadata": {
        "id": "EwRz-6UI-6Y_",
        "outputId": "f3a5d994-248d-4535-d0a6-dfe31abfc129"
      },
      "source": [
        "#Ex2)\n",
        "if(4>2):\n",
        "    print(\"A\")\n",
        "        print(\"B\") #Error"
      ],
      "execution_count": null,
      "outputs": [
        {
          "ename": "IndentationError",
          "evalue": "unexpected indent (<ipython-input-4-7e651452fc72>, line 4)",
          "output_type": "error",
          "traceback": [
            "\u001b[1;36m  File \u001b[1;32m\"<ipython-input-4-7e651452fc72>\"\u001b[1;36m, line \u001b[1;32m4\u001b[0m\n\u001b[1;33m    print(\"B\") #Error\u001b[0m\n\u001b[1;37m    ^\u001b[0m\n\u001b[1;31mIndentationError\u001b[0m\u001b[1;31m:\u001b[0m unexpected indent\n"
          ]
        }
      ]
    },
    {
      "cell_type": "code",
      "metadata": {
        "id": "qgTY0ZuS-6ZA",
        "outputId": "d3acf558-6fa6-4ff2-eac8-97dceafa66e9"
      },
      "source": [
        "#Ex3)\n",
        "if(4>2):\n",
        "        print(\"A\")\n",
        "    print(\"B\") #Error"
      ],
      "execution_count": null,
      "outputs": [
        {
          "ename": "IndentationError",
          "evalue": "unindent does not match any outer indentation level (<tokenize>, line 4)",
          "output_type": "error",
          "traceback": [
            "\u001b[1;36m  File \u001b[1;32m\"<tokenize>\"\u001b[1;36m, line \u001b[1;32m4\u001b[0m\n\u001b[1;33m    print(\"B\") #Error\u001b[0m\n\u001b[1;37m    ^\u001b[0m\n\u001b[1;31mIndentationError\u001b[0m\u001b[1;31m:\u001b[0m unindent does not match any outer indentation level\n"
          ]
        }
      ]
    },
    {
      "cell_type": "code",
      "metadata": {
        "id": "02mfDgVY-6ZC",
        "outputId": "85768e5c-c775-400a-cc4c-abf13f6c43e2"
      },
      "source": [
        "#Ex4)\n",
        "if(4>2):\n",
        "        print(\"A\")\n",
        "        print(\"B\") #Valid\n",
        "        print(\"C\") #Valid"
      ],
      "execution_count": null,
      "outputs": [
        {
          "name": "stdout",
          "output_type": "stream",
          "text": [
            "A\n",
            "B\n",
            "C\n"
          ]
        }
      ]
    },
    {
      "cell_type": "markdown",
      "metadata": {
        "id": "2y9rdnjX-6ZD"
      },
      "source": [
        "## if.. else.."
      ]
    },
    {
      "cell_type": "code",
      "metadata": {
        "id": "7QGPRPFc-6ZK"
      },
      "source": [
        "\"\"\"\n",
        "syntax of if else\n",
        "\n",
        "if(condition/s):\n",
        "    statement1\n",
        "    statement2\n",
        "    ..........\n",
        "else:\n",
        "    statement1\n",
        "    statement2\n",
        "    ..........\n",
        "\"\"\""
      ],
      "execution_count": null,
      "outputs": []
    },
    {
      "cell_type": "code",
      "metadata": {
        "id": "WAa8u-lA-6ZL",
        "outputId": "2f673d98-f700-4d72-facf-e256f61a02b6"
      },
      "source": [
        "#Ex1) \n",
        "num1 = 10\n",
        "num2 = 5\n",
        "\n",
        "if(num1 == num2):\n",
        "    print(\"equal\")\n",
        "else:\n",
        "    print(\"Not equal\")"
      ],
      "execution_count": null,
      "outputs": [
        {
          "name": "stdout",
          "output_type": "stream",
          "text": [
            "Not equal\n"
          ]
        }
      ]
    },
    {
      "cell_type": "code",
      "metadata": {
        "id": "81wKrZeT-6ZM",
        "outputId": "2a09fb52-0c04-4c1c-a32a-25be01ea184f"
      },
      "source": [
        "#Ex2)\n",
        "if(num1<num2):\n",
        "    print(\"num1 is less than num2\")\n",
        "else:\n",
        "    print(\"num1 is greater than num2\")"
      ],
      "execution_count": null,
      "outputs": [
        {
          "name": "stdout",
          "output_type": "stream",
          "text": [
            "num1 is greater than num2\n"
          ]
        }
      ]
    },
    {
      "cell_type": "markdown",
      "metadata": {
        "id": "prYQFYXj-6ZN"
      },
      "source": [
        "## if .. elif .. else"
      ]
    },
    {
      "cell_type": "code",
      "metadata": {
        "id": "5NyhSeNX-6ZO"
      },
      "source": [
        "\"\"\"\n",
        "syntax of if else\n",
        "\n",
        "if(condition/s):\n",
        "    statement1\n",
        "    statement2\n",
        "    ..........\n",
        "elif(condition/s):\n",
        "    statement1\n",
        "    statement2\n",
        "    ..........\n",
        "else:\n",
        "    statement1\n",
        "    statement2\n",
        "    ..........\n",
        "\"\"\""
      ],
      "execution_count": null,
      "outputs": []
    },
    {
      "cell_type": "code",
      "metadata": {
        "id": "PeVaobRe-6ZO",
        "outputId": "0111ef10-5b5f-4d45-f034-4d63cd87a3de"
      },
      "source": [
        "#Ex1)\n",
        "num1 = 10\n",
        "num2 = 10\n",
        "\n",
        "if(num1 == num2):\n",
        "    print(\"Equal\")\n",
        "elif(num1>num2):\n",
        "    print('num1 is greater than num2')\n",
        "    \n",
        "else:\n",
        "    print('num1 is less than num2')\n"
      ],
      "execution_count": null,
      "outputs": [
        {
          "name": "stdout",
          "output_type": "stream",
          "text": [
            "Equal\n"
          ]
        }
      ]
    },
    {
      "cell_type": "markdown",
      "metadata": {
        "id": "AnJOBBP7-6ZQ"
      },
      "source": [
        "## Multiple conditions\n",
        "by using or & and operators"
      ]
    },
    {
      "cell_type": "code",
      "metadata": {
        "id": "j7PlFHSf-6ZR",
        "outputId": "35ef9b70-6417-4448-af91-50c4ccab278a"
      },
      "source": [
        "#Ex1) or\n",
        "num1 =7\n",
        "# it should be positive\n",
        "# or it should be divisible by 2\n",
        "# or it should be divisible by 3\n",
        "\n",
        "if(num1>0 or num1%2 == 0 or num1%3 == 0):\n",
        "    print(\"Satisfied\")\n",
        "else:\n",
        "    print(\"Not satisfied\")"
      ],
      "execution_count": null,
      "outputs": [
        {
          "name": "stdout",
          "output_type": "stream",
          "text": [
            "Satisfied\n"
          ]
        }
      ]
    },
    {
      "cell_type": "code",
      "metadata": {
        "id": "LU6G3rGw-6ZS",
        "outputId": "ea45542b-ce0c-4c42-ea96-b32ba6fb2e6d"
      },
      "source": [
        "#Ex2) and\n",
        "num1 = 6\n",
        "if(num1>0 and num1%2 == 0 and num1%3 == 0):\n",
        "    print(\"Satisfied\")\n",
        "else:\n",
        "    print(\"Not satisfied\")\n"
      ],
      "execution_count": null,
      "outputs": [
        {
          "name": "stdout",
          "output_type": "stream",
          "text": [
            "Satisfied\n"
          ]
        }
      ]
    },
    {
      "cell_type": "markdown",
      "metadata": {
        "id": "t-F6qdEQ-6ZT"
      },
      "source": [
        "## Nested if else"
      ]
    },
    {
      "cell_type": "code",
      "metadata": {
        "id": "X1lzFmFU-6ZT",
        "outputId": "3ed9b7c0-04a1-49c9-a1b1-daaf10da78b9"
      },
      "source": [
        "#Ex1)\n",
        "num1 = 3\n",
        "if(num1>0):\n",
        "    print(\"positive number\")\n",
        "    if(num1%2 == 0):\n",
        "        print(\"Divisible by 2\")\n",
        "    elif(num1%3 == 0):\n",
        "        print(\"Divisible by 3\")\n",
        "    else:\n",
        "        print(\"Not divisible by 2 or 3\")\n",
        "else:\n",
        "    print(\"negative number\")"
      ],
      "execution_count": null,
      "outputs": [
        {
          "name": "stdout",
          "output_type": "stream",
          "text": [
            "positive number\n",
            "Divisible by 3\n"
          ]
        }
      ]
    },
    {
      "cell_type": "code",
      "metadata": {
        "id": "WA_uPV_o-6ZU"
      },
      "source": [
        ""
      ],
      "execution_count": null,
      "outputs": []
    },
    {
      "cell_type": "markdown",
      "metadata": {
        "id": "Y8-tpToL-6ZU"
      },
      "source": [
        "### Task9\n",
        "* Ask 2 numbers from users and store it in num1 and num2\n",
        "* Ask user to press 1 for addition,2 for subtraction,3 for multiplication and 4 for division\n",
        "* based on number given by user do the math operation"
      ]
    },
    {
      "cell_type": "code",
      "metadata": {
        "id": "dSxd5vLs-98X"
      },
      "source": [
        ""
      ],
      "execution_count": null,
      "outputs": []
    },
    {
      "cell_type": "code",
      "metadata": {
        "colab": {
          "base_uri": "https://localhost:8080/"
        },
        "id": "u_xD1Kmt-99f",
        "outputId": "8b97e589-50b7-4106-e085-ad57fcef3111"
      },
      "source": [
        "num1 = int(input(\"Enter the number :\"))\n",
        "num2 = int(input(\"Enter the secounf number:\"))\n",
        "print(num1)\n",
        "print(num2)\n"
      ],
      "execution_count": null,
      "outputs": [
        {
          "output_type": "stream",
          "name": "stdout",
          "text": [
            "Enter the number :8\n",
            "Enter the secounf number:7\n",
            "8\n",
            "7\n"
          ]
        }
      ]
    },
    {
      "cell_type": "code",
      "metadata": {
        "id": "2YeHvMwO-6ZU",
        "colab": {
          "base_uri": "https://localhost:8080/"
        },
        "outputId": "9a6d0efc-7449-4120-9f59-8875e78a0c53"
      },
      "source": [
        "num1 = int(input(\"Enter the number 1\"))\n",
        "num2 = int(input(\"Enter the number 2\"))\n",
        "print(\"Choose no to perform the operation\")\n",
        "ch = input(\"Enter the no \\n 1 for addtion\\n 2 for subtration \\n 3 for Multipilication \\n 4 for division\")\n",
        "result = 0\n",
        "if ch == '1':\n",
        "  result = num1 + num2\n",
        "elif ch == '2':\n",
        "  result = num1 - num2\n",
        "elif ch == '3':\n",
        "  result = num1*num2\n",
        "elif ch =='4':\n",
        "  result = num1 / num2\n",
        "else:\n",
        "  print(\"entered no is not valid or might be wrong\")\n",
        "print(\"RESULT IS :\",result)      \n"
      ],
      "execution_count": 1,
      "outputs": [
        {
          "output_type": "stream",
          "name": "stdout",
          "text": [
            "Enter the number 16\n",
            "Enter the number 23\n",
            "Choose no to perform the operation\n",
            "Enter the no \n",
            " 1 for addtion\n",
            " 2 for subtration \n",
            " 3 for Multipilication \n",
            " 4 for division1\n",
            "RESULT IS : 9\n"
          ]
        }
      ]
    }
  ]
}