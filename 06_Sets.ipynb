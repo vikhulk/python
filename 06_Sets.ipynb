{
  "nbformat": 4,
  "nbformat_minor": 0,
  "metadata": {
    "kernelspec": {
      "display_name": "Python 3",
      "language": "python",
      "name": "python3"
    },
    "language_info": {
      "codemirror_mode": {
        "name": "ipython",
        "version": 3
      },
      "file_extension": ".py",
      "mimetype": "text/x-python",
      "name": "python",
      "nbconvert_exporter": "python",
      "pygments_lexer": "ipython3",
      "version": "3.7.6"
    },
    "colab": {
      "name": "06 - Sets.ipynb",
      "provenance": [],
      "collapsed_sections": [
        "qPg3W3CmS4K6",
        "vB9SCybqS4K7",
        "lI-eo9ntS4LA"
      ]
    }
  },
  "cells": [
    {
      "cell_type": "markdown",
      "metadata": {
        "id": "_1PEKX-bS4Ki"
      },
      "source": [
        "## Sets\n",
        "In Python sets are written with curly brackets.\n",
        "#### Important properties of sets\n",
        "\n",
        "* Can store different data types\n",
        "* Duplicate values are not allowed\n",
        "* Order is not retained\n",
        "* Indexing and slicing is not possible"
      ]
    },
    {
      "cell_type": "code",
      "metadata": {
        "id": "ERe-kZ2US4Kq"
      },
      "source": [
        "set1 = {2,3,4.4,True,\"python\"}"
      ],
      "execution_count": null,
      "outputs": []
    },
    {
      "cell_type": "code",
      "metadata": {
        "id": "DcauySjMS4Kt",
        "outputId": "84b5206f-c79b-49cd-db01-3ecd8a2cdd78"
      },
      "source": [
        "set1"
      ],
      "execution_count": null,
      "outputs": [
        {
          "data": {
            "text/plain": [
              "{2, 3, 4.4, True, 'python'}"
            ]
          },
          "execution_count": 2,
          "metadata": {},
          "output_type": "execute_result"
        }
      ]
    },
    {
      "cell_type": "code",
      "metadata": {
        "id": "jALYsVwgS4Kv"
      },
      "source": [
        "set2 = {1,2,3,4,1,2,1,1,4,3}"
      ],
      "execution_count": null,
      "outputs": []
    },
    {
      "cell_type": "code",
      "metadata": {
        "id": "n80dv3sHS4Kv",
        "outputId": "f356b909-924c-4c60-9f9a-70e0bfc7bb9f"
      },
      "source": [
        "set2"
      ],
      "execution_count": null,
      "outputs": [
        {
          "data": {
            "text/plain": [
              "{1, 2, 3, 4}"
            ]
          },
          "execution_count": 4,
          "metadata": {},
          "output_type": "execute_result"
        }
      ]
    },
    {
      "cell_type": "code",
      "metadata": {
        "id": "72At3E3vS4Kw"
      },
      "source": [
        "set3 = {\"a\",1,\"b\",2,3}"
      ],
      "execution_count": null,
      "outputs": []
    },
    {
      "cell_type": "code",
      "metadata": {
        "id": "fWC7dv-US4Ky",
        "outputId": "ec529c10-73ba-44ab-f718-e0f151ba16dc"
      },
      "source": [
        "set3"
      ],
      "execution_count": null,
      "outputs": [
        {
          "data": {
            "text/plain": [
              "{1, 2, 3, 'a', 'b'}"
            ]
          },
          "execution_count": 6,
          "metadata": {},
          "output_type": "execute_result"
        }
      ]
    },
    {
      "cell_type": "code",
      "metadata": {
        "id": "lv2HpEWOS4Kz",
        "outputId": "0b7989e3-c22d-4b4b-9c94-84178aaf9e8f"
      },
      "source": [
        "# check the type using type()\n",
        "type(set2)"
      ],
      "execution_count": null,
      "outputs": [
        {
          "data": {
            "text/plain": [
              "set"
            ]
          },
          "execution_count": 7,
          "metadata": {},
          "output_type": "execute_result"
        }
      ]
    },
    {
      "cell_type": "code",
      "metadata": {
        "id": "gK7MDlWxS4K0",
        "outputId": "766788ed-1fd3-4b93-b8c9-e70acc6c429f"
      },
      "source": [
        "# to check the length of the sets\n",
        "len(set1)"
      ],
      "execution_count": null,
      "outputs": [
        {
          "data": {
            "text/plain": [
              "5"
            ]
          },
          "execution_count": 8,
          "metadata": {},
          "output_type": "execute_result"
        }
      ]
    },
    {
      "cell_type": "markdown",
      "metadata": {
        "id": "VQTpEGUiS4K2"
      },
      "source": [
        "#### Indexing and Slicing is not allowed in sets"
      ]
    },
    {
      "cell_type": "code",
      "metadata": {
        "id": "ISbmWT13S4K3",
        "outputId": "d17b846c-6acd-4758-8f15-9636e1141b78"
      },
      "source": [
        "# try to index\n",
        "set1[0]"
      ],
      "execution_count": null,
      "outputs": [
        {
          "ename": "TypeError",
          "evalue": "'set' object is not subscriptable",
          "output_type": "error",
          "traceback": [
            "\u001b[1;31m---------------------------------------------------------------------------\u001b[0m",
            "\u001b[1;31mTypeError\u001b[0m                                 Traceback (most recent call last)",
            "\u001b[1;32m<ipython-input-9-8a5ab7ec94af>\u001b[0m in \u001b[0;36m<module>\u001b[1;34m\u001b[0m\n\u001b[0;32m      1\u001b[0m \u001b[1;31m# try to index\u001b[0m\u001b[1;33m\u001b[0m\u001b[1;33m\u001b[0m\u001b[1;33m\u001b[0m\u001b[0m\n\u001b[1;32m----> 2\u001b[1;33m \u001b[0mset1\u001b[0m\u001b[1;33m[\u001b[0m\u001b[1;36m0\u001b[0m\u001b[1;33m]\u001b[0m\u001b[1;33m\u001b[0m\u001b[1;33m\u001b[0m\u001b[0m\n\u001b[0m",
            "\u001b[1;31mTypeError\u001b[0m: 'set' object is not subscriptable"
          ]
        }
      ]
    },
    {
      "cell_type": "markdown",
      "metadata": {
        "id": "spi6bHwqS4K3"
      },
      "source": [
        "#### empty set\n"
      ]
    },
    {
      "cell_type": "code",
      "metadata": {
        "id": "wdLyZOPeS4K4",
        "outputId": "7cf8ca9e-a971-4720-c759-08df19f2076c"
      },
      "source": [
        "set4 = {}\n",
        "set4"
      ],
      "execution_count": null,
      "outputs": [
        {
          "data": {
            "text/plain": [
              "{}"
            ]
          },
          "execution_count": 10,
          "metadata": {},
          "output_type": "execute_result"
        }
      ]
    },
    {
      "cell_type": "code",
      "metadata": {
        "id": "20ebcXERS4K5",
        "outputId": "f889b8f2-f08a-402c-8e69-0a7a5cc1d26d"
      },
      "source": [
        "type(set4)"
      ],
      "execution_count": null,
      "outputs": [
        {
          "data": {
            "text/plain": [
              "dict"
            ]
          },
          "execution_count": 11,
          "metadata": {},
          "output_type": "execute_result"
        }
      ]
    },
    {
      "cell_type": "code",
      "metadata": {
        "id": "VTCTZwOeS4K6",
        "outputId": "d6a7f152-68c8-42b5-99bc-7142734babff"
      },
      "source": [
        "# to create empty sets\n",
        "set4 = set()\n",
        "type(set4)"
      ],
      "execution_count": null,
      "outputs": [
        {
          "data": {
            "text/plain": [
              "set"
            ]
          },
          "execution_count": 12,
          "metadata": {},
          "output_type": "execute_result"
        }
      ]
    },
    {
      "cell_type": "markdown",
      "metadata": {
        "id": "qPg3W3CmS4K6"
      },
      "source": [
        "#### Mutablility\n",
        "Once set is created you can add and remove the elements from the set, but you cannot modify the existing elements in a set"
      ]
    },
    {
      "cell_type": "markdown",
      "metadata": {
        "id": "vB9SCybqS4K7"
      },
      "source": [
        "#### In built methods.\n",
        "##### * To add the elements"
      ]
    },
    {
      "cell_type": "markdown",
      "metadata": {
        "id": "qz2534rIS4K7"
      },
      "source": [
        "##### 1) add(item)\n",
        "adds single item to the set"
      ]
    },
    {
      "cell_type": "code",
      "metadata": {
        "id": "kEHFvE1XS4K8",
        "outputId": "a5bd76ad-b7d4-4ad1-ff30-2443b504546d"
      },
      "source": [
        "set1 = {1,2,3,4,6}\n",
        "# set1\n",
        "set1.add(6)\n",
        "print(set1)"
      ],
      "execution_count": null,
      "outputs": [
        {
          "name": "stdout",
          "output_type": "stream",
          "text": [
            "{1, 2, 3, 4, 6}\n"
          ]
        }
      ]
    },
    {
      "cell_type": "code",
      "metadata": {
        "id": "ofGOEp68S4K9",
        "outputId": "8157a275-c09e-4a7c-b1d7-0868c01be978"
      },
      "source": [
        "set1.add(7)\n",
        "set1"
      ],
      "execution_count": null,
      "outputs": [
        {
          "data": {
            "text/plain": [
              "{1, 2, 3, 4, 6, 7}"
            ]
          },
          "execution_count": 14,
          "metadata": {},
          "output_type": "execute_result"
        }
      ]
    },
    {
      "cell_type": "markdown",
      "metadata": {
        "id": "Ft8zRdijS4K_"
      },
      "source": [
        "##### 2) .update(list)\n",
        "this method is used to add more than one items. All the items should be passed in the form of lists"
      ]
    },
    {
      "cell_type": "code",
      "metadata": {
        "id": "EQNtS9i6S4K_"
      },
      "source": [
        "set1 = {1,2,3,4,5}\n",
        "set1.update([6,7,8]) # pass list of values to set1"
      ],
      "execution_count": null,
      "outputs": []
    },
    {
      "cell_type": "code",
      "metadata": {
        "id": "qUQ2WMEvS4LA",
        "outputId": "e64b2ad3-ddfd-49ce-8df4-19857f4b0eed"
      },
      "source": [
        "set1"
      ],
      "execution_count": null,
      "outputs": [
        {
          "data": {
            "text/plain": [
              "{1, 2, 3, 4, 5, 6, 7, 8}"
            ]
          },
          "execution_count": 16,
          "metadata": {},
          "output_type": "execute_result"
        }
      ]
    },
    {
      "cell_type": "markdown",
      "metadata": {
        "id": "lI-eo9ntS4LA"
      },
      "source": [
        "#### 3) copy()\n",
        "to copy a set"
      ]
    },
    {
      "cell_type": "code",
      "metadata": {
        "id": "cEafQAT4S4LB",
        "outputId": "bb637a26-9028-429e-ae0e-6e2ef10b97ab"
      },
      "source": [
        "set2 = set1.copy()\n",
        "set2"
      ],
      "execution_count": null,
      "outputs": [
        {
          "data": {
            "text/plain": [
              "{1, 2, 3, 4, 5, 6, 7, 8}"
            ]
          },
          "execution_count": 17,
          "metadata": {},
          "output_type": "execute_result"
        }
      ]
    },
    {
      "cell_type": "markdown",
      "metadata": {
        "id": "A4Ym6CedS4LB"
      },
      "source": [
        "##### * To remove the items"
      ]
    },
    {
      "cell_type": "markdown",
      "metadata": {
        "id": "wvbYyKpcS4LC"
      },
      "source": [
        "##### 4) remove(item)\n",
        "removes the specified item from the set. If specified item is not present it will raise error"
      ]
    },
    {
      "cell_type": "code",
      "metadata": {
        "id": "9_AKphUGS4LC",
        "outputId": "b0db3aa5-05c3-4d92-ca41-44736c332e7b"
      },
      "source": [
        "set1"
      ],
      "execution_count": null,
      "outputs": [
        {
          "data": {
            "text/plain": [
              "{1, 2, 3, 4, 5, 6, 7, 8}"
            ]
          },
          "execution_count": 18,
          "metadata": {},
          "output_type": "execute_result"
        }
      ]
    },
    {
      "cell_type": "code",
      "metadata": {
        "id": "uZwXhHoCS4LC",
        "outputId": "0c2b7227-58f4-48f5-b0f0-0a89cab61484"
      },
      "source": [
        "set1.remove(1)\n",
        "set1"
      ],
      "execution_count": null,
      "outputs": [
        {
          "data": {
            "text/plain": [
              "{2, 3, 4, 5, 6, 7, 8}"
            ]
          },
          "execution_count": 19,
          "metadata": {},
          "output_type": "execute_result"
        }
      ]
    },
    {
      "cell_type": "code",
      "metadata": {
        "id": "1eAYuCcCS4LD",
        "outputId": "2d8933c9-b27f-4ddf-ecca-36c605ecbdb7"
      },
      "source": [
        "set1.remove(2)\n",
        "set1"
      ],
      "execution_count": null,
      "outputs": [
        {
          "data": {
            "text/plain": [
              "{3, 4, 5, 6, 7, 8}"
            ]
          },
          "execution_count": 20,
          "metadata": {},
          "output_type": "execute_result"
        }
      ]
    },
    {
      "cell_type": "code",
      "metadata": {
        "id": "dHZEupF2S4LD",
        "outputId": "59f12413-ecd2-4ea0-85dc-771cbd52b74f"
      },
      "source": [
        "#Gives error because 2 is not present\n",
        "set1.remove(2)\n",
        "set1"
      ],
      "execution_count": null,
      "outputs": [
        {
          "ename": "KeyError",
          "evalue": "2",
          "output_type": "error",
          "traceback": [
            "\u001b[1;31m---------------------------------------------------------------------------\u001b[0m",
            "\u001b[1;31mKeyError\u001b[0m                                  Traceback (most recent call last)",
            "\u001b[1;32m<ipython-input-21-a686c1823738>\u001b[0m in \u001b[0;36m<module>\u001b[1;34m\u001b[0m\n\u001b[0;32m      1\u001b[0m \u001b[1;31m#Gives error because 2 is not present\u001b[0m\u001b[1;33m\u001b[0m\u001b[1;33m\u001b[0m\u001b[1;33m\u001b[0m\u001b[0m\n\u001b[1;32m----> 2\u001b[1;33m \u001b[0mset1\u001b[0m\u001b[1;33m.\u001b[0m\u001b[0mremove\u001b[0m\u001b[1;33m(\u001b[0m\u001b[1;36m2\u001b[0m\u001b[1;33m)\u001b[0m\u001b[1;33m\u001b[0m\u001b[1;33m\u001b[0m\u001b[0m\n\u001b[0m\u001b[0;32m      3\u001b[0m \u001b[0mset1\u001b[0m\u001b[1;33m\u001b[0m\u001b[1;33m\u001b[0m\u001b[0m\n",
            "\u001b[1;31mKeyError\u001b[0m: 2"
          ]
        }
      ]
    },
    {
      "cell_type": "markdown",
      "metadata": {
        "id": "onQgqPUmS4LD"
      },
      "source": [
        "##### 5) discard(item)\n",
        "removes the specified item from the set.But if the item is not present then it will not raise error"
      ]
    },
    {
      "cell_type": "code",
      "metadata": {
        "id": "Yzm4tLffS4LE",
        "outputId": "4b516fef-b7e2-4ba1-9319-55d7e14b0082"
      },
      "source": [
        "set1 = {1,2,3,4,5,6}\n",
        "set1"
      ],
      "execution_count": null,
      "outputs": [
        {
          "data": {
            "text/plain": [
              "{1, 2, 3, 4, 5, 6}"
            ]
          },
          "execution_count": 22,
          "metadata": {},
          "output_type": "execute_result"
        }
      ]
    },
    {
      "cell_type": "code",
      "metadata": {
        "id": "xnjpgPMGS4LE",
        "outputId": "e107369a-24c4-43d3-ad02-bad99b181293"
      },
      "source": [
        "set1.discard(1)\n",
        "set1"
      ],
      "execution_count": null,
      "outputs": [
        {
          "data": {
            "text/plain": [
              "{2, 3, 4, 5, 6}"
            ]
          },
          "execution_count": 23,
          "metadata": {},
          "output_type": "execute_result"
        }
      ]
    },
    {
      "cell_type": "code",
      "metadata": {
        "id": "NrED1CHiS4LF",
        "outputId": "7cac7321-6413-4380-d27e-261891d72777"
      },
      "source": [
        "set1.discard(2)\n",
        "set1"
      ],
      "execution_count": null,
      "outputs": [
        {
          "data": {
            "text/plain": [
              "{3, 4, 5, 6}"
            ]
          },
          "execution_count": 24,
          "metadata": {},
          "output_type": "execute_result"
        }
      ]
    },
    {
      "cell_type": "code",
      "metadata": {
        "id": "6LFHbOAwS4LF",
        "outputId": "b98f4e1a-eca4-4ecf-f0d9-8678352f333e"
      },
      "source": [
        "# will not give the error if 2 is not there\n",
        "set1.discard(2)\n",
        "set1"
      ],
      "execution_count": null,
      "outputs": [
        {
          "data": {
            "text/plain": [
              "{3, 4, 5, 6}"
            ]
          },
          "execution_count": 25,
          "metadata": {},
          "output_type": "execute_result"
        }
      ]
    },
    {
      "cell_type": "markdown",
      "metadata": {
        "id": "-wL77H0CS4LF"
      },
      "source": [
        "##### 6) pop()\n",
        "Sets are unordered, so when using the pop() method, you will not know which item that gets removed."
      ]
    },
    {
      "cell_type": "code",
      "metadata": {
        "id": "MmvyqrW0S4LG",
        "outputId": "bf225bc1-fbb8-4232-cb90-92ecbf8f6260"
      },
      "source": [
        "set1 = {\"a\",1,\"B\",2,3,\"c\",4}\n",
        "set1.pop()"
      ],
      "execution_count": null,
      "outputs": [
        {
          "data": {
            "text/plain": [
              "1"
            ]
          },
          "execution_count": 26,
          "metadata": {},
          "output_type": "execute_result"
        }
      ]
    },
    {
      "cell_type": "code",
      "metadata": {
        "id": "hq4D49ucS4LG",
        "outputId": "4b78c4f8-22d1-427e-cc1b-3474bb137617"
      },
      "source": [
        "set1.pop()"
      ],
      "execution_count": null,
      "outputs": [
        {
          "data": {
            "text/plain": [
              "2"
            ]
          },
          "execution_count": 27,
          "metadata": {},
          "output_type": "execute_result"
        }
      ]
    },
    {
      "cell_type": "markdown",
      "metadata": {
        "id": "vGc82E6MS4LG"
      },
      "source": [
        "##### 7) clear()\n",
        "empties the set"
      ]
    },
    {
      "cell_type": "code",
      "metadata": {
        "id": "Amiw40wmS4LH",
        "outputId": "5d2adb0e-1a4d-44a1-800b-8f1afa4e1594"
      },
      "source": [
        "set1"
      ],
      "execution_count": null,
      "outputs": [
        {
          "data": {
            "text/plain": [
              "{3, 4, 'B', 'a', 'c'}"
            ]
          },
          "execution_count": 28,
          "metadata": {},
          "output_type": "execute_result"
        }
      ]
    },
    {
      "cell_type": "code",
      "metadata": {
        "id": "gFWus8WaS4LH",
        "outputId": "5c098cc0-13d4-46f6-d441-8c72a4da2384"
      },
      "source": [
        "set1.clear()\n",
        "set1"
      ],
      "execution_count": null,
      "outputs": [
        {
          "data": {
            "text/plain": [
              "set()"
            ]
          },
          "execution_count": 29,
          "metadata": {},
          "output_type": "execute_result"
        }
      ]
    },
    {
      "cell_type": "markdown",
      "metadata": {
        "id": "loRZ4_DIS4LH"
      },
      "source": [
        "##### * Other inbuilt methods"
      ]
    },
    {
      "cell_type": "markdown",
      "metadata": {
        "id": "pSS6SLU-S4LI"
      },
      "source": [
        "##### 8) union()\n",
        "\n",
        "returns a new set with all the elements from set1 and set2"
      ]
    },
    {
      "cell_type": "code",
      "metadata": {
        "id": "gNfVX00jS4LI",
        "outputId": "4e246ed9-3347-444c-b1fd-0dbd81f19a09"
      },
      "source": [
        "set1 = {1,2,3,4,5}\n",
        "set2 = {4,5,6,7,8}\n",
        "print(set1)\n",
        "print(set2)"
      ],
      "execution_count": null,
      "outputs": [
        {
          "name": "stdout",
          "output_type": "stream",
          "text": [
            "{1, 2, 3, 4, 5}\n",
            "{4, 5, 6, 7, 8}\n"
          ]
        }
      ]
    },
    {
      "cell_type": "code",
      "metadata": {
        "id": "hfcHnIDsS4LI",
        "outputId": "bde6dbef-4668-4de9-ac1e-be55919782c9"
      },
      "source": [
        "set3 = set1.union(set2)\n",
        "set3"
      ],
      "execution_count": null,
      "outputs": [
        {
          "data": {
            "text/plain": [
              "{1, 2, 3, 4, 5, 6, 7, 8}"
            ]
          },
          "execution_count": 31,
          "metadata": {},
          "output_type": "execute_result"
        }
      ]
    },
    {
      "cell_type": "markdown",
      "metadata": {
        "id": "iFC33XA9S4LI"
      },
      "source": [
        "##### 9) intersection()\n",
        "returns the common element from both the sets"
      ]
    },
    {
      "cell_type": "code",
      "metadata": {
        "id": "gDO0J16IS4LJ",
        "outputId": "a42bce38-50b7-4a0f-dde2-5e5d82d91148"
      },
      "source": [
        "set1"
      ],
      "execution_count": null,
      "outputs": [
        {
          "data": {
            "text/plain": [
              "{1, 2, 3, 4, 5}"
            ]
          },
          "execution_count": 32,
          "metadata": {},
          "output_type": "execute_result"
        }
      ]
    },
    {
      "cell_type": "code",
      "metadata": {
        "id": "qulsUZBaS4LJ",
        "outputId": "96cf9fe4-3df5-4670-9fe7-9e697e8404f0"
      },
      "source": [
        "set2"
      ],
      "execution_count": null,
      "outputs": [
        {
          "data": {
            "text/plain": [
              "{4, 5, 6, 7, 8}"
            ]
          },
          "execution_count": 33,
          "metadata": {},
          "output_type": "execute_result"
        }
      ]
    },
    {
      "cell_type": "code",
      "metadata": {
        "id": "UVTLPA-MS4LJ",
        "outputId": "fe16c843-cc87-455a-b8b6-782cb591bfc4"
      },
      "source": [
        "set3 = set1.intersection(set2)\n",
        "set3"
      ],
      "execution_count": null,
      "outputs": [
        {
          "data": {
            "text/plain": [
              "{4, 5}"
            ]
          },
          "execution_count": 34,
          "metadata": {},
          "output_type": "execute_result"
        }
      ]
    },
    {
      "cell_type": "code",
      "metadata": {
        "id": "2HkNcfi_S4LK"
      },
      "source": [
        ""
      ],
      "execution_count": null,
      "outputs": []
    },
    {
      "cell_type": "markdown",
      "metadata": {
        "id": "JEW1mPQeS4LK"
      },
      "source": [
        "### Task7 - go through other inbuilt methods like\n",
        "1) difference()\n",
        "2) symmetric_difference()"
      ]
    },
    {
      "cell_type": "code",
      "metadata": {
        "colab": {
          "base_uri": "https://localhost:8080/"
        },
        "id": "16jVFLYuS6FQ",
        "outputId": "8add0d35-6be8-4cdb-af9a-0c2722cf2211"
      },
      "source": [
        "a ={1,2,3}\n",
        "b ={1,5,4}\n",
        "c =a.difference((b))\n",
        "print (c)"
      ],
      "execution_count": 4,
      "outputs": [
        {
          "output_type": "stream",
          "name": "stdout",
          "text": [
            "{2, 3}\n"
          ]
        }
      ]
    },
    {
      "cell_type": "code",
      "metadata": {
        "colab": {
          "base_uri": "https://localhost:8080/"
        },
        "id": "QsdcoGwZTy5R",
        "outputId": "c2012d5a-3fa9-40d2-88bf-a35633fde1c2"
      },
      "source": [
        "a ={1,2,3,4,5}\n",
        "b={1,2,3}\n",
        "c =b.symmetric_difference((a))\n",
        "print(c)"
      ],
      "execution_count": 7,
      "outputs": [
        {
          "output_type": "stream",
          "name": "stdout",
          "text": [
            "{4, 5}\n"
          ]
        }
      ]
    },
    {
      "cell_type": "markdown",
      "metadata": {
        "id": "1chfOpzIS4LK"
      },
      "source": [
        "### Task8 - Make a table of all the In-built data structures and Point out the differences one by one\n",
        "What are Data Structures in Python?\n",
        "\n",
        "###Data Structure #1: Lists in Python\n",
        "\n",
        "1.Creating Lists\n",
        "\n",
        "2.Accessing List elements\n",
        "\n",
        "3.Appending values in Lists\n",
        "\n",
        "4.Removing elements from Lists\n",
        "\n",
        "5.Sorting Lists\n",
        "\n",
        "6.Concatenating Lists\n",
        "\n",
        "\n",
        "List comprehensions\n",
        "\n",
        "Stacks & Queues using Lists\n",
        "\n",
        "####Data Structure #2: Tuples in Python\n",
        "\n",
        "1.Creating Tuples in Python\n",
        "\n",
        "2.Immutability of Tuples\n",
        "\n",
        "3.Tuple assignment\n",
        "\n",
        "4.Changing Tuples values\n",
        "\n",
        "5.Data Structure #3: Dictionary in Python\n",
        "\n",
        "6.Generating Dictionary\n",
        "\n",
        "7.Accessing keys and values\n",
        "\n",
        "########Data Structure #4: Sets in Python\n",
        "\n",
        "1.Add and Remove elements from Sets\n",
        "\n",
        "2.Sets Opera\n",
        "\n",
        "\n"
      ]
    }
  ]
}