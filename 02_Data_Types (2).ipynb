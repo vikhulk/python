{
  "nbformat": 4,
  "nbformat_minor": 0,
  "metadata": {
    "kernelspec": {
      "display_name": "Python 3",
      "language": "python",
      "name": "python3"
    },
    "language_info": {
      "codemirror_mode": {
        "name": "ipython",
        "version": 3
      },
      "file_extension": ".py",
      "mimetype": "text/x-python",
      "name": "python",
      "nbconvert_exporter": "python",
      "pygments_lexer": "ipython3",
      "version": "3.8.8"
    },
    "colab": {
      "name": "02 - Data Types.ipynb",
      "provenance": []
    }
  },
  "cells": [
    {
      "cell_type": "markdown",
      "metadata": {
        "id": "tfkLepzppJa5"
      },
      "source": [
        "## Basic Data types in Python"
      ]
    },
    {
      "cell_type": "markdown",
      "metadata": {
        "id": "laZFowVupJa-"
      },
      "source": [
        "![title](img/data_types.png)"
      ]
    },
    {
      "cell_type": "markdown",
      "metadata": {
        "id": "m_gVh1aZpJbA"
      },
      "source": [
        "## Numbers\n",
        "Numbers are generally used when we are doing some math operations on it"
      ]
    },
    {
      "cell_type": "code",
      "metadata": {
        "id": "JLTpsZGepJbC"
      },
      "source": [
        "# integers"
      ],
      "execution_count": null,
      "outputs": []
    },
    {
      "cell_type": "code",
      "metadata": {
        "colab": {
          "base_uri": "https://localhost:8080/"
        },
        "id": "VYZy4jy_pJbE",
        "outputId": "b2adc74d-9802-4d73-ac16-4f281ede362a"
      },
      "source": [
        "print(4)"
      ],
      "execution_count": null,
      "outputs": [
        {
          "output_type": "stream",
          "name": "stdout",
          "text": [
            "4\n"
          ]
        }
      ]
    },
    {
      "cell_type": "code",
      "metadata": {
        "id": "sJ9gvNEKpJbG",
        "outputId": "162cb949-b776-4725-fcf0-57b63f86930f"
      },
      "source": [
        "print(-100)"
      ],
      "execution_count": null,
      "outputs": [
        {
          "name": "stdout",
          "output_type": "stream",
          "text": [
            "-100\n"
          ]
        }
      ]
    },
    {
      "cell_type": "code",
      "metadata": {
        "id": "6djQ7GC7pJbH",
        "outputId": "8260e7bd-4bc0-4516-e68e-5b8ec8000352"
      },
      "source": [
        "type(5)"
      ],
      "execution_count": null,
      "outputs": [
        {
          "data": {
            "text/plain": [
              "int"
            ]
          },
          "execution_count": 4,
          "metadata": {},
          "output_type": "execute_result"
        }
      ]
    },
    {
      "cell_type": "code",
      "metadata": {
        "id": "yA4IBH6UpJbJ",
        "outputId": "3b23d7a8-e0e3-48ab-bae4-d57d3bcf8bab"
      },
      "source": [
        "type(-100)"
      ],
      "execution_count": null,
      "outputs": [
        {
          "data": {
            "text/plain": [
              "int"
            ]
          },
          "execution_count": 5,
          "metadata": {},
          "output_type": "execute_result"
        }
      ]
    },
    {
      "cell_type": "code",
      "metadata": {
        "id": "BQP79RIGpJbK",
        "outputId": "55368257-2d60-4463-8d3b-d86ebc895162"
      },
      "source": [
        "# float\n",
        "print(2.3)"
      ],
      "execution_count": null,
      "outputs": [
        {
          "name": "stdout",
          "output_type": "stream",
          "text": [
            "2.3\n"
          ]
        }
      ]
    },
    {
      "cell_type": "code",
      "metadata": {
        "id": "bkGdDLYDpJbM",
        "outputId": "02e5d831-c630-4624-e461-eab62aa5103e"
      },
      "source": [
        "print(-100.3)"
      ],
      "execution_count": null,
      "outputs": [
        {
          "name": "stdout",
          "output_type": "stream",
          "text": [
            "-100.3\n"
          ]
        }
      ]
    },
    {
      "cell_type": "code",
      "metadata": {
        "id": "eaV_ppLBpJbN",
        "outputId": "1e883e68-2ca1-4091-95c2-9c773e0c89e2"
      },
      "source": [
        "type(2.3)"
      ],
      "execution_count": null,
      "outputs": [
        {
          "data": {
            "text/plain": [
              "float"
            ]
          },
          "execution_count": 8,
          "metadata": {},
          "output_type": "execute_result"
        }
      ]
    },
    {
      "cell_type": "code",
      "metadata": {
        "id": "jb7dsIO9pJbO",
        "outputId": "749cb2ab-8fe4-4043-b5c5-348bb0715d6b"
      },
      "source": [
        "type(-100.3)"
      ],
      "execution_count": null,
      "outputs": [
        {
          "data": {
            "text/plain": [
              "float"
            ]
          },
          "execution_count": 9,
          "metadata": {},
          "output_type": "execute_result"
        }
      ]
    },
    {
      "cell_type": "markdown",
      "metadata": {
        "id": "J7WkQHbhpJbP"
      },
      "source": [
        "## Booleans\n",
        "logical values indicating True or False"
      ]
    },
    {
      "cell_type": "code",
      "metadata": {
        "id": "7OjcIJJdpJbQ"
      },
      "source": [
        "# True or False"
      ],
      "execution_count": null,
      "outputs": []
    },
    {
      "cell_type": "code",
      "metadata": {
        "colab": {
          "base_uri": "https://localhost:8080/"
        },
        "id": "JlwgK6yipJbR",
        "outputId": "dd5be4df-a1f1-4436-b331-20dfe6b3dd9a"
      },
      "source": [
        "a = False\n",
        "print(type(True))"
      ],
      "execution_count": null,
      "outputs": [
        {
          "output_type": "stream",
          "name": "stdout",
          "text": [
            "<class 'bool'>\n"
          ]
        }
      ]
    },
    {
      "cell_type": "code",
      "metadata": {
        "id": "LlroBV_jpJbR",
        "outputId": "f5b019eb-26ec-4151-b244-3c9db85ba2c7"
      },
      "source": [
        "b = False\n",
        "print(type(b))"
      ],
      "execution_count": null,
      "outputs": [
        {
          "name": "stdout",
          "output_type": "stream",
          "text": [
            "<class 'bool'>\n"
          ]
        }
      ]
    },
    {
      "cell_type": "code",
      "metadata": {
        "id": "KtojbU3ZpJbS",
        "outputId": "28e0dc6a-cf94-4764-835e-38989db73ffb"
      },
      "source": [
        "a = 5\n",
        "print(type(a))"
      ],
      "execution_count": null,
      "outputs": [
        {
          "name": "stdout",
          "output_type": "stream",
          "text": [
            "<class 'int'>\n"
          ]
        }
      ]
    },
    {
      "cell_type": "markdown",
      "metadata": {
        "id": "JqAljvK8pJbT"
      },
      "source": [
        "## Strings\n",
        "Series of characters enclosed withing single or double quotes"
      ]
    },
    {
      "cell_type": "code",
      "metadata": {
        "id": "azcXx8yCpJbU"
      },
      "source": [
        "# single quotes"
      ],
      "execution_count": null,
      "outputs": []
    },
    {
      "cell_type": "code",
      "metadata": {
        "colab": {
          "base_uri": "https://localhost:8080/"
        },
        "id": "-pwXYahqpJbU",
        "outputId": "8fd6383a-cae5-49e6-a01a-ef5ab146ac6d"
      },
      "source": [
        "a = 'vikram'\n",
        "print(a)\n",
        "b = 'is doing Python'\n",
        "print(b)\n",
        "print(type(b))"
      ],
      "execution_count": null,
      "outputs": [
        {
          "output_type": "stream",
          "name": "stdout",
          "text": [
            "vikram\n",
            "is doing Python\n",
            "<class 'str'>\n"
          ]
        }
      ]
    },
    {
      "cell_type": "code",
      "metadata": {
        "id": "1q-WAzJhpJbV",
        "outputId": "d6616ace-437f-48db-e513-3c6c2dfb1b59"
      },
      "source": [
        "# type(a)\n",
        "type(b)"
      ],
      "execution_count": null,
      "outputs": [
        {
          "data": {
            "text/plain": [
              "str"
            ]
          },
          "execution_count": 16,
          "metadata": {},
          "output_type": "execute_result"
        }
      ]
    },
    {
      "cell_type": "code",
      "metadata": {
        "id": "KfVVwT15pJbW"
      },
      "source": [
        "# double quotes"
      ],
      "execution_count": null,
      "outputs": []
    },
    {
      "cell_type": "code",
      "metadata": {
        "id": "oxf31JHrpJbW",
        "outputId": "8c2d7c0c-2711-481c-f2b8-0a3b9b4af0b8"
      },
      "source": [
        "a = \"hello\"\n",
        "b = \"python\"\n",
        "print(a)\n",
        "print(b)"
      ],
      "execution_count": null,
      "outputs": [
        {
          "name": "stdout",
          "output_type": "stream",
          "text": [
            "hello\n",
            "python\n"
          ]
        }
      ]
    },
    {
      "cell_type": "code",
      "metadata": {
        "id": "6jfvpUFppJbX",
        "outputId": "ad30e469-3ab1-4295-85d9-d9e200fb21e4"
      },
      "source": [
        "# type(a)\n",
        "type(b)"
      ],
      "execution_count": null,
      "outputs": [
        {
          "data": {
            "text/plain": [
              "str"
            ]
          },
          "execution_count": 19,
          "metadata": {},
          "output_type": "execute_result"
        }
      ]
    },
    {
      "cell_type": "code",
      "metadata": {
        "colab": {
          "base_uri": "https://localhost:8080/"
        },
        "id": "YSSIfxfRpJbX",
        "outputId": "d0097d61-37d0-4cd7-e318-7263bee11eee"
      },
      "source": [
        "# required string = I'm Learning python \n",
        "\n",
        "# 1) using single quotes\n",
        "a = 'I\\'m Learning python'\n",
        "print(a)\n",
        "print(type(a))\n",
        "\n",
        "# 2) using double quotes\n",
        "b = \"I'm Learning python\"\n",
        "print(b)\n",
        "print(type(b))"
      ],
      "execution_count": null,
      "outputs": [
        {
          "output_type": "stream",
          "name": "stdout",
          "text": [
            "I'm Learning python\n",
            "<class 'str'>\n",
            "I'm Learning python\n",
            "<class 'str'>\n"
          ]
        }
      ]
    },
    {
      "cell_type": "code",
      "metadata": {
        "colab": {
          "base_uri": "https://localhost:8080/"
        },
        "id": "giz8bAdCpJbY",
        "outputId": "3d94005b-edc1-42f2-8d0a-986e5bdb1f2e"
      },
      "source": [
        "# required string = I am Learning \"python\" \n",
        "\n",
        "# 1) using single quotes\n",
        "a = 'I am Learning \"python\"'\n",
        "print(a)\n",
        "print(type(a))\n",
        "\n",
        "# 2) using double quotes\n",
        "b = \"I am Learning \\\"python\\\"\"\n",
        "print(b)\n",
        "print(type(b))"
      ],
      "execution_count": null,
      "outputs": [
        {
          "output_type": "stream",
          "name": "stdout",
          "text": [
            "I am Learning \"python\"\n",
            "<class 'str'>\n",
            "I am Learning \"python\"\n",
            "<class 'str'>\n"
          ]
        }
      ]
    },
    {
      "cell_type": "code",
      "metadata": {
        "id": "LmcMyNSopJbY",
        "outputId": "e9efdf73-19c8-4601-a0d7-d5cd532a5b5c"
      },
      "source": [
        "# len()\n",
        "# returns the length of the string\n",
        "\n",
        "a = \"Python\"\n",
        "len(a)"
      ],
      "execution_count": null,
      "outputs": [
        {
          "data": {
            "text/plain": [
              "6"
            ]
          },
          "execution_count": 22,
          "metadata": {},
          "output_type": "execute_result"
        }
      ]
    },
    {
      "cell_type": "code",
      "metadata": {
        "id": "L4DoLGvYpJbZ",
        "outputId": "7f64c876-175f-42ac-9e07-762dff6318f9"
      },
      "source": [
        "#Note : spaces are also counted\n",
        "b = 'Welcome to python'\n",
        "len(b)"
      ],
      "execution_count": null,
      "outputs": [
        {
          "data": {
            "text/plain": [
              "17"
            ]
          },
          "execution_count": 23,
          "metadata": {},
          "output_type": "execute_result"
        }
      ]
    },
    {
      "cell_type": "markdown",
      "metadata": {
        "id": "Z3GUh2_spJbZ"
      },
      "source": [
        "### String indexing"
      ]
    },
    {
      "cell_type": "markdown",
      "metadata": {
        "id": "buVeHAjzpJbZ"
      },
      "source": [
        "* indexing\n",
        "![title](img/indexing.png)"
      ]
    },
    {
      "cell_type": "code",
      "metadata": {
        "id": "YX6oO2sHpJbZ"
      },
      "source": [
        ""
      ],
      "execution_count": null,
      "outputs": []
    },
    {
      "cell_type": "markdown",
      "metadata": {
        "id": "IfwTGzvOpJba"
      },
      "source": [
        "* reverse indexing\n",
        "![title](img/rev_indexing.png)"
      ]
    },
    {
      "cell_type": "code",
      "metadata": {
        "id": "TmEB17sfpJba",
        "outputId": "64d29998-5363-4fec-d47b-b9a11ed24446"
      },
      "source": [
        "# examples on indexing\n",
        "a = \"hello i am sachin\"\n",
        "print(a[0])"
      ],
      "execution_count": null,
      "outputs": [
        {
          "name": "stdout",
          "output_type": "stream",
          "text": [
            "h\n"
          ]
        }
      ]
    },
    {
      "cell_type": "code",
      "metadata": {
        "id": "9dfVfqRqpJba",
        "outputId": "12b628e9-0c84-4497-a885-2c6dda1533ca"
      },
      "source": [
        "print(a[1])"
      ],
      "execution_count": null,
      "outputs": [
        {
          "name": "stdout",
          "output_type": "stream",
          "text": [
            "e\n"
          ]
        }
      ]
    },
    {
      "cell_type": "code",
      "metadata": {
        "id": "bp-zXcANpJba",
        "outputId": "a4ffd25f-081d-45fb-ba29-230f4465286b"
      },
      "source": [
        "print(a[4])"
      ],
      "execution_count": null,
      "outputs": [
        {
          "name": "stdout",
          "output_type": "stream",
          "text": [
            "o\n"
          ]
        }
      ]
    },
    {
      "cell_type": "code",
      "metadata": {
        "id": "Vo-KDeZhpJbb",
        "outputId": "21c68a24-c3b5-4424-ac5f-99a0c756d4f1"
      },
      "source": [
        "print(a[-1])"
      ],
      "execution_count": null,
      "outputs": [
        {
          "name": "stdout",
          "output_type": "stream",
          "text": [
            "n\n"
          ]
        }
      ]
    },
    {
      "cell_type": "code",
      "metadata": {
        "id": "r2avzS7PpJbb",
        "outputId": "976fb431-1d08-4147-e00c-fc51ccf4108f"
      },
      "source": [
        "print(a[-2])"
      ],
      "execution_count": null,
      "outputs": [
        {
          "name": "stdout",
          "output_type": "stream",
          "text": [
            "i\n"
          ]
        }
      ]
    },
    {
      "cell_type": "markdown",
      "metadata": {
        "id": "B_0IOcCvpJbb"
      },
      "source": [
        "### Slicing"
      ]
    },
    {
      "cell_type": "code",
      "metadata": {
        "id": "oewkKT92pJbc"
      },
      "source": [
        "# [start:stop:step]\n",
        "\n",
        "# start = starting position (default value is 0)\n",
        "# stop = end position(exclusive) (default value is end position)\n",
        "# step = step size or increment size (default value is 1)"
      ],
      "execution_count": null,
      "outputs": []
    },
    {
      "cell_type": "code",
      "metadata": {
        "id": "1UI_ODKbpJbc",
        "outputId": "bcb7e6e4-9930-447f-d5be-99fa92670185"
      },
      "source": [
        "# examples\n",
        "a = \"hello world\"\n",
        "\n",
        "#to grab \"hello\"\n",
        "a[0:5:1] # same as a[:5]"
      ],
      "execution_count": null,
      "outputs": [
        {
          "data": {
            "text/plain": [
              "'hello'"
            ]
          },
          "execution_count": 30,
          "metadata": {},
          "output_type": "execute_result"
        }
      ]
    },
    {
      "cell_type": "code",
      "metadata": {
        "id": "-Z9-3im2pJbc",
        "outputId": "bf33b5ed-06e9-4eb7-e2db-785502f34e60"
      },
      "source": [
        "# to grab 'world'\n",
        "\n",
        "# 1) using positive indexes\n",
        "a[6:]"
      ],
      "execution_count": null,
      "outputs": [
        {
          "data": {
            "text/plain": [
              "'world'"
            ]
          },
          "execution_count": 31,
          "metadata": {},
          "output_type": "execute_result"
        }
      ]
    },
    {
      "cell_type": "code",
      "metadata": {
        "id": "Ll-LJHxupJbd",
        "outputId": "d27ae5fb-9754-40c9-a2ed-3ab1c5c820a4"
      },
      "source": [
        "# 2) using negative indexes\n",
        "a[-5:] # gets the last 5 characters."
      ],
      "execution_count": null,
      "outputs": [
        {
          "data": {
            "text/plain": [
              "'world'"
            ]
          },
          "execution_count": 32,
          "metadata": {},
          "output_type": "execute_result"
        }
      ]
    },
    {
      "cell_type": "code",
      "metadata": {
        "id": "x0I_0ezEpJbd",
        "outputId": "ff360e05-5a1a-4c94-ae81-1795345cb00d"
      },
      "source": [
        "# to get alternated characters from the string,specify step = 2\n",
        "a[::2]"
      ],
      "execution_count": null,
      "outputs": [
        {
          "data": {
            "text/plain": [
              "'hlowrd'"
            ]
          },
          "execution_count": 33,
          "metadata": {},
          "output_type": "execute_result"
        }
      ]
    },
    {
      "cell_type": "code",
      "metadata": {
        "id": "3me6ECoWpJbd",
        "outputId": "aeaae815-1817-443f-d795-0313a8ee9aaa"
      },
      "source": [
        "# to get the reverse of a string\n",
        "a[::-1]"
      ],
      "execution_count": null,
      "outputs": [
        {
          "data": {
            "text/plain": [
              "'dlrow olleh'"
            ]
          },
          "execution_count": 34,
          "metadata": {},
          "output_type": "execute_result"
        }
      ]
    },
    {
      "cell_type": "code",
      "metadata": {
        "id": "KHz4fQcapJbe"
      },
      "source": [
        ""
      ],
      "execution_count": null,
      "outputs": []
    },
    {
      "cell_type": "markdown",
      "metadata": {
        "id": "KujCHXc5pJbe"
      },
      "source": [
        "## Concatination"
      ]
    },
    {
      "cell_type": "code",
      "metadata": {
        "id": "M7wIVTJOpJbe",
        "outputId": "70009b7b-18ab-4d1b-d9a1-c6bb795c286b"
      },
      "source": [
        "str1 = 'A'\n",
        "str2 = 'B'\n",
        "str3 = str1+str2\n",
        "print(str3)"
      ],
      "execution_count": null,
      "outputs": [
        {
          "name": "stdout",
          "output_type": "stream",
          "text": [
            "AB\n"
          ]
        }
      ]
    },
    {
      "cell_type": "code",
      "metadata": {
        "id": "Ht0iz5SlpJbe",
        "outputId": "7f8e0898-b436-4723-d71d-9191601a5d92"
      },
      "source": [
        "first_name = 'kamlesh '\n",
        "last_name = 'gudli'\n",
        "full_name = first_name+last_name\n",
        "print(full_name)"
      ],
      "execution_count": null,
      "outputs": [
        {
          "name": "stdout",
          "output_type": "stream",
          "text": [
            "kamlesh gudli\n"
          ]
        }
      ]
    },
    {
      "cell_type": "code",
      "metadata": {
        "colab": {
          "base_uri": "https://localhost:8080/"
        },
        "id": "QHKliPYcpJbf",
        "outputId": "5e1201e8-ecbe-4d24-f776-f458a5bebf5c"
      },
      "source": [
        "# Error\n",
        "a = 5\n",
        "b = 6\n",
        "print(a+b)"
      ],
      "execution_count": null,
      "outputs": [
        {
          "output_type": "stream",
          "name": "stdout",
          "text": [
            "11\n"
          ]
        }
      ]
    },
    {
      "cell_type": "markdown",
      "metadata": {
        "id": "H1RehblEpJbf"
      },
      "source": [
        "##### Note : before concatinating, make sure both the variable are of string type. Because string concatination can only be performed with strings ,no other data types can be used to concatinate with the string"
      ]
    },
    {
      "cell_type": "markdown",
      "metadata": {
        "id": "DMQLg4MopJbf"
      },
      "source": [
        "## Immutability"
      ]
    },
    {
      "cell_type": "code",
      "metadata": {
        "id": "17Z3oJsipJbf"
      },
      "source": [
        "name = \"Tree\""
      ],
      "execution_count": null,
      "outputs": []
    },
    {
      "cell_type": "code",
      "metadata": {
        "id": "xdMTsFnlpJbg",
        "outputId": "f1a4db29-c39d-45c5-a9fe-02b0f766d153"
      },
      "source": [
        "# cannot change like this.Because strings are immutable\n",
        "name[0] = \"F\""
      ],
      "execution_count": null,
      "outputs": [
        {
          "ename": "TypeError",
          "evalue": "'str' object does not support item assignment",
          "output_type": "error",
          "traceback": [
            "\u001b[1;31m---------------------------------------------------------------------------\u001b[0m",
            "\u001b[1;31mTypeError\u001b[0m                                 Traceback (most recent call last)",
            "\u001b[1;32m<ipython-input-40-c853577350ad>\u001b[0m in \u001b[0;36m<module>\u001b[1;34m\u001b[0m\n\u001b[0;32m      1\u001b[0m \u001b[1;31m# cannot change like this.Because strings are immutable\u001b[0m\u001b[1;33m\u001b[0m\u001b[1;33m\u001b[0m\u001b[1;33m\u001b[0m\u001b[0m\n\u001b[1;32m----> 2\u001b[1;33m \u001b[0mname\u001b[0m\u001b[1;33m[\u001b[0m\u001b[1;36m0\u001b[0m\u001b[1;33m]\u001b[0m \u001b[1;33m=\u001b[0m \u001b[1;34m\"F\"\u001b[0m\u001b[1;33m\u001b[0m\u001b[1;33m\u001b[0m\u001b[0m\n\u001b[0m",
            "\u001b[1;31mTypeError\u001b[0m: 'str' object does not support item assignment"
          ]
        }
      ]
    },
    {
      "cell_type": "code",
      "metadata": {
        "id": "Q4N6Ae4WpJbg",
        "outputId": "d283a574-afae-4da6-f648-f00beb0aaec9"
      },
      "source": [
        "# work around\n",
        "\"F\" + name[1:]"
      ],
      "execution_count": null,
      "outputs": [
        {
          "data": {
            "text/plain": [
              "'Free'"
            ]
          },
          "execution_count": 41,
          "metadata": {},
          "output_type": "execute_result"
        }
      ]
    },
    {
      "cell_type": "markdown",
      "metadata": {
        "id": "Kcux6VKZpJbg"
      },
      "source": [
        "## Some inbuilt functions"
      ]
    },
    {
      "cell_type": "code",
      "metadata": {
        "colab": {
          "base_uri": "https://localhost:8080/"
        },
        "id": "Cv4-ph2vpJbg",
        "outputId": "28887988-e989-446d-c5a6-f7f63b3029a6"
      },
      "source": [
        "# 1) .upper()\n",
        "a = 'hello world'\n",
        "print(a.upper())"
      ],
      "execution_count": null,
      "outputs": [
        {
          "output_type": "stream",
          "name": "stdout",
          "text": [
            "HELLO WORLD\n"
          ]
        }
      ]
    },
    {
      "cell_type": "code",
      "metadata": {
        "id": "jc3hBRK4pJbh",
        "outputId": "1878518b-dff1-45f9-e461-67ee096a2827"
      },
      "source": [
        "# 2) .lower()\n",
        "print(a.lower())"
      ],
      "execution_count": null,
      "outputs": [
        {
          "name": "stdout",
          "output_type": "stream",
          "text": [
            "hello world\n"
          ]
        }
      ]
    },
    {
      "cell_type": "code",
      "metadata": {
        "colab": {
          "base_uri": "https://localhost:8080/"
        },
        "id": "EPBwoyTJpJbh",
        "outputId": "6c67c718-09ba-41e6-a6a3-039ae8ca3295"
      },
      "source": [
        "# 3) .startswith()\n",
        "print(a.startswith(\"h\"))"
      ],
      "execution_count": null,
      "outputs": [
        {
          "output_type": "stream",
          "name": "stdout",
          "text": [
            "True\n"
          ]
        }
      ]
    },
    {
      "cell_type": "code",
      "metadata": {
        "colab": {
          "base_uri": "https://localhost:8080/"
        },
        "id": "k8c7iC_FpJbi",
        "outputId": "26c9b4e0-7626-47b9-bf94-63232b619602"
      },
      "source": [
        "# 4) .endswith()\n",
        "print(a.endswith('d'))"
      ],
      "execution_count": null,
      "outputs": [
        {
          "output_type": "stream",
          "name": "stdout",
          "text": [
            "True\n"
          ]
        }
      ]
    },
    {
      "cell_type": "code",
      "metadata": {
        "id": "vDdjLRYGpJbi",
        "outputId": "858d758b-8aa4-40e5-9d03-074de58f757c"
      },
      "source": [
        "# 5) .capitalize()\n",
        "print(a)\n",
        "print(a.capitalize())"
      ],
      "execution_count": null,
      "outputs": [
        {
          "name": "stdout",
          "output_type": "stream",
          "text": [
            "hello world\n",
            "Hello world\n"
          ]
        }
      ]
    },
    {
      "cell_type": "markdown",
      "metadata": {
        "id": "l-jslePJpJbi"
      },
      "source": [
        "### Task 1 & 2"
      ]
    },
    {
      "cell_type": "code",
      "metadata": {
        "id": "jRjmKIN4pJbj"
      },
      "source": [
        "# task 1) go through some of the other in built functions\n",
        "\n",
        "# task 2) \n",
        "\n",
        "# given a string for example\n",
        "str1 = \"Welcome to python\"\n",
        "\n",
        "# check if \"to\" is present in \"welcome to python\""
      ],
      "execution_count": null,
      "outputs": []
    },
    {
      "cell_type": "code",
      "metadata": {
        "colab": {
          "base_uri": "https://localhost:8080/"
        },
        "id": "5iH0QbdsvjxZ",
        "outputId": "4f95882f-a48a-477e-8258-e513e690a0bc"
      },
      "source": [
        "a=-7 ##abs() it returns absolute value of function\n",
        "abs(a)"
      ],
      "execution_count": null,
      "outputs": [
        {
          "output_type": "execute_result",
          "data": {
            "text/plain": [
              "7"
            ]
          },
          "metadata": {},
          "execution_count": 24
        }
      ]
    },
    {
      "cell_type": "code",
      "metadata": {
        "colab": {
          "base_uri": "https://localhost:8080/"
        },
        "id": "bn-fs_PxwWGH",
        "outputId": "e788e0f7-a918-4255-81b1-2e14cc9170b8"
      },
      "source": [
        "x=38 ##it returns the boolean value of specified object\n",
        "print(bin(x))\n"
      ],
      "execution_count": null,
      "outputs": [
        {
          "output_type": "stream",
          "name": "stdout",
          "text": [
            "0b100110\n"
          ]
        }
      ]
    },
    {
      "cell_type": "code",
      "metadata": {
        "colab": {
          "base_uri": "https://localhost:8080/"
        },
        "id": "k0r-Fcaz1Rdj",
        "outputId": "37b74a83-3fea-40f0-8191-e0797c1f2def"
      },
      "source": [
        "a=2.2565415 ##returs a float function\n",
        "float(a)"
      ],
      "execution_count": null,
      "outputs": [
        {
          "output_type": "execute_result",
          "data": {
            "text/plain": [
              "2.2565415"
            ]
          },
          "metadata": {},
          "execution_count": 40
        }
      ]
    },
    {
      "cell_type": "code",
      "metadata": {
        "colab": {
          "base_uri": "https://localhost:8080/"
        },
        "id": "jjY54hW01gwc",
        "outputId": "2ce3a948-5fcf-4cd6-c767-2cc88bc84ba0"
      },
      "source": [
        "x =complex(3,5) ##it return complex number\n",
        "print(x)\n"
      ],
      "execution_count": null,
      "outputs": [
        {
          "output_type": "stream",
          "name": "stdout",
          "text": [
            "(3+5j)\n"
          ]
        }
      ]
    },
    {
      "cell_type": "code",
      "metadata": {
        "colab": {
          "base_uri": "https://localhost:8080/"
        },
        "id": "Hqmedm4A5KAB",
        "outputId": "78aa4f18-09e4-42d2-e37a-1064410e4eaf"
      },
      "source": [
        "print(str1)"
      ],
      "execution_count": null,
      "outputs": [
        {
          "output_type": "stream",
          "name": "stdout",
          "text": [
            "Welcome to python\n"
          ]
        }
      ]
    },
    {
      "cell_type": "code",
      "metadata": {
        "id": "5lzYDdvpDGXQ",
        "colab": {
          "base_uri": "https://localhost:8080/"
        },
        "outputId": "6402ccd3-01fd-4975-8230-31844b28dea8"
      },
      "source": [
        "str1=\"welcome to python\"\n",
        "if 'to'in str1:\n",
        "  print(\"found\")\n",
        "else:\n",
        "  print(\"not found\")  "
      ],
      "execution_count": 4,
      "outputs": [
        {
          "output_type": "stream",
          "name": "stdout",
          "text": [
            "found\n"
          ]
        }
      ]
    }
  ]
}