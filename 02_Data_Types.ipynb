{
  "nbformat": 4,
  "nbformat_minor": 0,
  "metadata": {
    "kernelspec": {
      "display_name": "Python 3",
      "language": "python",
      "name": "python3"
    },
    "language_info": {
      "codemirror_mode": {
        "name": "ipython",
        "version": 3
      },
      "file_extension": ".py",
      "mimetype": "text/x-python",
      "name": "python",
      "nbconvert_exporter": "python",
      "pygments_lexer": "ipython3",
      "version": "3.8.8"
    },
    "colab": {
      "name": "02 - Data Types.ipynb",
      "provenance": []
    }
  },
  "cells": [
    {
      "cell_type": "markdown",
      "metadata": {
        "id": "caFZty7lxGPp"
      },
      "source": [
        "## Basic Data types in Python"
      ]
    },
    {
      "cell_type": "markdown",
      "metadata": {
        "id": "2m6Tc4bNxGP6"
      },
      "source": [
        "![title](img/data_types.png)"
      ]
    },
    {
      "cell_type": "markdown",
      "metadata": {
        "id": "PnjWlUtlxGP7"
      },
      "source": [
        "## Numbers\n",
        "Numbers are generally used when we are doing some math operations on it"
      ]
    },
    {
      "cell_type": "code",
      "metadata": {
        "id": "bT3oFsZmxGP-"
      },
      "source": [
        "# integers"
      ],
      "execution_count": null,
      "outputs": []
    },
    {
      "cell_type": "code",
      "metadata": {
        "colab": {
          "base_uri": "https://localhost:8080/"
        },
        "id": "XdqXQlP_xGP_",
        "outputId": "3eba9189-b988-4e86-8143-d917fee87db4"
      },
      "source": [
        "print(7)"
      ],
      "execution_count": 3,
      "outputs": [
        {
          "output_type": "stream",
          "name": "stdout",
          "text": [
            "7\n"
          ]
        }
      ]
    },
    {
      "cell_type": "code",
      "metadata": {
        "id": "VOwQYN_HxGQB",
        "outputId": "407e718e-3f4b-425f-d703-67b357a53da5"
      },
      "source": [
        "print(-100)"
      ],
      "execution_count": null,
      "outputs": [
        {
          "name": "stdout",
          "output_type": "stream",
          "text": [
            "-100\n"
          ]
        }
      ]
    },
    {
      "cell_type": "code",
      "metadata": {
        "id": "jaSqkX_NxGQC",
        "outputId": "debbffbe-6535-40ee-8de1-f77fcf0f9b98"
      },
      "source": [
        "type(5)"
      ],
      "execution_count": null,
      "outputs": [
        {
          "data": {
            "text/plain": [
              "int"
            ]
          },
          "execution_count": 4,
          "metadata": {},
          "output_type": "execute_result"
        }
      ]
    },
    {
      "cell_type": "code",
      "metadata": {
        "id": "flvFCugzxGQD",
        "outputId": "9a9627bc-ae05-4dcf-fb49-b0aec68296b0"
      },
      "source": [
        "type(-100)"
      ],
      "execution_count": null,
      "outputs": [
        {
          "data": {
            "text/plain": [
              "int"
            ]
          },
          "execution_count": 5,
          "metadata": {},
          "output_type": "execute_result"
        }
      ]
    },
    {
      "cell_type": "code",
      "metadata": {
        "id": "HMvzKa8TxGQE",
        "outputId": "7572b22d-dfba-4743-bc63-d36c1637c54e"
      },
      "source": [
        "# float\n",
        "print(2.3)"
      ],
      "execution_count": null,
      "outputs": [
        {
          "name": "stdout",
          "output_type": "stream",
          "text": [
            "2.3\n"
          ]
        }
      ]
    },
    {
      "cell_type": "code",
      "metadata": {
        "id": "4m83K78KxGQF",
        "outputId": "94889c1f-1ee3-416b-8339-8992cb7c0f45"
      },
      "source": [
        "print(-100.3)"
      ],
      "execution_count": null,
      "outputs": [
        {
          "name": "stdout",
          "output_type": "stream",
          "text": [
            "-100.3\n"
          ]
        }
      ]
    },
    {
      "cell_type": "code",
      "metadata": {
        "id": "x9jR5hWnxGQG",
        "outputId": "033573a7-f950-4a0c-faec-4e0654fe8a21"
      },
      "source": [
        "type(2.3)"
      ],
      "execution_count": null,
      "outputs": [
        {
          "data": {
            "text/plain": [
              "float"
            ]
          },
          "execution_count": 8,
          "metadata": {},
          "output_type": "execute_result"
        }
      ]
    },
    {
      "cell_type": "code",
      "metadata": {
        "id": "Rg5dRwb3xGQH",
        "outputId": "f0afd1b5-18c1-4484-e054-1a395a7b163e"
      },
      "source": [
        "type(-100.3)"
      ],
      "execution_count": null,
      "outputs": [
        {
          "data": {
            "text/plain": [
              "float"
            ]
          },
          "execution_count": 9,
          "metadata": {},
          "output_type": "execute_result"
        }
      ]
    },
    {
      "cell_type": "markdown",
      "metadata": {
        "id": "uWcPAUJvxGQI"
      },
      "source": [
        "## Booleans\n",
        "logical values indicating True or False"
      ]
    },
    {
      "cell_type": "code",
      "metadata": {
        "id": "OtzdtPuRxGQJ"
      },
      "source": [
        "# True or False"
      ],
      "execution_count": null,
      "outputs": []
    },
    {
      "cell_type": "code",
      "metadata": {
        "id": "yQ9-KpQWxGQK",
        "outputId": "3c40da57-3a61-48b1-d86a-80fde4b064b4"
      },
      "source": [
        "a = True\n",
        "type(a) ## print(type(True))"
      ],
      "execution_count": null,
      "outputs": [
        {
          "data": {
            "text/plain": [
              "bool"
            ]
          },
          "execution_count": 11,
          "metadata": {},
          "output_type": "execute_result"
        }
      ]
    },
    {
      "cell_type": "code",
      "metadata": {
        "id": "X2Ksj-C7xGQL",
        "outputId": "04896bfc-db71-422d-960b-25adb9e2a9b8"
      },
      "source": [
        "b = False\n",
        "print(type(b))"
      ],
      "execution_count": null,
      "outputs": [
        {
          "name": "stdout",
          "output_type": "stream",
          "text": [
            "<class 'bool'>\n"
          ]
        }
      ]
    },
    {
      "cell_type": "code",
      "metadata": {
        "id": "Zg-nAkkXxGQN",
        "outputId": "8c6176b5-fe3c-4f62-a700-2b757079402a"
      },
      "source": [
        "a = 5\n",
        "print(type(a))"
      ],
      "execution_count": null,
      "outputs": [
        {
          "name": "stdout",
          "output_type": "stream",
          "text": [
            "<class 'int'>\n"
          ]
        }
      ]
    },
    {
      "cell_type": "markdown",
      "metadata": {
        "id": "ba7WILWvxGQN"
      },
      "source": [
        "## Strings\n",
        "Series of characters enclosed withing single or double quotes"
      ]
    },
    {
      "cell_type": "code",
      "metadata": {
        "id": "S7RN4TopxGQO"
      },
      "source": [
        "# single quotes"
      ],
      "execution_count": null,
      "outputs": []
    },
    {
      "cell_type": "code",
      "metadata": {
        "id": "RSuBKvxnxGQP",
        "outputId": "2fa8502f-48e7-4514-ed8e-d172ead5319f"
      },
      "source": [
        "a = 'hello'\n",
        "print(a)\n",
        "b = 'Python'\n",
        "print(b)"
      ],
      "execution_count": null,
      "outputs": [
        {
          "name": "stdout",
          "output_type": "stream",
          "text": [
            "hello\n",
            "Python\n"
          ]
        }
      ]
    },
    {
      "cell_type": "code",
      "metadata": {
        "id": "jAyy5ErDxGQR",
        "outputId": "226439fc-2798-4ccf-cc5a-14afa87f5550"
      },
      "source": [
        "# type(a)\n",
        "type(b)"
      ],
      "execution_count": null,
      "outputs": [
        {
          "data": {
            "text/plain": [
              "str"
            ]
          },
          "execution_count": 16,
          "metadata": {},
          "output_type": "execute_result"
        }
      ]
    },
    {
      "cell_type": "code",
      "metadata": {
        "id": "gaqgNRivxGQT"
      },
      "source": [
        "# double quotes"
      ],
      "execution_count": null,
      "outputs": []
    },
    {
      "cell_type": "code",
      "metadata": {
        "id": "GB7gYoulxGQU",
        "outputId": "04f5c945-3c6c-4a5b-9051-609605ca01c1"
      },
      "source": [
        "a = \"hello\"\n",
        "b = \"python\"\n",
        "print(a)\n",
        "print(b)"
      ],
      "execution_count": null,
      "outputs": [
        {
          "name": "stdout",
          "output_type": "stream",
          "text": [
            "hello\n",
            "python\n"
          ]
        }
      ]
    },
    {
      "cell_type": "code",
      "metadata": {
        "id": "8VQTuevFxGQW",
        "outputId": "9aa9421a-34b8-434d-c2f0-78072a2faf49"
      },
      "source": [
        "# type(a)\n",
        "type(b)"
      ],
      "execution_count": null,
      "outputs": [
        {
          "data": {
            "text/plain": [
              "str"
            ]
          },
          "execution_count": 19,
          "metadata": {},
          "output_type": "execute_result"
        }
      ]
    },
    {
      "cell_type": "code",
      "metadata": {
        "id": "xOqkYB9IxGQW",
        "outputId": "18e4d72e-0cdb-4c96-e94d-dc265eea476c"
      },
      "source": [
        "# required string = I'm Learning python \n",
        "\n",
        "# 1) using single quotes\n",
        "a = 'I\\'m Learning python'\n",
        "print(a)\n",
        "\n",
        "# 2) using double quotes\n",
        "b = \"I'm Learning python\"\n",
        "print(b)"
      ],
      "execution_count": null,
      "outputs": [
        {
          "name": "stdout",
          "output_type": "stream",
          "text": [
            "I'm Learning python\n",
            "I'm Learning python\n"
          ]
        }
      ]
    },
    {
      "cell_type": "code",
      "metadata": {
        "id": "eStn7almxGQX",
        "outputId": "2d555e97-92d7-4f83-9dc7-bc76129d47b2"
      },
      "source": [
        "# required string = I am Learning \"python\" \n",
        "\n",
        "# 1) using single quotes\n",
        "a = 'I am Learning \"python\"'\n",
        "print(a)\n",
        "\n",
        "# 2) using double quotes\n",
        "b = \"I am Learning \\\"python\\\"\"\n",
        "print(b)"
      ],
      "execution_count": null,
      "outputs": [
        {
          "name": "stdout",
          "output_type": "stream",
          "text": [
            "I am Learning \"python\"\n",
            "I am Learning \"python\"\n"
          ]
        }
      ]
    },
    {
      "cell_type": "code",
      "metadata": {
        "id": "i_1LhTgvxGQY",
        "outputId": "e2608ab8-9bfb-4cd5-8f50-a4e3822a375b"
      },
      "source": [
        "# len()\n",
        "# returns the length of the string\n",
        "\n",
        "a = \"Python\"\n",
        "len(a)"
      ],
      "execution_count": null,
      "outputs": [
        {
          "data": {
            "text/plain": [
              "6"
            ]
          },
          "execution_count": 22,
          "metadata": {},
          "output_type": "execute_result"
        }
      ]
    },
    {
      "cell_type": "code",
      "metadata": {
        "id": "Bk1HcO4JxGQZ",
        "outputId": "51b17e07-acf6-45bc-f967-1c00c6da6ca1"
      },
      "source": [
        "#Note : spaces are also counted\n",
        "b = 'Welcome to python'\n",
        "len(b)"
      ],
      "execution_count": null,
      "outputs": [
        {
          "data": {
            "text/plain": [
              "17"
            ]
          },
          "execution_count": 23,
          "metadata": {},
          "output_type": "execute_result"
        }
      ]
    },
    {
      "cell_type": "markdown",
      "metadata": {
        "id": "SDt4RLI7xGQZ"
      },
      "source": [
        "### String indexing"
      ]
    },
    {
      "cell_type": "markdown",
      "metadata": {
        "id": "Z-PwRubIxGQZ"
      },
      "source": [
        "* indexing\n",
        "![title](img/indexing.png)"
      ]
    },
    {
      "cell_type": "code",
      "metadata": {
        "id": "qi-LbJHSxGQa"
      },
      "source": [
        ""
      ],
      "execution_count": null,
      "outputs": []
    },
    {
      "cell_type": "markdown",
      "metadata": {
        "id": "TJSyxV2zxGQa"
      },
      "source": [
        "* reverse indexing\n",
        "![title](img/rev_indexing.png)"
      ]
    },
    {
      "cell_type": "code",
      "metadata": {
        "id": "nhAtuZ5DxGQa",
        "outputId": "764e786a-46ab-49eb-e68d-ec042135522d"
      },
      "source": [
        "# examples on indexing\n",
        "a = \"hello i am sachin\"\n",
        "print(a[0])"
      ],
      "execution_count": null,
      "outputs": [
        {
          "name": "stdout",
          "output_type": "stream",
          "text": [
            "h\n"
          ]
        }
      ]
    },
    {
      "cell_type": "code",
      "metadata": {
        "id": "tSQaVqrXxGQa",
        "outputId": "e12cc779-b6aa-4870-b298-61b08a5c3408"
      },
      "source": [
        "print(a[1])"
      ],
      "execution_count": null,
      "outputs": [
        {
          "name": "stdout",
          "output_type": "stream",
          "text": [
            "e\n"
          ]
        }
      ]
    },
    {
      "cell_type": "code",
      "metadata": {
        "id": "8pTNHIfOxGQb",
        "outputId": "f530d190-6a8c-4bf9-b358-40f366b83283"
      },
      "source": [
        "print(a[4])"
      ],
      "execution_count": null,
      "outputs": [
        {
          "name": "stdout",
          "output_type": "stream",
          "text": [
            "o\n"
          ]
        }
      ]
    },
    {
      "cell_type": "code",
      "metadata": {
        "id": "-kfPDPTuxGQb",
        "outputId": "bce15a9d-7014-459b-8f18-41fc526fb236"
      },
      "source": [
        "print(a[-1])"
      ],
      "execution_count": null,
      "outputs": [
        {
          "name": "stdout",
          "output_type": "stream",
          "text": [
            "n\n"
          ]
        }
      ]
    },
    {
      "cell_type": "code",
      "metadata": {
        "id": "BhT6m8V7xGQc",
        "outputId": "a5e8a1bd-3d97-4f9e-e3cd-6a821c7cc905"
      },
      "source": [
        "print(a[-2])"
      ],
      "execution_count": null,
      "outputs": [
        {
          "name": "stdout",
          "output_type": "stream",
          "text": [
            "i\n"
          ]
        }
      ]
    },
    {
      "cell_type": "markdown",
      "metadata": {
        "id": "ztOUIBQ1xGQc"
      },
      "source": [
        "### Slicing"
      ]
    },
    {
      "cell_type": "code",
      "metadata": {
        "id": "wXsCR_60xGQc"
      },
      "source": [
        "# [start:stop:step]\n",
        "\n",
        "# start = starting position (default value is 0)\n",
        "# stop = end position(exclusive) (default value is end position)\n",
        "# step = step size or increment size (default value is 1)"
      ],
      "execution_count": null,
      "outputs": []
    },
    {
      "cell_type": "code",
      "metadata": {
        "id": "Uv_UjoebxGQc",
        "outputId": "56de435d-0f5f-455e-e6bd-617528000c99"
      },
      "source": [
        "# examples\n",
        "a = \"hello world\"\n",
        "\n",
        "#to grab \"hello\"\n",
        "a[0:5:1] # same as a[:5]"
      ],
      "execution_count": null,
      "outputs": [
        {
          "data": {
            "text/plain": [
              "'hello'"
            ]
          },
          "execution_count": 30,
          "metadata": {},
          "output_type": "execute_result"
        }
      ]
    },
    {
      "cell_type": "code",
      "metadata": {
        "id": "z6YrPrbMxGQd",
        "outputId": "4c2e357e-5110-4750-cb56-c5deb52a8860"
      },
      "source": [
        "# to grab 'world'\n",
        "\n",
        "# 1) using positive indexes\n",
        "a[6:]"
      ],
      "execution_count": null,
      "outputs": [
        {
          "data": {
            "text/plain": [
              "'world'"
            ]
          },
          "execution_count": 31,
          "metadata": {},
          "output_type": "execute_result"
        }
      ]
    },
    {
      "cell_type": "code",
      "metadata": {
        "id": "Weistu0vxGQd",
        "outputId": "d11c46c8-043e-47f0-beeb-2e91274ed288"
      },
      "source": [
        "# 2) using negative indexes\n",
        "a[-5:] # gets the last 5 characters."
      ],
      "execution_count": null,
      "outputs": [
        {
          "data": {
            "text/plain": [
              "'world'"
            ]
          },
          "execution_count": 32,
          "metadata": {},
          "output_type": "execute_result"
        }
      ]
    },
    {
      "cell_type": "code",
      "metadata": {
        "id": "20XTSkhYxGQd",
        "outputId": "ec8205ad-a580-47be-a26e-e33dc2502ddd"
      },
      "source": [
        "# to get alternated characters from the string,specify step = 2\n",
        "a[::2]"
      ],
      "execution_count": null,
      "outputs": [
        {
          "data": {
            "text/plain": [
              "'hlowrd'"
            ]
          },
          "execution_count": 33,
          "metadata": {},
          "output_type": "execute_result"
        }
      ]
    },
    {
      "cell_type": "code",
      "metadata": {
        "id": "zc3HkxybxGQe",
        "outputId": "30da38ae-a841-4bc2-bdbf-b0c0b5c525da"
      },
      "source": [
        "# to get the reverse of a string\n",
        "a[::-1]"
      ],
      "execution_count": null,
      "outputs": [
        {
          "data": {
            "text/plain": [
              "'dlrow olleh'"
            ]
          },
          "execution_count": 34,
          "metadata": {},
          "output_type": "execute_result"
        }
      ]
    },
    {
      "cell_type": "code",
      "metadata": {
        "id": "mk4-7CEDxGQe"
      },
      "source": [
        ""
      ],
      "execution_count": null,
      "outputs": []
    },
    {
      "cell_type": "markdown",
      "metadata": {
        "id": "UhIsI6IKxGQe"
      },
      "source": [
        "## Concatination"
      ]
    },
    {
      "cell_type": "code",
      "metadata": {
        "id": "v2iFAyP2xGQe",
        "outputId": "3bde1c70-a4f1-4626-eafe-af220b3e2e50"
      },
      "source": [
        "str1 = 'A'\n",
        "str2 = 'B'\n",
        "str3 = str1+str2\n",
        "print(str3)"
      ],
      "execution_count": null,
      "outputs": [
        {
          "name": "stdout",
          "output_type": "stream",
          "text": [
            "AB\n"
          ]
        }
      ]
    },
    {
      "cell_type": "code",
      "metadata": {
        "id": "T8Th-K8fxGQf",
        "outputId": "b8e1faf4-a60f-47dc-9807-aff4212ba84d"
      },
      "source": [
        "first_name = 'kamlesh '\n",
        "last_name = 'gudli'\n",
        "full_name = first_name+last_name\n",
        "print(full_name)"
      ],
      "execution_count": null,
      "outputs": [
        {
          "name": "stdout",
          "output_type": "stream",
          "text": [
            "kamlesh gudli\n"
          ]
        }
      ]
    },
    {
      "cell_type": "code",
      "metadata": {
        "id": "T_DhBReVxGQf",
        "outputId": "2f76b4dc-ff83-4a4a-e848-812c99ce7295"
      },
      "source": [
        "# Error\n",
        "a = 5\n",
        "b = \"hello\"\n",
        "print(a+b)"
      ],
      "execution_count": null,
      "outputs": [
        {
          "ename": "TypeError",
          "evalue": "unsupported operand type(s) for +: 'int' and 'str'",
          "output_type": "error",
          "traceback": [
            "\u001b[1;31m---------------------------------------------------------------------------\u001b[0m",
            "\u001b[1;31mTypeError\u001b[0m                                 Traceback (most recent call last)",
            "\u001b[1;32m<ipython-input-37-15dc5697eb37>\u001b[0m in \u001b[0;36m<module>\u001b[1;34m\u001b[0m\n\u001b[0;32m      2\u001b[0m \u001b[0ma\u001b[0m \u001b[1;33m=\u001b[0m \u001b[1;36m5\u001b[0m\u001b[1;33m\u001b[0m\u001b[1;33m\u001b[0m\u001b[0m\n\u001b[0;32m      3\u001b[0m \u001b[0mb\u001b[0m \u001b[1;33m=\u001b[0m \u001b[1;34m\"hello\"\u001b[0m\u001b[1;33m\u001b[0m\u001b[1;33m\u001b[0m\u001b[0m\n\u001b[1;32m----> 4\u001b[1;33m \u001b[0mprint\u001b[0m\u001b[1;33m(\u001b[0m\u001b[0ma\u001b[0m\u001b[1;33m+\u001b[0m\u001b[0mb\u001b[0m\u001b[1;33m)\u001b[0m\u001b[1;33m\u001b[0m\u001b[1;33m\u001b[0m\u001b[0m\n\u001b[0m",
            "\u001b[1;31mTypeError\u001b[0m: unsupported operand type(s) for +: 'int' and 'str'"
          ]
        }
      ]
    },
    {
      "cell_type": "markdown",
      "metadata": {
        "id": "eKdin6P0xGQg"
      },
      "source": [
        "##### Note : before concatinating, make sure both the variable are of string type. Because string concatination can only be performed with strings ,no other data types can be used to concatinate with the string"
      ]
    },
    {
      "cell_type": "markdown",
      "metadata": {
        "id": "MePbIX3txGQg"
      },
      "source": [
        "## Immutability"
      ]
    },
    {
      "cell_type": "code",
      "metadata": {
        "id": "92pOryyixGQg"
      },
      "source": [
        "name = \"Tree\""
      ],
      "execution_count": null,
      "outputs": []
    },
    {
      "cell_type": "code",
      "metadata": {
        "id": "plaV3GCzxGQg",
        "outputId": "4d9d970b-af6d-4134-ed25-f33a22136565"
      },
      "source": [
        "# cannot change like this.Because strings are immutable\n",
        "name[0] = \"F\""
      ],
      "execution_count": null,
      "outputs": [
        {
          "ename": "TypeError",
          "evalue": "'str' object does not support item assignment",
          "output_type": "error",
          "traceback": [
            "\u001b[1;31m---------------------------------------------------------------------------\u001b[0m",
            "\u001b[1;31mTypeError\u001b[0m                                 Traceback (most recent call last)",
            "\u001b[1;32m<ipython-input-40-c853577350ad>\u001b[0m in \u001b[0;36m<module>\u001b[1;34m\u001b[0m\n\u001b[0;32m      1\u001b[0m \u001b[1;31m# cannot change like this.Because strings are immutable\u001b[0m\u001b[1;33m\u001b[0m\u001b[1;33m\u001b[0m\u001b[1;33m\u001b[0m\u001b[0m\n\u001b[1;32m----> 2\u001b[1;33m \u001b[0mname\u001b[0m\u001b[1;33m[\u001b[0m\u001b[1;36m0\u001b[0m\u001b[1;33m]\u001b[0m \u001b[1;33m=\u001b[0m \u001b[1;34m\"F\"\u001b[0m\u001b[1;33m\u001b[0m\u001b[1;33m\u001b[0m\u001b[0m\n\u001b[0m",
            "\u001b[1;31mTypeError\u001b[0m: 'str' object does not support item assignment"
          ]
        }
      ]
    },
    {
      "cell_type": "code",
      "metadata": {
        "id": "FR4vc9ptxGQh",
        "outputId": "db6ec118-59ea-4eb2-ca8e-1de1384b27a1"
      },
      "source": [
        "# work around\n",
        "\"F\" + name[1:]"
      ],
      "execution_count": null,
      "outputs": [
        {
          "data": {
            "text/plain": [
              "'Free'"
            ]
          },
          "execution_count": 41,
          "metadata": {},
          "output_type": "execute_result"
        }
      ]
    },
    {
      "cell_type": "markdown",
      "metadata": {
        "id": "eumLKtEuxGQh"
      },
      "source": [
        "## Some inbuilt functions"
      ]
    },
    {
      "cell_type": "code",
      "metadata": {
        "id": "-iHBauY7xGQi"
      },
      "source": [
        "# 1) .upper()\n",
        "a = 'hello world'\n",
        "# print(a.upper())"
      ],
      "execution_count": null,
      "outputs": []
    },
    {
      "cell_type": "code",
      "metadata": {
        "id": "rqZh0gKhxGQi",
        "outputId": "b482c2ef-cca7-4372-de97-605f7b9c0876"
      },
      "source": [
        "# 2) .lower()\n",
        "print(a.lower())"
      ],
      "execution_count": null,
      "outputs": [
        {
          "name": "stdout",
          "output_type": "stream",
          "text": [
            "hello world\n"
          ]
        }
      ]
    },
    {
      "cell_type": "code",
      "metadata": {
        "id": "vmbq8e9WxGQj",
        "outputId": "c7ae94e5-a993-4a5b-92f9-a5076eb38874"
      },
      "source": [
        "# 3) .startswith()\n",
        "print(a.startswith(\"j\"))"
      ],
      "execution_count": null,
      "outputs": [
        {
          "name": "stdout",
          "output_type": "stream",
          "text": [
            "False\n"
          ]
        }
      ]
    },
    {
      "cell_type": "code",
      "metadata": {
        "id": "o-IEIV1xxGQj",
        "outputId": "2deea239-547b-4109-a82a-e92359df2d75"
      },
      "source": [
        "# 4) .endswith()\n",
        "print(a.endswith('D'))"
      ],
      "execution_count": null,
      "outputs": [
        {
          "name": "stdout",
          "output_type": "stream",
          "text": [
            "False\n"
          ]
        }
      ]
    },
    {
      "cell_type": "code",
      "metadata": {
        "id": "pSz7iemvxGQk",
        "outputId": "ca603e81-c0b4-47bf-f9c9-8a75d3b528c8"
      },
      "source": [
        "# 5) .capitalize()\n",
        "print(a)\n",
        "print(a.capitalize())"
      ],
      "execution_count": null,
      "outputs": [
        {
          "name": "stdout",
          "output_type": "stream",
          "text": [
            "hello world\n",
            "Hello world\n"
          ]
        }
      ]
    },
    {
      "cell_type": "markdown",
      "metadata": {
        "id": "qMnMnd_fxGQk"
      },
      "source": [
        "### Task 1 & 2"
      ]
    },
    {
      "cell_type": "code",
      "metadata": {
        "id": "w-RgDOBlxGQk"
      },
      "source": [
        "# task 1) go through some of the other in built functions\n",
        "\n",
        "# task 2) \n",
        "\n",
        "# given a string for example\n",
        "str1 = \"Welcome to python\"\n",
        "\n",
        "# check if \"to\" is present in \"welcome to python\""
      ],
      "execution_count": 4,
      "outputs": []
    },
    {
      "cell_type": "code",
      "metadata": {
        "colab": {
          "base_uri": "https://localhost:8080/"
        },
        "id": "LgdTdDGTxxNn",
        "outputId": "c2ce5201-74b8-4338-93c2-3e24ccd11365"
      },
      "source": [
        "print(str1)"
      ],
      "execution_count": 5,
      "outputs": [
        {
          "output_type": "stream",
          "name": "stdout",
          "text": [
            "Welcome to python\n"
          ]
        }
      ]
    }
  ]
}