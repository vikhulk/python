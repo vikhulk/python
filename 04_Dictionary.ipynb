{
  "nbformat": 4,
  "nbformat_minor": 0,
  "metadata": {
    "kernelspec": {
      "display_name": "Python 3",
      "language": "python",
      "name": "python3"
    },
    "language_info": {
      "codemirror_mode": {
        "name": "ipython",
        "version": 3
      },
      "file_extension": ".py",
      "mimetype": "text/x-python",
      "name": "python",
      "nbconvert_exporter": "python",
      "pygments_lexer": "ipython3",
      "version": "3.8.3"
    },
    "colab": {
      "name": "04 - Dictionary.ipynb",
      "provenance": []
    }
  },
  "cells": [
    {
      "cell_type": "markdown",
      "metadata": {
        "id": "ZvGDcWmQtToU"
      },
      "source": [
        "## Dictionaries\n",
        "In Python dictionaries are written with curly brackets and they have keys and values seperated by commas.\n",
        "\n",
        "#### Properties\n",
        "* Can store different data types\n",
        "* Order doesnt matter here\n",
        "* Keys should be unique\n",
        "* Mutable"
      ]
    },
    {
      "cell_type": "code",
      "metadata": {
        "colab": {
          "base_uri": "https://localhost:8080/"
        },
        "id": "BZ73HHY5tTod",
        "outputId": "7f1c03d1-b0fc-4121-de38-b3dd4b735cf7"
      },
      "source": [
        "# Example\n",
        "dict1 = {\n",
        "    \"Brand\":\"Bajaj\",\n",
        "    \"model\":\"Pulsar\",\n",
        "    \"year\":2015,\n",
        "    \"cost\":85000\n",
        "}\n",
        "dict1\n",
        "type(dict1)"
      ],
      "execution_count": 1,
      "outputs": [
        {
          "output_type": "execute_result",
          "data": {
            "text/plain": [
              "dict"
            ]
          },
          "metadata": {},
          "execution_count": 1
        }
      ]
    },
    {
      "cell_type": "code",
      "metadata": {
        "colab": {
          "base_uri": "https://localhost:8080/"
        },
        "id": "5xfBcActtToi",
        "outputId": "9ebaacda-b372-4c3f-f072-fc41f1ec2021"
      },
      "source": [
        "# Dictionary Length\n",
        "len(dict1)"
      ],
      "execution_count": 2,
      "outputs": [
        {
          "output_type": "execute_result",
          "data": {
            "text/plain": [
              "4"
            ]
          },
          "metadata": {},
          "execution_count": 2
        }
      ]
    },
    {
      "cell_type": "code",
      "metadata": {
        "id": "JDzIziiJxjdE"
      },
      "source": [
        ""
      ],
      "execution_count": null,
      "outputs": []
    },
    {
      "cell_type": "markdown",
      "metadata": {
        "id": "uwtnu7iBtTok"
      },
      "source": [
        "#### Accessing Items"
      ]
    },
    {
      "cell_type": "code",
      "metadata": {
        "id": "xZc9LeEvtTol",
        "outputId": "f9673925-d757-4622-fe08-17f58ddcd4d5"
      },
      "source": [
        "# 1)\n",
        "x = dict1[\"model\"]\n",
        "x"
      ],
      "execution_count": null,
      "outputs": [
        {
          "data": {
            "text/plain": [
              "'Pulsar'"
            ]
          },
          "execution_count": 3,
          "metadata": {},
          "output_type": "execute_result"
        }
      ]
    },
    {
      "cell_type": "code",
      "metadata": {
        "id": "Sba5HQAntTom",
        "outputId": "ce4b6aea-6cb1-4475-87df-ea6179fbc770"
      },
      "source": [
        "# 2) get(keyname)\n",
        "x = dict1.get(\"model\")\n",
        "x"
      ],
      "execution_count": null,
      "outputs": [
        {
          "data": {
            "text/plain": [
              "'Pulsar'"
            ]
          },
          "execution_count": 4,
          "metadata": {},
          "output_type": "execute_result"
        }
      ]
    },
    {
      "cell_type": "markdown",
      "metadata": {
        "id": "88NHcuLrtToo"
      },
      "source": [
        "#### Change/update Values"
      ]
    },
    {
      "cell_type": "code",
      "metadata": {
        "colab": {
          "base_uri": "https://localhost:8080/"
        },
        "id": "yIvNvauCtTop",
        "outputId": "33dab864-187b-46c8-8fbd-88d6fc298b0e"
      },
      "source": [
        "#update the year\n",
        "dict1[\"year\"] = 2018\n",
        "dict1"
      ],
      "execution_count": 22,
      "outputs": [
        {
          "output_type": "execute_result",
          "data": {
            "text/plain": [
              "{'april_batch': {'student': {'marks': {'maths': 70, 'python': 80},\n",
              "   'name': 'Mike'}},\n",
              " 'year': 2018}"
            ]
          },
          "metadata": {},
          "execution_count": 22
        }
      ]
    },
    {
      "cell_type": "code",
      "metadata": {
        "id": "E-2olXjytTor",
        "outputId": "dd62da19-cd0a-4734-ae79-c74293e41843"
      },
      "source": [
        "# keys() method to get the keys \n",
        "keys = list(dict1.keys())\n",
        "print(keys)"
      ],
      "execution_count": null,
      "outputs": [
        {
          "name": "stdout",
          "output_type": "stream",
          "text": [
            "['Brand', 'model', 'year', 'cost']\n"
          ]
        }
      ]
    },
    {
      "cell_type": "code",
      "metadata": {
        "id": "24CQakxWtTot",
        "outputId": "60d7b55e-c30e-4353-adc3-c9fcaa1aa971"
      },
      "source": [
        "# values() method to get the values\n",
        "vals = list(dict1.values())\n",
        "print(vals)"
      ],
      "execution_count": null,
      "outputs": [
        {
          "name": "stdout",
          "output_type": "stream",
          "text": [
            "['Bajaj', 'Pulsar', 2018, 85000]\n"
          ]
        }
      ]
    },
    {
      "cell_type": "code",
      "metadata": {
        "id": "FPzgC1tBtTou",
        "outputId": "74b6e384-a2bf-4299-b683-903c7055d89d"
      },
      "source": [
        "# items() method to get both keys and values\n",
        "items = list(dict1.items())\n",
        "items"
      ],
      "execution_count": null,
      "outputs": [
        {
          "data": {
            "text/plain": [
              "[('Brand', 'Bajaj'), ('model', 'Pulsar'), ('year', 2018), ('cost', 85000)]"
            ]
          },
          "execution_count": 8,
          "metadata": {},
          "output_type": "execute_result"
        }
      ]
    },
    {
      "cell_type": "markdown",
      "metadata": {
        "id": "TIC8trkbtTov"
      },
      "source": [
        "#### Adding items to an existing dictionary"
      ]
    },
    {
      "cell_type": "code",
      "metadata": {
        "id": "7so1d2zltTow",
        "outputId": "d9d40772-d952-491b-8baf-2668f2a829bc"
      },
      "source": [
        "# add color of the bike\n",
        "dict1[\"color\"] = \"Black\"\n",
        "dict1"
      ],
      "execution_count": null,
      "outputs": [
        {
          "data": {
            "text/plain": [
              "{'Brand': 'Bajaj',\n",
              " 'model': 'Pulsar',\n",
              " 'year': 2018,\n",
              " 'cost': 85000,\n",
              " 'color': 'Black'}"
            ]
          },
          "execution_count": 9,
          "metadata": {},
          "output_type": "execute_result"
        }
      ]
    },
    {
      "cell_type": "code",
      "metadata": {
        "id": "iDr-7FBGtTox",
        "outputId": "f0c8cd79-3b2f-404a-84de-279b330037a1"
      },
      "source": [
        "# add tyreType\n",
        "dict1['tyreType'] = 'Tubeless'\n",
        "dict1"
      ],
      "execution_count": null,
      "outputs": [
        {
          "data": {
            "text/plain": [
              "{'Brand': 'Bajaj',\n",
              " 'model': 'Pulsar',\n",
              " 'year': 2018,\n",
              " 'cost': 85000,\n",
              " 'color': 'Black',\n",
              " 'tyreType': 'Tubeless'}"
            ]
          },
          "execution_count": 10,
          "metadata": {},
          "output_type": "execute_result"
        }
      ]
    },
    {
      "cell_type": "markdown",
      "metadata": {
        "id": "fpfWvgVRtToy"
      },
      "source": [
        "#### Removing items"
      ]
    },
    {
      "cell_type": "code",
      "metadata": {
        "id": "xk5x7yGWtToy",
        "outputId": "a2a5354a-e6c2-452d-ca4f-18c82b675983"
      },
      "source": [
        "# 1) pop(key)\n",
        "rem = dict1.pop('model')\n",
        "print(rem)\n",
        "print(dict1)"
      ],
      "execution_count": null,
      "outputs": [
        {
          "name": "stdout",
          "output_type": "stream",
          "text": [
            "Pulsar\n",
            "{'Brand': 'Bajaj', 'year': 2018, 'cost': 85000, 'color': 'Black', 'tyreType': 'Tubeless'}\n"
          ]
        }
      ]
    },
    {
      "cell_type": "code",
      "metadata": {
        "id": "4dz3KCSztToz",
        "outputId": "82acf413-9b92-46e7-cb7a-cd534ec0456b"
      },
      "source": [
        "# adding again\n",
        "dict1['model'] = 'Pulsar'\n",
        "dict1"
      ],
      "execution_count": null,
      "outputs": [
        {
          "data": {
            "text/plain": [
              "{'Brand': 'Bajaj',\n",
              " 'year': 2018,\n",
              " 'cost': 85000,\n",
              " 'color': 'Black',\n",
              " 'tyreType': 'Tubeless',\n",
              " 'model': 'Pulsar'}"
            ]
          },
          "execution_count": 12,
          "metadata": {},
          "output_type": "execute_result"
        }
      ]
    },
    {
      "cell_type": "code",
      "metadata": {
        "id": "VLlT3HxvtTo0",
        "outputId": "d34a4410-a6ed-4ead-f045-44d0ad85bac2"
      },
      "source": [
        "# 2) popitem() removes the last inserted item\n",
        "print(dict1)\n",
        "dict1.popitem()\n",
        "print(dict1)"
      ],
      "execution_count": null,
      "outputs": [
        {
          "name": "stdout",
          "output_type": "stream",
          "text": [
            "{'Brand': 'Bajaj', 'year': 2018, 'cost': 85000, 'color': 'Black', 'tyreType': 'Tubeless', 'model': 'Pulsar'}\n",
            "{'Brand': 'Bajaj', 'year': 2018, 'cost': 85000, 'color': 'Black', 'tyreType': 'Tubeless'}\n"
          ]
        }
      ]
    },
    {
      "cell_type": "code",
      "metadata": {
        "id": "AGS8hWhwtTo1"
      },
      "source": [
        "# 3) del keyword\n",
        "del dict1['year']"
      ],
      "execution_count": null,
      "outputs": []
    },
    {
      "cell_type": "code",
      "metadata": {
        "id": "BoM6QKvjtTo1",
        "outputId": "484bbadc-3518-4c9b-e04e-d76ac7dfbf96"
      },
      "source": [
        "dict1"
      ],
      "execution_count": null,
      "outputs": [
        {
          "data": {
            "text/plain": [
              "{'Brand': 'Bajaj', 'cost': 85000, 'color': 'Black', 'tyreType': 'Tubeless'}"
            ]
          },
          "execution_count": 15,
          "metadata": {},
          "output_type": "execute_result"
        }
      ]
    },
    {
      "cell_type": "code",
      "metadata": {
        "id": "k8msM4AktTo2"
      },
      "source": [
        "# 4) clear() method\n",
        "dict1.clear()"
      ],
      "execution_count": null,
      "outputs": []
    },
    {
      "cell_type": "code",
      "metadata": {
        "id": "oOFa4t3ttTo3",
        "outputId": "161e5689-35ed-494e-d4d8-4581dc30c31d"
      },
      "source": [
        "dict1"
      ],
      "execution_count": null,
      "outputs": [
        {
          "data": {
            "text/plain": [
              "{}"
            ]
          },
          "execution_count": 17,
          "metadata": {},
          "output_type": "execute_result"
        }
      ]
    },
    {
      "cell_type": "markdown",
      "metadata": {
        "id": "24C8FDmatTo3"
      },
      "source": [
        "#### Copy a dictionary"
      ]
    },
    {
      "cell_type": "code",
      "metadata": {
        "id": "MOkRwsva0y27"
      },
      "source": [
        ""
      ],
      "execution_count": null,
      "outputs": []
    },
    {
      "cell_type": "code",
      "metadata": {
        "id": "3s74Z0RktTo4",
        "outputId": "3c769649-2d37-4f4c-c968-aa3caf93ab15"
      },
      "source": [
        "# 1) copy() method\n",
        "dict1 = {\n",
        "  \"brand\": \"Bajaj\",\n",
        "  \"model\": \"Pulsar\",\n",
        "  \"year\": 2015,\n",
        "  \"cost\": 85000\n",
        "}\n",
        "mydict = dict1.copy()\n",
        "print(mydict)"
      ],
      "execution_count": null,
      "outputs": [
        {
          "name": "stdout",
          "output_type": "stream",
          "text": [
            "{'brand': 'Bajaj', 'model': 'Pulsar', 'year': 2015, 'cost': 85000}\n"
          ]
        }
      ]
    },
    {
      "cell_type": "markdown",
      "metadata": {
        "id": "ksljEfXftTo4"
      },
      "source": [
        "#### Nested Dictionaries"
      ]
    },
    {
      "cell_type": "code",
      "metadata": {
        "id": "0EU8BeThtTo4"
      },
      "source": [
        "child1 = {\n",
        "  \"name\" : \"John\",\n",
        "  \"year\" : 1995\n",
        "}\n",
        "child2 = {\n",
        "  \"name\" : \"Sammy\",\n",
        "  \"year\" : 2001\n",
        "}\n",
        "\n",
        "\n",
        "myfamily = {\n",
        "  \"child1\" : child1,\n",
        "  \"child2\" : child2\n",
        "}"
      ],
      "execution_count": null,
      "outputs": []
    },
    {
      "cell_type": "code",
      "metadata": {
        "id": "askup6_ztTo5",
        "outputId": "1bda726e-9cca-4457-eaaa-36afd04d0d3f"
      },
      "source": [
        "myfamily"
      ],
      "execution_count": null,
      "outputs": [
        {
          "data": {
            "text/plain": [
              "{'child1': {'name': 'John', 'year': 1995},\n",
              " 'child2': {'name': 'Sammy', 'year': 2001}}"
            ]
          },
          "execution_count": 20,
          "metadata": {},
          "output_type": "execute_result"
        }
      ]
    },
    {
      "cell_type": "code",
      "metadata": {
        "id": "bCmwHFwftTo5"
      },
      "source": [
        "myfamily = {\n",
        "  \"child1\" : {\n",
        "    \"name\" : \"John\",\n",
        "    \"year\" : 1995\n",
        "  },\n",
        "  \"child2\" : {\n",
        "    \"name\" : \"Sammy\",\n",
        "    \"year\" : 2001\n",
        "  }\n",
        "}"
      ],
      "execution_count": null,
      "outputs": []
    },
    {
      "cell_type": "code",
      "metadata": {
        "id": "jROTSEQ0tTo5",
        "outputId": "15ab7c82-8c98-42fa-b267-0bc3431c1094"
      },
      "source": [
        "myfamily"
      ],
      "execution_count": null,
      "outputs": [
        {
          "data": {
            "text/plain": [
              "{'child1': {'name': 'John', 'year': 1995},\n",
              " 'child2': {'name': 'Sammy', 'year': 2001}}"
            ]
          },
          "execution_count": 22,
          "metadata": {},
          "output_type": "execute_result"
        }
      ]
    },
    {
      "cell_type": "code",
      "metadata": {
        "id": "IzO-WN-NtTo6"
      },
      "source": [
        ""
      ],
      "execution_count": null,
      "outputs": []
    },
    {
      "cell_type": "markdown",
      "metadata": {
        "id": "uvWXjA_jtTo6"
      },
      "source": [
        "#### Exercises on Dictionaries"
      ]
    },
    {
      "cell_type": "code",
      "metadata": {
        "id": "jAZSv7mytTo6",
        "outputId": "3e71d225-c758-43fa-b7d9-3e501de01b82"
      },
      "source": [
        "myfamily = {\n",
        "  \"child1\" : {\n",
        "    \"name\" : \"John\",\n",
        "    \"year\" : 1995,\n",
        "    \"hobbies\":[\"Music\",\"Cricket\",\"TV\"]\n",
        "  },\n",
        "  \"child2\" : {\n",
        "    \"name\" : \"Sammy\",\n",
        "    \"year\" : 2001\n",
        "  }\n",
        "}\n",
        "myfamily"
      ],
      "execution_count": null,
      "outputs": [
        {
          "data": {
            "text/plain": [
              "{'child1': {'name': 'John',\n",
              "  'year': 1995,\n",
              "  'hobbies': ['Music', 'Cricket', 'TV']},\n",
              " 'child2': {'name': 'Sammy', 'year': 2001}}"
            ]
          },
          "execution_count": 23,
          "metadata": {},
          "output_type": "execute_result"
        }
      ]
    },
    {
      "cell_type": "code",
      "metadata": {
        "id": "w51Om6uGtTo6",
        "outputId": "ca2e5e97-2b3f-45b2-fef9-65a87f217956"
      },
      "source": [
        "#accessing \"John\"\n",
        "myfamily[\"child1\"][\"name\"]"
      ],
      "execution_count": null,
      "outputs": [
        {
          "data": {
            "text/plain": [
              "'John'"
            ]
          },
          "execution_count": 24,
          "metadata": {},
          "output_type": "execute_result"
        }
      ]
    },
    {
      "cell_type": "code",
      "metadata": {
        "id": "_9U-ojqItTo7",
        "outputId": "b264552a-5e96-4735-c2a7-e3f97c0586c4"
      },
      "source": [
        "#accessing 1995\n",
        "myfamily[\"child1\"][\"year\"]"
      ],
      "execution_count": null,
      "outputs": [
        {
          "data": {
            "text/plain": [
              "1995"
            ]
          },
          "execution_count": 25,
          "metadata": {},
          "output_type": "execute_result"
        }
      ]
    },
    {
      "cell_type": "code",
      "metadata": {
        "id": "8CC2YHt1tTo7",
        "outputId": "5a5fe5be-d126-42b2-a07b-199819f04942"
      },
      "source": [
        "#accessing \"Sammy\"\n",
        "myfamily[\"child2\"][\"name\"]"
      ],
      "execution_count": null,
      "outputs": [
        {
          "data": {
            "text/plain": [
              "'Sammy'"
            ]
          },
          "execution_count": 26,
          "metadata": {},
          "output_type": "execute_result"
        }
      ]
    },
    {
      "cell_type": "code",
      "metadata": {
        "id": "DiqzWhn7tTo7",
        "outputId": "026e17ab-f86c-48db-f6d5-0ba0f9b121e1"
      },
      "source": [
        "#accessing 2001\n",
        "myfamily[\"child2\"][\"year\"]"
      ],
      "execution_count": null,
      "outputs": [
        {
          "data": {
            "text/plain": [
              "2001"
            ]
          },
          "execution_count": 27,
          "metadata": {},
          "output_type": "execute_result"
        }
      ]
    },
    {
      "cell_type": "code",
      "metadata": {
        "id": "-8XluUvntTo8",
        "outputId": "2341eb1f-4f44-4cd0-c247-a0c088adc493"
      },
      "source": [
        "myfamily"
      ],
      "execution_count": null,
      "outputs": [
        {
          "data": {
            "text/plain": [
              "{'child1': {'name': 'John',\n",
              "  'year': 1995,\n",
              "  'hobbies': ['Music', 'Cricket', 'TV']},\n",
              " 'child2': {'name': 'Sammy', 'year': 2001}}"
            ]
          },
          "execution_count": 28,
          "metadata": {},
          "output_type": "execute_result"
        }
      ]
    },
    {
      "cell_type": "code",
      "metadata": {
        "id": "9B8xqRfgtTo8",
        "outputId": "35e52931-d0b4-42af-80a1-b87b8f108588"
      },
      "source": [
        "#accessing 'Cricket'\n",
        "myfamily['child1']['hobbies'][1]"
      ],
      "execution_count": null,
      "outputs": [
        {
          "data": {
            "text/plain": [
              "'Cricket'"
            ]
          },
          "execution_count": 29,
          "metadata": {},
          "output_type": "execute_result"
        }
      ]
    },
    {
      "cell_type": "code",
      "metadata": {
        "id": "RyfpllirtTo9",
        "outputId": "92cdabd9-4b29-47f3-db21-bdda1c7b43d6"
      },
      "source": [
        "#get ['Cricket','TV']\n",
        "myfamily['child1']['hobbies'][1:]"
      ],
      "execution_count": null,
      "outputs": [
        {
          "data": {
            "text/plain": [
              "['Cricket', 'TV']"
            ]
          },
          "execution_count": 30,
          "metadata": {},
          "output_type": "execute_result"
        }
      ]
    },
    {
      "cell_type": "code",
      "metadata": {
        "id": "OQlbAq9htTo9",
        "outputId": "c1aa982f-05ab-474e-8ffb-c37bd4cbf9f4"
      },
      "source": [
        "#get ['Music','TV']\n",
        "myfamily['child1']['hobbies'][::-1]"
      ],
      "execution_count": null,
      "outputs": [
        {
          "data": {
            "text/plain": [
              "['TV', 'Cricket', 'Music']"
            ]
          },
          "execution_count": 31,
          "metadata": {},
          "output_type": "execute_result"
        }
      ]
    },
    {
      "cell_type": "markdown",
      "metadata": {
        "id": "usC5-AE4tTo9"
      },
      "source": [
        "### Task-5"
      ]
    },
    {
      "cell_type": "code",
      "metadata": {
        "id": "-YLdvf8ltTo9"
      },
      "source": [
        "dict1 = { \n",
        "   \"april_batch\":{ \n",
        "      \"student\":{ \n",
        "         \"name\":\"Mike\",\n",
        "         \"marks\":{ \n",
        "            \"python\":80,\n",
        "            \"maths\":70\n",
        "         }\n",
        "      }\n",
        "   }\n",
        "}"
      ],
      "execution_count": 10,
      "outputs": []
    },
    {
      "cell_type": "code",
      "metadata": {
        "colab": {
          "base_uri": "https://localhost:8080/",
          "height": 35
        },
        "id": "-0xrQmicyB8n",
        "outputId": "b9fb62f2-9508-4775-cc51-f0456c47d529"
      },
      "source": [
        "dict1['april_batch'][\"student\"]['name']"
      ],
      "execution_count": 18,
      "outputs": [
        {
          "output_type": "execute_result",
          "data": {
            "application/vnd.google.colaboratory.intrinsic+json": {
              "type": "string"
            },
            "text/plain": [
              "'Mike'"
            ]
          },
          "metadata": {},
          "execution_count": 18
        }
      ]
    },
    {
      "cell_type": "code",
      "metadata": {
        "colab": {
          "base_uri": "https://localhost:8080/"
        },
        "id": "k6udRw0I0B6h",
        "outputId": "1c26991a-7260-4914-fd35-fdf5c14d7138"
      },
      "source": [
        "dict1['april_batch'][\"student\"]['marks'][\"python\"]"
      ],
      "execution_count": 20,
      "outputs": [
        {
          "output_type": "execute_result",
          "data": {
            "text/plain": [
              "80"
            ]
          },
          "metadata": {},
          "execution_count": 20
        }
      ]
    },
    {
      "cell_type": "code",
      "metadata": {
        "colab": {
          "base_uri": "https://localhost:8080/"
        },
        "id": "u3hfhXtv0i81",
        "outputId": "7cdf3642-fa05-4f64-f821-7ea44276aa8a"
      },
      "source": [
        "dict1['april_batch'][\"student\"]['name']=\"Vikram Pandi\"\n",
        "dict1"
      ],
      "execution_count": 25,
      "outputs": [
        {
          "output_type": "execute_result",
          "data": {
            "text/plain": [
              "{'april_batch': {'student': {'marks': {'maths': 70, 'python': 80},\n",
              "   'name': 'Vikram Pandi'}},\n",
              " 'year': 2018}"
            ]
          },
          "metadata": {},
          "execution_count": 25
        }
      ]
    },
    {
      "cell_type": "code",
      "metadata": {
        "id": "p86_w3P32Sen"
      },
      "source": [
        ""
      ],
      "execution_count": null,
      "outputs": []
    },
    {
      "cell_type": "code",
      "metadata": {
        "colab": {
          "base_uri": "https://localhost:8080/"
        },
        "id": "xjKhuc8Q3b40",
        "outputId": "45064528-d39a-4050-c275-b2d043732c12"
      },
      "source": [
        "dict1['ml']=80\n",
        "\n",
        "dict1"
      ],
      "execution_count": 32,
      "outputs": [
        {
          "output_type": "execute_result",
          "data": {
            "text/plain": [
              "{'april_batch': {'student': {'marks': {'maths': 70, 'python': 80},\n",
              "   'name': 'Vikram Pandi'}},\n",
              " 'dl': 70,\n",
              " 'marks': 'ML=80',\n",
              " 'ml': 80,\n",
              " 'year': 2018}"
            ]
          },
          "metadata": {},
          "execution_count": 32
        }
      ]
    },
    {
      "cell_type": "markdown",
      "metadata": {
        "id": "-6c7GndGtTo-"
      },
      "source": [
        "From the above dictionary, do the following tasks\n",
        "1. access \"Mike\"\n",
        "2. access 80\n",
        "3. change \"Mike\" to \"Your name\"\n",
        "4. add ML = 80 and DL = 80 inside marks"
      ]
    },
    {
      "cell_type": "code",
      "metadata": {
        "colab": {
          "base_uri": "https://localhost:8080/"
        },
        "id": "LGQIZOJDxlVv",
        "outputId": "169ada85-8d03-43cc-9e4a-af1bae9d2892"
      },
      "source": [
        ""
      ],
      "execution_count": 5,
      "outputs": [
        {
          "output_type": "stream",
          "name": "stdout",
          "text": [
            "vikram\n"
          ]
        }
      ]
    }
  ]
}