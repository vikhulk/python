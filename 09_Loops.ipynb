{
  "nbformat": 4,
  "nbformat_minor": 0,
  "metadata": {
    "kernelspec": {
      "display_name": "Python 3",
      "language": "python",
      "name": "python3"
    },
    "language_info": {
      "codemirror_mode": {
        "name": "ipython",
        "version": 3
      },
      "file_extension": ".py",
      "mimetype": "text/x-python",
      "name": "python",
      "nbconvert_exporter": "python",
      "pygments_lexer": "ipython3",
      "version": "3.8.3"
    },
    "colab": {
      "name": "09 - Loops.ipynb",
      "provenance": []
    }
  },
  "cells": [
    {
      "cell_type": "markdown",
      "metadata": {
        "id": "yNEdY5KJvtQ1"
      },
      "source": [
        "# LOOPS\n",
        "The purpose of loops is to repeat the same, or similar, code a number of times. This number of times could be specified to a certain number, or the number of times could be dictated by a certain condition being met\n",
        "\n",
        "There are 2 types of Loops \n",
        "* 1) While Loops\n",
        "* 2) For loops"
      ]
    },
    {
      "cell_type": "code",
      "metadata": {
        "id": "UoN92aF5vtQ-",
        "outputId": "567deaa6-1967-41f6-f623-64f445113e42"
      },
      "source": [
        "print(1)\n",
        "print(2)\n",
        "print(3)\n",
        "print(4)\n",
        "print(5)\n",
        "print(6)\n",
        "print(7)\n",
        "print(8)\n",
        "print(9)\n",
        "print(10)"
      ],
      "execution_count": null,
      "outputs": [
        {
          "name": "stdout",
          "output_type": "stream",
          "text": [
            "1\n",
            "2\n",
            "3\n",
            "4\n",
            "5\n",
            "6\n",
            "7\n",
            "8\n",
            "9\n",
            "10\n"
          ]
        }
      ]
    },
    {
      "cell_type": "markdown",
      "metadata": {
        "id": "K4l70U5xvtRB"
      },
      "source": [
        "## While loops"
      ]
    },
    {
      "cell_type": "code",
      "metadata": {
        "id": "sGJhHv8cvtRC"
      },
      "source": [
        "\"\"\"\n",
        "syntax\n",
        "\n",
        "while(condition/s):\n",
        "    statement1\n",
        "    statement2\n",
        "    ..........\n",
        "\"\"\""
      ],
      "execution_count": null,
      "outputs": []
    },
    {
      "cell_type": "code",
      "metadata": {
        "id": "rfGhZpc0vtRD",
        "outputId": "c48e0ad1-91b4-4fa5-a948-8fb38c7c9af7"
      },
      "source": [
        "# ex1)\n",
        "count = 1\n",
        "while(count<11):\n",
        "    print(count)\n",
        "    count = count + 1"
      ],
      "execution_count": null,
      "outputs": [
        {
          "name": "stdout",
          "output_type": "stream",
          "text": [
            "1\n",
            "2\n",
            "3\n",
            "4\n",
            "5\n",
            "6\n",
            "7\n",
            "8\n",
            "9\n",
            "10\n"
          ]
        }
      ]
    },
    {
      "cell_type": "markdown",
      "metadata": {
        "id": "jvsQTzc7vtRE"
      },
      "source": [
        "## while - else\n",
        "if you want to know your while loop has finished its execution and you want to do some operations then you can make use of \"else\""
      ]
    },
    {
      "cell_type": "code",
      "metadata": {
        "id": "_eUPm-v8vtRF",
        "outputId": "e9ead35d-d129-4fe0-8117-d1bfb97fdb7f"
      },
      "source": [
        "#ex2) \n",
        "count = 1\n",
        "while(count<11):\n",
        "    print(count)\n",
        "    count = count + 1\n",
        "else:\n",
        "    print(\"End of while loop\")\n",
        "    print(count)"
      ],
      "execution_count": null,
      "outputs": [
        {
          "name": "stdout",
          "output_type": "stream",
          "text": [
            "1\n",
            "2\n",
            "3\n",
            "4\n",
            "5\n",
            "6\n",
            "7\n",
            "8\n",
            "9\n",
            "10\n",
            "End of while loop\n",
            "11\n"
          ]
        }
      ]
    },
    {
      "cell_type": "markdown",
      "metadata": {
        "id": "_wu7gesYvtRH"
      },
      "source": [
        "## break\n",
        "break keyword is used to break out of the loop or come out of the loop"
      ]
    },
    {
      "cell_type": "code",
      "metadata": {
        "id": "gvR5rrNYvtRH",
        "outputId": "64c07e0b-37ff-4017-b13e-b9aa146e2dd9"
      },
      "source": [
        "# if count has reached 5 then break\n",
        "count = 1\n",
        "while(count<11):\n",
        "    if(count == 5):\n",
        "        print(count)\n",
        "        break\n",
        "    else:\n",
        "        print(count)\n",
        "        count = count + 1"
      ],
      "execution_count": null,
      "outputs": [
        {
          "name": "stdout",
          "output_type": "stream",
          "text": [
            "1\n",
            "2\n",
            "3\n",
            "4\n",
            "5\n"
          ]
        }
      ]
    },
    {
      "cell_type": "markdown",
      "metadata": {
        "id": "X0Ybkf6yvtRJ"
      },
      "source": [
        "### continue\n",
        "continue keyword takes the execution to the begining of the loop.\n",
        "In other word it skips that perticular iteration"
      ]
    },
    {
      "cell_type": "code",
      "metadata": {
        "id": "i0w-jNPhvtRJ",
        "outputId": "79a87409-7d0a-4e60-8223-c2d864319723"
      },
      "source": [
        "# print only odd numbers\n",
        "count = 0\n",
        "while(count<11):\n",
        "    count = count + 1\n",
        "    if(count%2 == 0):\n",
        "        continue\n",
        "    print(count)"
      ],
      "execution_count": null,
      "outputs": [
        {
          "name": "stdout",
          "output_type": "stream",
          "text": [
            "1\n",
            "3\n",
            "5\n",
            "7\n",
            "9\n",
            "11\n"
          ]
        }
      ]
    },
    {
      "cell_type": "markdown",
      "metadata": {
        "id": "cR3l0xaYvtRK"
      },
      "source": [
        "## For loops\n",
        "* For loops are basically used to loop over a sequence.\n",
        "* Sequence can be anything like strings,Lists,Tuples,Dictionaries,Sets etc"
      ]
    },
    {
      "cell_type": "code",
      "metadata": {
        "id": "uLkCM8XivtRL"
      },
      "source": [
        "\"\"\"\n",
        "syntax\n",
        "\n",
        "for item in seq:\n",
        "    statements....\n",
        "\"\"\""
      ],
      "execution_count": null,
      "outputs": []
    },
    {
      "cell_type": "code",
      "metadata": {
        "id": "mINirLEqvtRL",
        "outputId": "19be6f18-6c13-4e37-c15b-6dc0fa2d8256"
      },
      "source": [
        "# looping over the strings\n",
        "str1 = \"abcde\"\n",
        "\n",
        "for item in str1:\n",
        "    print(item)"
      ],
      "execution_count": null,
      "outputs": [
        {
          "name": "stdout",
          "output_type": "stream",
          "text": [
            "a\n",
            "b\n",
            "c\n",
            "d\n",
            "e\n"
          ]
        }
      ]
    },
    {
      "cell_type": "code",
      "metadata": {
        "id": "vzGPH-JPvtRM",
        "outputId": "899f1c71-83d8-460c-fee9-414a4a63e292"
      },
      "source": [
        "# looping over lists\n",
        "\n",
        "list1 = [1,2,3,4,5]\n",
        "\n",
        "for item in list1:\n",
        "    print(item)\n"
      ],
      "execution_count": null,
      "outputs": [
        {
          "name": "stdout",
          "output_type": "stream",
          "text": [
            "1\n",
            "2\n",
            "3\n",
            "4\n",
            "5\n"
          ]
        }
      ]
    },
    {
      "cell_type": "markdown",
      "metadata": {
        "id": "lISSd4_NvtRN"
      },
      "source": [
        "### range(start,stop,step)\n",
        "* The range() function is used to generate a sequence of numbers over time"
      ]
    },
    {
      "cell_type": "code",
      "metadata": {
        "id": "grfBOBJrvtRN"
      },
      "source": [
        "# start = starting position (default value is 0)\n",
        "# stop = end position(exclusive) (default value is end position)\n",
        "# step = step size or increment size (default value is 1)\n",
        "\n",
        "# range(10) -> 10 is the stop parameter\n",
        "# range(1,10) -> 1 is start,10 is stop\n",
        "# range(1,10,2) -> 1 is start,10 is stop,2 is step"
      ],
      "execution_count": null,
      "outputs": []
    },
    {
      "cell_type": "code",
      "metadata": {
        "id": "1_RCNEFavtRO",
        "outputId": "5f29fed0-041d-49fd-d084-db4e569263e9"
      },
      "source": [
        "for i in range(11):\n",
        "    print(i)"
      ],
      "execution_count": null,
      "outputs": [
        {
          "name": "stdout",
          "output_type": "stream",
          "text": [
            "0\n",
            "1\n",
            "2\n",
            "3\n",
            "4\n",
            "5\n",
            "6\n",
            "7\n",
            "8\n",
            "9\n",
            "10\n"
          ]
        }
      ]
    },
    {
      "cell_type": "code",
      "metadata": {
        "id": "P5_L_SKjvtRO",
        "outputId": "dc216cd6-067f-4432-ab63-4b1e1285ec48"
      },
      "source": [
        "for i in range(1,10):\n",
        "    print(i)"
      ],
      "execution_count": null,
      "outputs": [
        {
          "name": "stdout",
          "output_type": "stream",
          "text": [
            "1\n",
            "2\n",
            "3\n",
            "4\n",
            "5\n",
            "6\n",
            "7\n",
            "8\n",
            "9\n"
          ]
        }
      ]
    },
    {
      "cell_type": "code",
      "metadata": {
        "id": "eRjul-BmvtRP",
        "outputId": "90da04cb-ed33-4d78-a63b-e0d19575d7ab"
      },
      "source": [
        "for i in range(1,10,2):\n",
        "    print(i)"
      ],
      "execution_count": null,
      "outputs": [
        {
          "name": "stdout",
          "output_type": "stream",
          "text": [
            "1\n",
            "3\n",
            "5\n",
            "7\n",
            "9\n"
          ]
        }
      ]
    },
    {
      "cell_type": "code",
      "metadata": {
        "id": "dQHI3M6PvtRQ",
        "outputId": "173ec9bd-5bcf-4cfc-83e0-d8f6417eb2be"
      },
      "source": [
        "#looping in reverse order from 10 to 1\n",
        "for i in range(10,0,-1):\n",
        "    print(i)\n",
        "  "
      ],
      "execution_count": null,
      "outputs": [
        {
          "name": "stdout",
          "output_type": "stream",
          "text": [
            "10\n",
            "9\n",
            "8\n",
            "7\n",
            "6\n",
            "5\n",
            "4\n",
            "3\n",
            "2\n",
            "1\n"
          ]
        }
      ]
    },
    {
      "cell_type": "code",
      "metadata": {
        "id": "doobA8snvtRQ",
        "outputId": "29313a08-81b2-4207-894c-7672007a01ff"
      },
      "source": [
        "# using break in for loops\n",
        "for i in range(10):\n",
        "    if ( i == 7):\n",
        "        break\n",
        "    print(i)"
      ],
      "execution_count": null,
      "outputs": [
        {
          "name": "stdout",
          "output_type": "stream",
          "text": [
            "0\n",
            "1\n",
            "2\n",
            "3\n",
            "4\n",
            "5\n",
            "6\n"
          ]
        }
      ]
    },
    {
      "cell_type": "code",
      "metadata": {
        "id": "7mu7vSZFvtRR"
      },
      "source": [
        "# using continue in for loops\n",
        "# say you dont want to print 4,5,6\n",
        "for i in range(10):\n",
        "    if(i==4 or i == 5 or i == 6):\n",
        "        continue\n",
        "    print(i)\n"
      ],
      "execution_count": null,
      "outputs": []
    },
    {
      "cell_type": "markdown",
      "metadata": {
        "id": "fnilDHMgvtRS"
      },
      "source": [
        "## pass\n",
        "pass keyword does nothing but you can avoid getting an error when empty code is not allowed. Empty code is not allowed in loops,if else conditions,functions,Classes etc"
      ]
    },
    {
      "cell_type": "code",
      "metadata": {
        "id": "iApKQ5X2vtRS"
      },
      "source": [
        "if(4>2):\n",
        "    pass"
      ],
      "execution_count": null,
      "outputs": []
    },
    {
      "cell_type": "code",
      "metadata": {
        "id": "P_XlE0RTvtRS",
        "outputId": "ee258f0c-ee49-41a3-d851-201beb77d24e"
      },
      "source": [
        "if(4>2):\n",
        "    print(\"A\")\n",
        "else:\n",
        "    pass\n"
      ],
      "execution_count": null,
      "outputs": [
        {
          "name": "stdout",
          "output_type": "stream",
          "text": [
            "A\n"
          ]
        }
      ]
    },
    {
      "cell_type": "code",
      "metadata": {
        "id": "JDbqEC9jvtRT"
      },
      "source": [
        "for i in range(10):\n",
        "    pass"
      ],
      "execution_count": null,
      "outputs": []
    },
    {
      "cell_type": "markdown",
      "metadata": {
        "id": "b6kJkQWVvtRT"
      },
      "source": [
        "### Task 10.1 = what is the uasge of continue wiith an example. "
      ]
    },
    {
      "cell_type": "markdown",
      "metadata": {
        "id": "9664CXezvvpk"
      },
      "source": [
        "The continue statement rejects all the remaining statements in the current iteration of the loop and moves the control back to the top of the loop.\n",
        "\n",
        "The continue statement can be used in both while and for loops."
      ]
    },
    {
      "cell_type": "code",
      "metadata": {
        "colab": {
          "base_uri": "https://localhost:8080/"
        },
        "id": "T3ClmoRIwHQx",
        "outputId": "f2f4a92e-313a-4072-bf7c-c94479e9f884"
      },
      "source": [
        "for letter in 'Python':     # First Example\n",
        "   if letter == 'h':\n",
        "      continue\n",
        "   print ('Current Letter :', letter)\n",
        "\n",
        "var = 10                    # Second Example\n",
        "while var > 0:              \n",
        "   var = var -1\n",
        "   if var == 5:\n",
        "      continue\n",
        "   print ('Current variable value :', var)\n",
        "print (\"Good bye!\")"
      ],
      "execution_count": 4,
      "outputs": [
        {
          "output_type": "stream",
          "name": "stdout",
          "text": [
            "Current Letter : P\n",
            "Current Letter : y\n",
            "Current Letter : t\n",
            "Current Letter : o\n",
            "Current Letter : n\n",
            "Current variable value : 9\n",
            "Current variable value : 8\n",
            "Current variable value : 7\n",
            "Current variable value : 6\n",
            "Current variable value : 4\n",
            "Current variable value : 3\n",
            "Current variable value : 2\n",
            "Current variable value : 1\n",
            "Current variable value : 0\n",
            "Good bye!\n"
          ]
        }
      ]
    },
    {
      "cell_type": "markdown",
      "metadata": {
        "id": "Rv9e8X58vtRT"
      },
      "source": [
        "### Task 10.2 What is pass keyword, with example."
      ]
    },
    {
      "cell_type": "code",
      "metadata": {
        "id": "GDLa9mWPwdqm"
      },
      "source": [
        "for x in [0, 1, 2]:\n",
        "  pass"
      ],
      "execution_count": 5,
      "outputs": []
    },
    {
      "cell_type": "markdown",
      "metadata": {
        "id": "2iRL46miwetI"
      },
      "source": [
        "n Python, the pass keyword is used to execute nothing; it means, when we don't want to execute code, the pass can be used to execute empty."
      ]
    },
    {
      "cell_type": "markdown",
      "metadata": {
        "id": "hOUNxp2rvtRU"
      },
      "source": [
        "### Task10\n",
        "* using **while loop** print numbers from 10 to 1\n",
        "* try using **for loop** to loop over tuples,sets and dictionaries"
      ]
    },
    {
      "cell_type": "code",
      "metadata": {
        "colab": {
          "base_uri": "https://localhost:8080/"
        },
        "id": "yyLKu-7dyd0P",
        "outputId": "edd197f5-ac0d-496e-b023-7f988a75df3b"
      },
      "source": [
        "#Python for loop example\n",
        "names = [\"vikram\", \"Pandi\", \"Mani\"]\n",
        "for x in names:\n",
        "  print(x)"
      ],
      "execution_count": 10,
      "outputs": [
        {
          "output_type": "stream",
          "name": "stdout",
          "text": [
            "vikram\n",
            "Pandi\n",
            "Mani\n"
          ]
        }
      ]
    },
    {
      "cell_type": "code",
      "metadata": {
        "colab": {
          "base_uri": "https://localhost:8080/"
        },
        "id": "ZJU80FVHzQoP",
        "outputId": "88df8169-4908-4c99-b912-411944bb164e"
      },
      "source": [
        "#Python for loop example\n",
        "colors_dict = {'color': 'blue', 'fruit': 'apple', 'pet': 'dog'}\n",
        " \n",
        "for key in colors_dict.keys():\n",
        "    print(key)\n",
        " \n",
        "for item in colors_dict.items():\n",
        "    print(item)"
      ],
      "execution_count": 11,
      "outputs": [
        {
          "output_type": "stream",
          "name": "stdout",
          "text": [
            "color\n",
            "fruit\n",
            "pet\n",
            "('color', 'blue')\n",
            "('fruit', 'apple')\n",
            "('pet', 'dog')\n"
          ]
        }
      ]
    },
    {
      "cell_type": "code",
      "metadata": {
        "colab": {
          "base_uri": "https://localhost:8080/"
        },
        "id": "z7-Qa0iXztK0",
        "outputId": "381b9152-5117-423f-d8d0-0c025dfb7332"
      },
      "source": [
        "#python loops in set\n",
        "colorSet = set([\"red\",\"green\",\"blue\"]) \n",
        " \n",
        "for color in colorSet:\n",
        "    print(color)"
      ],
      "execution_count": 12,
      "outputs": [
        {
          "output_type": "stream",
          "name": "stdout",
          "text": [
            "blue\n",
            "green\n",
            "red\n"
          ]
        }
      ]
    },
    {
      "cell_type": "code",
      "metadata": {
        "colab": {
          "base_uri": "https://localhost:8080/"
        },
        "id": "1_k0Lrwdw4kc",
        "outputId": "9099556d-510c-406f-c83b-cfe1b773b7f1"
      },
      "source": [
        "i = 10\n",
        "print(\"natural number 10 to 1\")\n",
        "while True:\n",
        "  print(i)\n",
        "  i = i-1\n",
        "  if(i<1):\n",
        "    break"
      ],
      "execution_count": 7,
      "outputs": [
        {
          "output_type": "stream",
          "name": "stdout",
          "text": [
            "natural number 10 to 1\n",
            "10\n",
            "9\n",
            "8\n",
            "7\n",
            "6\n",
            "5\n",
            "4\n",
            "3\n",
            "2\n",
            "1\n"
          ]
        }
      ]
    }
  ]
}