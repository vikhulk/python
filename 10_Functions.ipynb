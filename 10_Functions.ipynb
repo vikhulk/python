{
  "nbformat": 4,
  "nbformat_minor": 0,
  "metadata": {
    "kernelspec": {
      "display_name": "Python 3",
      "language": "python",
      "name": "python3"
    },
    "language_info": {
      "codemirror_mode": {
        "name": "ipython",
        "version": 3
      },
      "file_extension": ".py",
      "mimetype": "text/x-python",
      "name": "python",
      "nbconvert_exporter": "python",
      "pygments_lexer": "ipython3",
      "version": "3.8.3"
    },
    "colab": {
      "name": "10 - Functions.ipynb",
      "provenance": []
    }
  },
  "cells": [
    {
      "cell_type": "markdown",
      "metadata": {
        "id": "HScCbLiBQNcx"
      },
      "source": [
        "# FUNCTIONS\n",
        "Functions are the block of reusable code that will execute only when it is called."
      ]
    },
    {
      "cell_type": "code",
      "metadata": {
        "id": "FA96_xOgQNc_",
        "colab": {
          "base_uri": "https://localhost:8080/",
          "height": 35
        },
        "outputId": "69d8243b-c593-4b22-ca2c-d6dc9cfea61b"
      },
      "source": [
        "# syntax\n",
        "\"\"\"\n",
        "def function_name():\n",
        "    statement 1\n",
        "    statement 2\n",
        "    ...\n",
        "    ...\n",
        "    ...\n",
        "    statement n\n",
        "\"\"\""
      ],
      "execution_count": null,
      "outputs": [
        {
          "output_type": "execute_result",
          "data": {
            "application/vnd.google.colaboratory.intrinsic+json": {
              "type": "string"
            },
            "text/plain": [
              "'\\ndef function_name():\\n    statement 1\\n    statement 2\\n    ...\\n    ...\\n    ...\\n    statement n\\n'"
            ]
          },
          "metadata": {},
          "execution_count": 1
        }
      ]
    },
    {
      "cell_type": "code",
      "metadata": {
        "id": "0fji7B7RQNdD"
      },
      "source": [
        "# defining the function\n",
        "def my_func():\n",
        "    print(\"hello\")\n",
        "    print(\"I am a function\")\n",
        "    print(\"I will execute only when i get called\")\n",
        "    "
      ],
      "execution_count": null,
      "outputs": []
    },
    {
      "cell_type": "code",
      "metadata": {
        "id": "BA48LjBWQNdE",
        "colab": {
          "base_uri": "https://localhost:8080/"
        },
        "outputId": "1557f786-ec20-4da4-fb24-34e3bcabf78c"
      },
      "source": [
        "# calling the function\n",
        "my_func()"
      ],
      "execution_count": null,
      "outputs": [
        {
          "output_type": "stream",
          "name": "stdout",
          "text": [
            "hello\n",
            "I am a function\n",
            "I will execute only when i get called\n"
          ]
        }
      ]
    },
    {
      "cell_type": "code",
      "metadata": {
        "id": "4OmILyRxQNdI"
      },
      "source": [
        "#Ex2) Adding two numbers\n",
        "def add():\n",
        "    x = 10\n",
        "    y = 20\n",
        "    z = x + y\n",
        "    print(z)"
      ],
      "execution_count": null,
      "outputs": []
    },
    {
      "cell_type": "code",
      "metadata": {
        "id": "og3lUR_TQNdJ",
        "colab": {
          "base_uri": "https://localhost:8080/"
        },
        "outputId": "e1414623-3f87-45db-cdd0-c2ee535687ab"
      },
      "source": [
        "add()"
      ],
      "execution_count": null,
      "outputs": [
        {
          "output_type": "stream",
          "name": "stdout",
          "text": [
            "30\n"
          ]
        }
      ]
    },
    {
      "cell_type": "markdown",
      "metadata": {
        "id": "e-r2ZB3zQNdK"
      },
      "source": [
        "#### Passing parameters/arguments to function"
      ]
    },
    {
      "cell_type": "code",
      "metadata": {
        "id": "1-FNYGawQNdL"
      },
      "source": [
        "#Ex1)you can pass numbers\n",
        "def add(x,y):\n",
        "    z = x + y\n",
        "    print(z)"
      ],
      "execution_count": null,
      "outputs": []
    },
    {
      "cell_type": "code",
      "metadata": {
        "id": "sKYvej7GQNdN",
        "colab": {
          "base_uri": "https://localhost:8080/"
        },
        "outputId": "4c8376d0-da9b-4417-ce6d-de38acf16585"
      },
      "source": [
        "add(10,20)"
      ],
      "execution_count": null,
      "outputs": [
        {
          "output_type": "stream",
          "name": "stdout",
          "text": [
            "30\n"
          ]
        }
      ]
    },
    {
      "cell_type": "code",
      "metadata": {
        "id": "vQ_8NLH5QNdP"
      },
      "source": [
        "#Ex2) you can pass strings\n",
        "def func(name):\n",
        "    print(\"Hello {}\".format(name))"
      ],
      "execution_count": null,
      "outputs": []
    },
    {
      "cell_type": "code",
      "metadata": {
        "id": "MaVnsrlMQNdQ",
        "colab": {
          "base_uri": "https://localhost:8080/"
        },
        "outputId": "58ed2424-f38f-405f-ae14-e8271bf4ac45"
      },
      "source": [
        "func(\"Himanshu\")"
      ],
      "execution_count": null,
      "outputs": [
        {
          "output_type": "stream",
          "name": "stdout",
          "text": [
            "Hello Himanshu\n"
          ]
        }
      ]
    },
    {
      "cell_type": "code",
      "metadata": {
        "id": "NDlckPWLQNdT"
      },
      "source": [
        "# Ex3) you can pass lists\n",
        "def func(list1):\n",
        "    for i in list1:\n",
        "        print(i)"
      ],
      "execution_count": null,
      "outputs": []
    },
    {
      "cell_type": "code",
      "metadata": {
        "id": "ncD3Qu9OQNdU",
        "colab": {
          "base_uri": "https://localhost:8080/"
        },
        "outputId": "fc5e583a-6a3f-47cd-f4f1-74c9c450cd0e"
      },
      "source": [
        "func([1,2,3,4,5])"
      ],
      "execution_count": null,
      "outputs": [
        {
          "output_type": "stream",
          "name": "stdout",
          "text": [
            "1\n",
            "2\n",
            "3\n",
            "4\n",
            "5\n"
          ]
        }
      ]
    },
    {
      "cell_type": "markdown",
      "metadata": {
        "id": "RTb42gOzQNdW"
      },
      "source": [
        "#### return keyword\n",
        "* **return** keyword can be used to return values from a function\n",
        "* it can be used to end the execution of a function\n",
        "* statements below **return** keyword will not get executed"
      ]
    },
    {
      "cell_type": "code",
      "metadata": {
        "id": "Q7Z4BIFcQNdZ"
      },
      "source": [
        "# Ex1) returning sum\n",
        "def add(x,y):\n",
        "    z = x + y\n",
        "    return z\n",
        "    print(z) #will not be executed"
      ],
      "execution_count": null,
      "outputs": []
    },
    {
      "cell_type": "code",
      "metadata": {
        "id": "BtSEnZJoQNdZ",
        "colab": {
          "base_uri": "https://localhost:8080/"
        },
        "outputId": "8975a47d-4acf-4029-d8b3-4c901d4055ee"
      },
      "source": [
        "my_sum = add(10,20)\n",
        "my_sum + 10"
      ],
      "execution_count": null,
      "outputs": [
        {
          "output_type": "execute_result",
          "data": {
            "text/plain": [
              "40"
            ]
          },
          "metadata": {},
          "execution_count": 13
        }
      ]
    },
    {
      "cell_type": "code",
      "metadata": {
        "id": "TfS2_AtaQNd1"
      },
      "source": [
        "# Ex2) returning product\n",
        "def product(x,y):\n",
        "    z = x * y\n",
        "    return z\n",
        "    print(z) #will not execute"
      ],
      "execution_count": null,
      "outputs": []
    },
    {
      "cell_type": "code",
      "metadata": {
        "id": "oFiRte0dQNd2",
        "colab": {
          "base_uri": "https://localhost:8080/"
        },
        "outputId": "b581ef7b-6717-42e7-8522-3062da3c676f"
      },
      "source": [
        "my_num = product(10,2)\n",
        "my_num"
      ],
      "execution_count": null,
      "outputs": [
        {
          "output_type": "execute_result",
          "data": {
            "text/plain": [
              "20"
            ]
          },
          "metadata": {},
          "execution_count": 15
        }
      ]
    },
    {
      "cell_type": "markdown",
      "metadata": {
        "id": "4R6UvUxfQNd7"
      },
      "source": [
        "#### default values\n",
        "* to initialize the parameters with default values in order to avoid the errors"
      ]
    },
    {
      "cell_type": "code",
      "metadata": {
        "id": "jrqWNON8QNd8"
      },
      "source": [
        "#Without default values\n",
        "def add(x,y,z):\n",
        "    my_num = x + y + z\n",
        "    print(my_num)"
      ],
      "execution_count": null,
      "outputs": []
    },
    {
      "cell_type": "code",
      "metadata": {
        "id": "xxt1EwcFQNd9",
        "colab": {
          "base_uri": "https://localhost:8080/"
        },
        "outputId": "11de7b7b-4ae1-481e-e2a7-a08221d60ccb"
      },
      "source": [
        "# when value is passed\n",
        "add(10,20,30)"
      ],
      "execution_count": null,
      "outputs": [
        {
          "output_type": "stream",
          "name": "stdout",
          "text": [
            "60\n"
          ]
        }
      ]
    },
    {
      "cell_type": "code",
      "metadata": {
        "id": "0crSjFBSQNd-",
        "colab": {
          "base_uri": "https://localhost:8080/"
        },
        "outputId": "0334eb75-d732-4bd5-9f6b-2714cb638085"
      },
      "source": [
        "# when value is not passed\n",
        "def add(x,y,z):\n",
        "  my_num = x+y+z\n",
        "  print(my_num)\n",
        "my_num = add(10,20,70)\n",
        " #ERROR"
      ],
      "execution_count": null,
      "outputs": [
        {
          "output_type": "stream",
          "name": "stdout",
          "text": [
            "100\n"
          ]
        }
      ]
    },
    {
      "cell_type": "code",
      "metadata": {
        "id": "leuZXGO9QNeA"
      },
      "source": [
        "# With default values\n",
        "\n",
        "def add(x,y,z = 0): #z is initilized to 0 (default)\n",
        "    my_num = x + y + z\n",
        "    print(my_num)"
      ],
      "execution_count": null,
      "outputs": []
    },
    {
      "cell_type": "code",
      "metadata": {
        "id": "VZwgCOUIQNeC",
        "colab": {
          "base_uri": "https://localhost:8080/"
        },
        "outputId": "2dca523a-e29e-4988-c41c-7b9d9fc74d68"
      },
      "source": [
        "# when value is not passed\n",
        "add(10,20,2)"
      ],
      "execution_count": null,
      "outputs": [
        {
          "output_type": "stream",
          "name": "stdout",
          "text": [
            "32\n"
          ]
        }
      ]
    },
    {
      "cell_type": "code",
      "metadata": {
        "id": "H6DpS63wQNeD",
        "colab": {
          "base_uri": "https://localhost:8080/"
        },
        "outputId": "acf9bb89-d6f2-44a3-bc7d-6637160a9e43"
      },
      "source": [
        "#when value is passed\n",
        "add(10,20,30)"
      ],
      "execution_count": null,
      "outputs": [
        {
          "output_type": "stream",
          "name": "stdout",
          "text": [
            "60\n"
          ]
        }
      ]
    },
    {
      "cell_type": "markdown",
      "metadata": {
        "id": "Skuk7BLYQNeD"
      },
      "source": [
        "#### A function can call any other function"
      ]
    },
    {
      "cell_type": "code",
      "metadata": {
        "id": "Qt4kWdL3QNeL"
      },
      "source": [
        "def func1():\n",
        "    print(\"func1\")\n",
        "\n",
        "def func2():\n",
        "    print(\"func2\")\n",
        "    func1()\n",
        "    \n",
        "def func3():\n",
        "    print(\"func3\")\n",
        "    func2()\n"
      ],
      "execution_count": null,
      "outputs": []
    },
    {
      "cell_type": "code",
      "metadata": {
        "id": "OM9tqZpdQNeM"
      },
      "source": [
        "func3()"
      ],
      "execution_count": null,
      "outputs": []
    },
    {
      "cell_type": "markdown",
      "metadata": {
        "id": "AO72DN7mQNeM"
      },
      "source": [
        "#### Recursion or Recursive Function :\n",
        "* A function calling itself\n",
        "* Possibility of infinite execution. Always handle this scenario"
      ]
    },
    {
      "cell_type": "code",
      "metadata": {
        "id": "g4Tn6F_lQNeN",
        "colab": {
          "base_uri": "https://localhost:8080/"
        },
        "outputId": "048bbcd6-f1a3-4f41-e8e8-c1803e1804cc"
      },
      "source": [
        "# Printing Hello for 5 times using recursion\n",
        "def my_func(num):\n",
        "    num = num + 1\n",
        "    if(num>5):\n",
        "        return\n",
        "    else:\n",
        "        print(\"Hello\")\n",
        "        my_func(num)\n",
        "my_func(3)        "
      ],
      "execution_count": null,
      "outputs": [
        {
          "output_type": "stream",
          "name": "stdout",
          "text": [
            "Hello\n",
            "Hello\n"
          ]
        }
      ]
    },
    {
      "cell_type": "code",
      "metadata": {
        "id": "Wwsu-EFpQNeN",
        "colab": {
          "base_uri": "https://localhost:8080/",
          "height": 165
        },
        "outputId": "f724dc92-de33-4e04-c0b1-c44c8b8022ef"
      },
      "source": [
        "my_func(0)"
      ],
      "execution_count": null,
      "outputs": [
        {
          "output_type": "error",
          "ename": "NameError",
          "evalue": "ignored",
          "traceback": [
            "\u001b[0;31m---------------------------------------------------------------------------\u001b[0m",
            "\u001b[0;31mNameError\u001b[0m                                 Traceback (most recent call last)",
            "\u001b[0;32m<ipython-input-7-5bdf122bd2d9>\u001b[0m in \u001b[0;36m<module>\u001b[0;34m()\u001b[0m\n\u001b[0;32m----> 1\u001b[0;31m \u001b[0mmy_func\u001b[0m\u001b[0;34m(\u001b[0m\u001b[0;36m0\u001b[0m\u001b[0;34m)\u001b[0m\u001b[0;34m\u001b[0m\u001b[0;34m\u001b[0m\u001b[0m\n\u001b[0m",
            "\u001b[0;31mNameError\u001b[0m: name 'my_func' is not defined"
          ]
        }
      ]
    },
    {
      "cell_type": "markdown",
      "metadata": {
        "id": "bqmsn3nhQNeO"
      },
      "source": [
        "### Task 11.1\n",
        "* Explain Return keyword with example."
      ]
    },
    {
      "cell_type": "code",
      "metadata": {
        "colab": {
          "base_uri": "https://localhost:8080/"
        },
        "id": "S8Omim8vDmN_",
        "outputId": "043d6b05-2e79-4b79-b041-d849f1151e16"
      },
      "source": [
        "#used to return from a method when its execution is complete\n",
        "#Example\n",
        "def add(a,b):\n",
        "  c = a + b\n",
        "  return c\n",
        "  print(c)\n",
        "my_add = add(10,30)\n",
        "my_add  \n",
        "\n"
      ],
      "execution_count": 3,
      "outputs": [
        {
          "output_type": "execute_result",
          "data": {
            "text/plain": [
              "40"
            ]
          },
          "metadata": {},
          "execution_count": 3
        }
      ]
    },
    {
      "cell_type": "markdown",
      "metadata": {
        "id": "6HSDgducQNeP"
      },
      "source": [
        "### Task11.2\n",
        "* Ask 2 numbers from users and store it in num1 and num2\n",
        "* Ask user to press 1 for addition,2 for subtraction,3 for multiplication and 4 for division\n",
        "* create 4 seperate functions for each operation (i.e. addition,subtraction,multiplication and division)\n",
        "* based on number given by user,call that perticular function and print the output"
      ]
    },
    {
      "cell_type": "code",
      "metadata": {
        "colab": {
          "base_uri": "https://localhost:8080/"
        },
        "id": "QaosrgMIFTTL",
        "outputId": "9d5fe7b0-cb38-48a5-a774-6fc6ff502a5c"
      },
      "source": [
        "num1 = int(input(\"Enter the number 1\"))\n",
        "num2 = int(input(\"Enter the number 2\"))\n",
        "print(\"Choose no to perform the operation\")\n",
        "ch = input(\"Enter the no \\n 1 for addtion\\n 2 for subtration \\n 3 for Multipilication \\n 4 for division\")\n",
        "result = 0\n",
        "if ch == '1':\n",
        "  def add(num1,num2):\n",
        "    result = num1+num2\n",
        "print(result)\n"
      ],
      "execution_count": 11,
      "outputs": [
        {
          "output_type": "stream",
          "name": "stdout",
          "text": [
            "Enter the number 15\n",
            "Enter the number 25\n",
            "Choose no to perform the operation\n",
            "Enter the no \n",
            " 1 for addtion\n",
            " 2 for subtration \n",
            " 3 for Multipilication \n",
            " 4 for division1\n",
            "0\n"
          ]
        }
      ]
    },
    {
      "cell_type": "code",
      "metadata": {
        "id": "0Grob5ZFQNeP"
      },
      "source": [
        ""
      ],
      "execution_count": null,
      "outputs": []
    }
  ]
}