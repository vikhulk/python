{
  "nbformat": 4,
  "nbformat_minor": 0,
  "metadata": {
    "kernelspec": {
      "display_name": "Python 3",
      "language": "python",
      "name": "python3"
    },
    "language_info": {
      "codemirror_mode": {
        "name": "ipython",
        "version": 3
      },
      "file_extension": ".py",
      "mimetype": "text/x-python",
      "name": "python",
      "nbconvert_exporter": "python",
      "pygments_lexer": "ipython3",
      "version": "3.7.6"
    },
    "colab": {
      "name": "05 - Tuples.ipynb",
      "provenance": []
    }
  },
  "cells": [
    {
      "cell_type": "markdown",
      "metadata": {
        "id": "A6U-CbVOJWbS"
      },
      "source": [
        "## Tuples\n",
        "In Python Tuples are written with round brackets.\n",
        "#### Important properties of Tuples\n",
        "\n",
        "* Can store different data types\n",
        "* Duplicate values are allowed\n",
        "* Order is retained\n",
        "* Indexing and slicing is possible\n",
        "* Immutable. "
      ]
    },
    {
      "cell_type": "code",
      "metadata": {
        "id": "o5JqPTDTJWba"
      },
      "source": [
        "tup1 = (1,2,3,4.4,5.5,True,False,\"Maths\",\"Python\")"
      ],
      "execution_count": null,
      "outputs": []
    },
    {
      "cell_type": "code",
      "metadata": {
        "id": "iJfQckRPJWbc",
        "outputId": "5dab2cc5-2b4d-49e6-eec4-e74bee711388"
      },
      "source": [
        "tup1"
      ],
      "execution_count": null,
      "outputs": [
        {
          "data": {
            "text/plain": [
              "(1, 2, 3, 4.4, 5.5, True, False, 'Maths', 'Python')"
            ]
          },
          "execution_count": 2,
          "metadata": {},
          "output_type": "execute_result"
        }
      ]
    },
    {
      "cell_type": "code",
      "metadata": {
        "id": "i9UhTLwDJWbe"
      },
      "source": [
        "tup2 = (1,2,3,4,5,1,1)"
      ],
      "execution_count": null,
      "outputs": []
    },
    {
      "cell_type": "code",
      "metadata": {
        "id": "4e1tfyDzJWbf",
        "outputId": "c71951d5-3c1c-4720-81b0-b03ebcb705a2"
      },
      "source": [
        "tup2"
      ],
      "execution_count": null,
      "outputs": [
        {
          "data": {
            "text/plain": [
              "(1, 2, 3, 4, 5, 1, 1)"
            ]
          },
          "execution_count": 4,
          "metadata": {},
          "output_type": "execute_result"
        }
      ]
    },
    {
      "cell_type": "code",
      "metadata": {
        "id": "i9hLL1YbJWbg",
        "outputId": "3af42dde-33a4-4cba-8220-2a7cd47e7912"
      },
      "source": [
        "# check the type using type()\n",
        "type(tup1)"
      ],
      "execution_count": null,
      "outputs": [
        {
          "data": {
            "text/plain": [
              "tuple"
            ]
          },
          "execution_count": 5,
          "metadata": {},
          "output_type": "execute_result"
        }
      ]
    },
    {
      "cell_type": "code",
      "metadata": {
        "id": "DzQYsF2QJWbg",
        "outputId": "70def654-9598-4adb-f48c-3b99bd12cbbc"
      },
      "source": [
        "# len()\n",
        "len(tup2)"
      ],
      "execution_count": null,
      "outputs": [
        {
          "data": {
            "text/plain": [
              "7"
            ]
          },
          "execution_count": 6,
          "metadata": {},
          "output_type": "execute_result"
        }
      ]
    },
    {
      "cell_type": "markdown",
      "metadata": {
        "id": "m4iRPkeXJWbh"
      },
      "source": [
        "#### Create a tuple with one element"
      ]
    },
    {
      "cell_type": "code",
      "metadata": {
        "id": "lCrudxtnJWbi"
      },
      "source": [
        "tup3 = (\"Python\")"
      ],
      "execution_count": null,
      "outputs": []
    },
    {
      "cell_type": "code",
      "metadata": {
        "id": "xbn44swzJWbk",
        "outputId": "b5c0854e-926f-4ff6-c317-5502e12fd6d3"
      },
      "source": [
        "tup3"
      ],
      "execution_count": null,
      "outputs": [
        {
          "data": {
            "text/plain": [
              "'Python'"
            ]
          },
          "execution_count": 8,
          "metadata": {},
          "output_type": "execute_result"
        }
      ]
    },
    {
      "cell_type": "code",
      "metadata": {
        "id": "9aGysaS-JWbk",
        "outputId": "65924e95-ad9e-40a3-f872-11bf58859e11"
      },
      "source": [
        "# String type\n",
        "type(tup3)"
      ],
      "execution_count": null,
      "outputs": [
        {
          "data": {
            "text/plain": [
              "str"
            ]
          },
          "execution_count": 9,
          "metadata": {},
          "output_type": "execute_result"
        }
      ]
    },
    {
      "cell_type": "code",
      "metadata": {
        "id": "lq2fxug2JWbl"
      },
      "source": [
        "# to create a tuple with one element make use of comma(,) after the value\n",
        "tup3 = (\"python\",)"
      ],
      "execution_count": null,
      "outputs": []
    },
    {
      "cell_type": "code",
      "metadata": {
        "id": "ssllSQVKJWbm",
        "outputId": "cfd9fdee-48fc-4cd8-f532-235b85ef7119"
      },
      "source": [
        "tup3"
      ],
      "execution_count": null,
      "outputs": [
        {
          "data": {
            "text/plain": [
              "('python',)"
            ]
          },
          "execution_count": 11,
          "metadata": {},
          "output_type": "execute_result"
        }
      ]
    },
    {
      "cell_type": "code",
      "metadata": {
        "id": "1xrZAi2pJWbm",
        "outputId": "7b3f80be-5cfe-4b9c-cd08-04d0e3b5ee8d"
      },
      "source": [
        "type(tup3)"
      ],
      "execution_count": null,
      "outputs": [
        {
          "data": {
            "text/plain": [
              "tuple"
            ]
          },
          "execution_count": 12,
          "metadata": {},
          "output_type": "execute_result"
        }
      ]
    },
    {
      "cell_type": "code",
      "metadata": {
        "id": "KsbIk1PyJWbn",
        "outputId": "571872d3-72a9-4fa1-9321-1864024ba9dd"
      },
      "source": [
        "len(tup3)"
      ],
      "execution_count": null,
      "outputs": [
        {
          "data": {
            "text/plain": [
              "1"
            ]
          },
          "execution_count": 13,
          "metadata": {},
          "output_type": "execute_result"
        }
      ]
    },
    {
      "cell_type": "markdown",
      "metadata": {
        "id": "GmnSeSGmJWbo"
      },
      "source": [
        "#### Indexing\n",
        "Indexing starts from 0(zero). Very much similar to what we have learnt in our previous class"
      ]
    },
    {
      "cell_type": "code",
      "metadata": {
        "id": "cHL4Fwe8JWbo",
        "outputId": "b9f55c66-83be-41d5-919d-99d111e6550b"
      },
      "source": [
        "# to get the first element\n",
        "tup1"
      ],
      "execution_count": null,
      "outputs": [
        {
          "data": {
            "text/plain": [
              "(1, 2, 3, 4.4, 5.5, True, False, 'Maths', 'Python')"
            ]
          },
          "execution_count": 14,
          "metadata": {},
          "output_type": "execute_result"
        }
      ]
    },
    {
      "cell_type": "code",
      "metadata": {
        "id": "SGgTv-ttJWbp",
        "outputId": "02079a49-f434-41c7-8308-46f40ea70268"
      },
      "source": [
        "tup1[0]"
      ],
      "execution_count": null,
      "outputs": [
        {
          "data": {
            "text/plain": [
              "1"
            ]
          },
          "execution_count": 15,
          "metadata": {},
          "output_type": "execute_result"
        }
      ]
    },
    {
      "cell_type": "code",
      "metadata": {
        "id": "n_HZ4OUpJWbp",
        "outputId": "806feca1-d978-4f9c-c6fb-fdbb6a10d708"
      },
      "source": [
        "# to get the third element\n",
        "tup1[2]"
      ],
      "execution_count": null,
      "outputs": [
        {
          "data": {
            "text/plain": [
              "3"
            ]
          },
          "execution_count": 16,
          "metadata": {},
          "output_type": "execute_result"
        }
      ]
    },
    {
      "cell_type": "code",
      "metadata": {
        "id": "J6HfKVVMJWbq",
        "outputId": "f9318f5e-52bc-4613-8216-b1ab3a5ff839"
      },
      "source": [
        "# to get the last element\n",
        "tup1[-1]"
      ],
      "execution_count": null,
      "outputs": [
        {
          "data": {
            "text/plain": [
              "'Python'"
            ]
          },
          "execution_count": 17,
          "metadata": {},
          "output_type": "execute_result"
        }
      ]
    },
    {
      "cell_type": "markdown",
      "metadata": {
        "id": "3vV8Q1h8JWbr"
      },
      "source": [
        "#### Slicing"
      ]
    },
    {
      "cell_type": "code",
      "metadata": {
        "id": "qkonXMFsJWbr"
      },
      "source": [
        "# [start:stop:step]\n",
        "\n",
        "# start = starting position (default value is 0)\n",
        "# stop = end position(exclusive) (default value is end position)\n",
        "# step = step size or increment size (default value is 1)"
      ],
      "execution_count": null,
      "outputs": []
    },
    {
      "cell_type": "code",
      "metadata": {
        "id": "IxPAGtVHJWbr",
        "outputId": "e343e528-170b-4f3c-ab8a-6b4ab4d5e054"
      },
      "source": [
        "# to get first 5 elements \n",
        "tup1[:5]"
      ],
      "execution_count": null,
      "outputs": [
        {
          "data": {
            "text/plain": [
              "(1, 2, 3, 4.4, 5.5)"
            ]
          },
          "execution_count": 19,
          "metadata": {},
          "output_type": "execute_result"
        }
      ]
    },
    {
      "cell_type": "code",
      "metadata": {
        "id": "5I37m1B6JWbs",
        "outputId": "0f4da046-5a42-4f5d-8b63-a446fca2302c"
      },
      "source": [
        "# to get last 5 elements \n",
        "tup1[-5:]"
      ],
      "execution_count": null,
      "outputs": [
        {
          "data": {
            "text/plain": [
              "(5.5, True, False, 'Maths', 'Python')"
            ]
          },
          "execution_count": 20,
          "metadata": {},
          "output_type": "execute_result"
        }
      ]
    },
    {
      "cell_type": "code",
      "metadata": {
        "id": "t42yUdF7JWbs",
        "outputId": "d11308b9-0eca-4210-c9f0-c4230ad50c6f"
      },
      "source": [
        "# to get alternate elements \n",
        "tup1[::2]"
      ],
      "execution_count": null,
      "outputs": [
        {
          "data": {
            "text/plain": [
              "(1, 3, 5.5, False, 'Python')"
            ]
          },
          "execution_count": 21,
          "metadata": {},
          "output_type": "execute_result"
        }
      ]
    },
    {
      "cell_type": "markdown",
      "metadata": {
        "id": "Yj2wrRTIJWbt"
      },
      "source": [
        "#### Immutable\n",
        "Once the tuple is created, you cannot add,remove or modify the elements"
      ]
    },
    {
      "cell_type": "code",
      "metadata": {
        "id": "LlP9hKN-JWbt",
        "outputId": "89d2d1d1-0e6f-4cba-8146-595f02c2d0c5"
      },
      "source": [
        "# try to add values\n",
        "tup1 = (1,2,3,4,5)\n",
        "tup1[5] = 6 # Error"
      ],
      "execution_count": null,
      "outputs": [
        {
          "ename": "TypeError",
          "evalue": "'tuple' object does not support item assignment",
          "output_type": "error",
          "traceback": [
            "\u001b[1;31m---------------------------------------------------------------------------\u001b[0m",
            "\u001b[1;31mTypeError\u001b[0m                                 Traceback (most recent call last)",
            "\u001b[1;32m<ipython-input-22-2776455bf8be>\u001b[0m in \u001b[0;36m<module>\u001b[1;34m\u001b[0m\n\u001b[0;32m      1\u001b[0m \u001b[1;31m# try to add values\u001b[0m\u001b[1;33m\u001b[0m\u001b[1;33m\u001b[0m\u001b[1;33m\u001b[0m\u001b[0m\n\u001b[0;32m      2\u001b[0m \u001b[0mtup1\u001b[0m \u001b[1;33m=\u001b[0m \u001b[1;33m(\u001b[0m\u001b[1;36m1\u001b[0m\u001b[1;33m,\u001b[0m\u001b[1;36m2\u001b[0m\u001b[1;33m,\u001b[0m\u001b[1;36m3\u001b[0m\u001b[1;33m,\u001b[0m\u001b[1;36m4\u001b[0m\u001b[1;33m,\u001b[0m\u001b[1;36m5\u001b[0m\u001b[1;33m)\u001b[0m\u001b[1;33m\u001b[0m\u001b[1;33m\u001b[0m\u001b[0m\n\u001b[1;32m----> 3\u001b[1;33m \u001b[0mtup1\u001b[0m\u001b[1;33m[\u001b[0m\u001b[1;36m5\u001b[0m\u001b[1;33m]\u001b[0m \u001b[1;33m=\u001b[0m \u001b[1;36m6\u001b[0m \u001b[1;31m# Error\u001b[0m\u001b[1;33m\u001b[0m\u001b[1;33m\u001b[0m\u001b[0m\n\u001b[0m",
            "\u001b[1;31mTypeError\u001b[0m: 'tuple' object does not support item assignment"
          ]
        }
      ]
    },
    {
      "cell_type": "code",
      "metadata": {
        "id": "y9ow1-sZJWbt",
        "outputId": "eef4083e-0b77-4b0d-9c37-fb8f5cd552ec"
      },
      "source": [
        "# remove \n",
        "tup1.pop()"
      ],
      "execution_count": null,
      "outputs": [
        {
          "ename": "AttributeError",
          "evalue": "'tuple' object has no attribute 'pop'",
          "output_type": "error",
          "traceback": [
            "\u001b[1;31m---------------------------------------------------------------------------\u001b[0m",
            "\u001b[1;31mAttributeError\u001b[0m                            Traceback (most recent call last)",
            "\u001b[1;32m<ipython-input-23-0e90f14e232e>\u001b[0m in \u001b[0;36m<module>\u001b[1;34m\u001b[0m\n\u001b[0;32m      1\u001b[0m \u001b[1;31m# remove\u001b[0m\u001b[1;33m\u001b[0m\u001b[1;33m\u001b[0m\u001b[1;33m\u001b[0m\u001b[0m\n\u001b[1;32m----> 2\u001b[1;33m \u001b[0mtup1\u001b[0m\u001b[1;33m.\u001b[0m\u001b[0mpop\u001b[0m\u001b[1;33m(\u001b[0m\u001b[1;33m)\u001b[0m\u001b[1;33m\u001b[0m\u001b[1;33m\u001b[0m\u001b[0m\n\u001b[0m",
            "\u001b[1;31mAttributeError\u001b[0m: 'tuple' object has no attribute 'pop'"
          ]
        }
      ]
    },
    {
      "cell_type": "code",
      "metadata": {
        "id": "0w3vgAyYJWbu",
        "outputId": "664bd5f0-ba14-4fb2-f3af-47a4c46d827a"
      },
      "source": [
        "# modify the values\n",
        "tup1"
      ],
      "execution_count": null,
      "outputs": [
        {
          "data": {
            "text/plain": [
              "(1, 2, 3, 4, 5)"
            ]
          },
          "execution_count": 24,
          "metadata": {},
          "output_type": "execute_result"
        }
      ]
    },
    {
      "cell_type": "code",
      "metadata": {
        "id": "hVqxp8RGJWbu",
        "outputId": "c7a4c61f-b469-488c-b3ed-5c73d704b4b3"
      },
      "source": [
        "tup1[0] = 100 #Error"
      ],
      "execution_count": null,
      "outputs": [
        {
          "ename": "TypeError",
          "evalue": "'tuple' object does not support item assignment",
          "output_type": "error",
          "traceback": [
            "\u001b[1;31m---------------------------------------------------------------------------\u001b[0m",
            "\u001b[1;31mTypeError\u001b[0m                                 Traceback (most recent call last)",
            "\u001b[1;32m<ipython-input-25-034a7a67b47e>\u001b[0m in \u001b[0;36m<module>\u001b[1;34m\u001b[0m\n\u001b[1;32m----> 1\u001b[1;33m \u001b[0mtup1\u001b[0m\u001b[1;33m[\u001b[0m\u001b[1;36m0\u001b[0m\u001b[1;33m]\u001b[0m \u001b[1;33m=\u001b[0m \u001b[1;36m100\u001b[0m\u001b[1;33m\u001b[0m\u001b[1;33m\u001b[0m\u001b[0m\n\u001b[0m",
            "\u001b[1;31mTypeError\u001b[0m: 'tuple' object does not support item assignment"
          ]
        }
      ]
    },
    {
      "cell_type": "markdown",
      "metadata": {
        "id": "NtKJu0IyJWbu"
      },
      "source": [
        "#### workaround to modify the values"
      ]
    },
    {
      "cell_type": "code",
      "metadata": {
        "id": "j5rRgG1gJWbu",
        "outputId": "2fb3c5db-448f-4c79-ac2f-8b4e849c46b0"
      },
      "source": [
        "# My original tuple\n",
        "tup1"
      ],
      "execution_count": null,
      "outputs": [
        {
          "data": {
            "text/plain": [
              "(1, 2, 3, 4, 5)"
            ]
          },
          "execution_count": 26,
          "metadata": {},
          "output_type": "execute_result"
        }
      ]
    },
    {
      "cell_type": "code",
      "metadata": {
        "id": "DfGM0temJWbv",
        "outputId": "c1d7d0df-4b2a-416d-8120-9ab936640af0"
      },
      "source": [
        "#Convert to list \n",
        "list1 = list(tup1)\n",
        "list1"
      ],
      "execution_count": null,
      "outputs": [
        {
          "data": {
            "text/plain": [
              "[1, 2, 3, 4, 5]"
            ]
          },
          "execution_count": 27,
          "metadata": {},
          "output_type": "execute_result"
        }
      ]
    },
    {
      "cell_type": "code",
      "metadata": {
        "id": "7Neqi37YJWbv",
        "outputId": "0c1dd237-a276-40c6-8beb-35f2c70f58a2"
      },
      "source": [
        "#Modify the value\n",
        "list1[0] = 100\n",
        "list1"
      ],
      "execution_count": null,
      "outputs": [
        {
          "data": {
            "text/plain": [
              "[100, 2, 3, 4, 5]"
            ]
          },
          "execution_count": 28,
          "metadata": {},
          "output_type": "execute_result"
        }
      ]
    },
    {
      "cell_type": "code",
      "metadata": {
        "id": "4-8I4UmWJWbv",
        "outputId": "50b96416-5a03-4e4e-c7b5-dd6486a77907"
      },
      "source": [
        "#again convert to tuple\n",
        "tup1 = tuple(list1)\n",
        "tup1"
      ],
      "execution_count": null,
      "outputs": [
        {
          "data": {
            "text/plain": [
              "(100, 2, 3, 4, 5)"
            ]
          },
          "execution_count": 29,
          "metadata": {},
          "output_type": "execute_result"
        }
      ]
    },
    {
      "cell_type": "markdown",
      "metadata": {
        "id": "5ERD8sJVJWbw"
      },
      "source": [
        "#### To check a perticular value is present "
      ]
    },
    {
      "cell_type": "code",
      "metadata": {
        "id": "3_vSSPgSJWbw",
        "outputId": "d4d0f0bc-d44c-4000-f0ae-3000d5134b27"
      },
      "source": [
        "#use 'in' operator\n",
        "#syntax ---> item in object\n",
        "tup1\n",
        "print(100 in tup1)"
      ],
      "execution_count": null,
      "outputs": [
        {
          "name": "stdout",
          "output_type": "stream",
          "text": [
            "True\n"
          ]
        }
      ]
    },
    {
      "cell_type": "code",
      "metadata": {
        "id": "Uow1UDXJJWbw",
        "outputId": "3d833600-253b-45d0-e92c-8ee3afb6857a"
      },
      "source": [
        "print(200 in tup1)"
      ],
      "execution_count": null,
      "outputs": [
        {
          "name": "stdout",
          "output_type": "stream",
          "text": [
            "False\n"
          ]
        }
      ]
    },
    {
      "cell_type": "markdown",
      "metadata": {
        "id": "VbZvA6KyJWbx"
      },
      "source": [
        "#### Joining tuples"
      ]
    },
    {
      "cell_type": "code",
      "metadata": {
        "id": "jL9taSUVJWbx",
        "outputId": "df76f4a4-51be-4621-df9e-613759004c67"
      },
      "source": [
        "tup1 = (1,2,3,4)\n",
        "tup2 = (\"a\",\"b\",\"C\",\"d\")\n",
        "\n",
        "tup3 = tup1 + tup2\n",
        "tup3"
      ],
      "execution_count": null,
      "outputs": [
        {
          "data": {
            "text/plain": [
              "(1, 2, 3, 4, 'a', 'b', 'C', 'd')"
            ]
          },
          "execution_count": 32,
          "metadata": {},
          "output_type": "execute_result"
        }
      ]
    },
    {
      "cell_type": "markdown",
      "metadata": {
        "id": "ncrb4CnvJWbx"
      },
      "source": [
        "#### some inbuilt methods"
      ]
    },
    {
      "cell_type": "code",
      "metadata": {
        "id": "nOssh9yOJWbx"
      },
      "source": [
        "# tup\n",
        "tup = (1,2,3,4,1,1,2,1,2,3,6)"
      ],
      "execution_count": null,
      "outputs": []
    },
    {
      "cell_type": "markdown",
      "metadata": {
        "id": "NbrAHNy3JWby"
      },
      "source": [
        "##### 1) count(item)\n",
        "Returns the number of times a specified item occurs in a tuple"
      ]
    },
    {
      "cell_type": "code",
      "metadata": {
        "id": "rSiClI-RJWby",
        "outputId": "0f793d1f-7341-4067-a0df-54ccc232afe0"
      },
      "source": [
        "tup.count(1)"
      ],
      "execution_count": null,
      "outputs": [
        {
          "data": {
            "text/plain": [
              "4"
            ]
          },
          "execution_count": 34,
          "metadata": {},
          "output_type": "execute_result"
        }
      ]
    },
    {
      "cell_type": "code",
      "metadata": {
        "id": "kW8WhkzzJWby",
        "outputId": "268bbcdc-c357-487d-f423-5bb485594d02"
      },
      "source": [
        "tup.count(2)"
      ],
      "execution_count": null,
      "outputs": [
        {
          "data": {
            "text/plain": [
              "3"
            ]
          },
          "execution_count": 35,
          "metadata": {},
          "output_type": "execute_result"
        }
      ]
    },
    {
      "cell_type": "markdown",
      "metadata": {
        "id": "YfybmpbfJWbz"
      },
      "source": [
        "##### 2) index(item)\n",
        "Returns the first index of specified item.\n",
        "If item is not present it will give error"
      ]
    },
    {
      "cell_type": "code",
      "metadata": {
        "id": "_IYBmkU-JWbz",
        "outputId": "80fe87c1-06d2-40eb-99ac-8c39c84977fd"
      },
      "source": [
        "tup.index(3)"
      ],
      "execution_count": null,
      "outputs": [
        {
          "data": {
            "text/plain": [
              "2"
            ]
          },
          "execution_count": 36,
          "metadata": {},
          "output_type": "execute_result"
        }
      ]
    },
    {
      "cell_type": "markdown",
      "metadata": {
        "id": "I7vnk0cdJWbz"
      },
      "source": [
        "### Task6 -  Add and remove the elements from a tuple. (Refer workaroud to modify the tuples)"
      ]
    },
    {
      "cell_type": "code",
      "metadata": {
        "colab": {
          "base_uri": "https://localhost:8080/"
        },
        "id": "u7VYYpT4JWbz",
        "outputId": "bc4e04f6-37a1-4e50-c23d-fd4a8be92131"
      },
      "source": [
        "num = (1,2,3,4,5,6,7,8,9,10,11)\n",
        "type(num)"
      ],
      "execution_count": 2,
      "outputs": [
        {
          "output_type": "execute_result",
          "data": {
            "text/plain": [
              "tuple"
            ]
          },
          "metadata": {},
          "execution_count": 2
        }
      ]
    },
    {
      "cell_type": "code",
      "metadata": {
        "colab": {
          "base_uri": "https://localhost:8080/"
        },
        "id": "PTam8VUuJv3X",
        "outputId": "a7e04f0b-2c46-4425-c872-c1c840cf08d4"
      },
      "source": [
        "list1 = list(num)\n",
        "list1"
      ],
      "execution_count": 3,
      "outputs": [
        {
          "output_type": "execute_result",
          "data": {
            "text/plain": [
              "[1, 2, 3, 4, 5, 6, 7, 8, 9, 10, 11]"
            ]
          },
          "metadata": {},
          "execution_count": 3
        }
      ]
    },
    {
      "cell_type": "code",
      "metadata": {
        "colab": {
          "base_uri": "https://localhost:8080/"
        },
        "id": "hcCGcVfRJ1V4",
        "outputId": "d78e1728-4e9c-40d4-9bfe-2a362cc3865a"
      },
      "source": [
        "list1[0]=13\n",
        "list1"
      ],
      "execution_count": 6,
      "outputs": [
        {
          "output_type": "execute_result",
          "data": {
            "text/plain": [
              "[13, 2, 3, 4, 5, 6, 7, 8, 9, 10, 11]"
            ]
          },
          "metadata": {},
          "execution_count": 6
        }
      ]
    },
    {
      "cell_type": "code",
      "metadata": {
        "colab": {
          "base_uri": "https://localhost:8080/"
        },
        "id": "cRGndL7pKOqW",
        "outputId": "0196efba-49c8-4a19-81c8-f89ab73e6cb4"
      },
      "source": [
        "list1.pop(0)\n",
        "list1"
      ],
      "execution_count": 8,
      "outputs": [
        {
          "output_type": "execute_result",
          "data": {
            "text/plain": [
              "[3, 4, 5, 6, 7, 8, 9, 10, 11]"
            ]
          },
          "metadata": {},
          "execution_count": 8
        }
      ]
    }
  ]
}